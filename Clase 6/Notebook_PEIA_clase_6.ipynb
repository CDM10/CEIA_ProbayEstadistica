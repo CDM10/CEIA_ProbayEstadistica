{
  "nbformat": 4,
  "nbformat_minor": 0,
  "metadata": {
    "colab": {
      "name": "Notebook PEIA clase 6",
      "provenance": []
    },
    "kernelspec": {
      "name": "python3",
      "display_name": "Python 3"
    },
    "language_info": {
      "name": "python"
    }
  },
  "cells": [
    {
      "cell_type": "code",
      "execution_count": 5,
      "metadata": {
        "id": "ZdsNAl1ALMpN"
      },
      "outputs": [],
      "source": [
        "import numpy as np\n",
        "from scipy import stats\n",
        "import pandas as pd"
      ]
    },
    {
      "cell_type": "markdown",
      "source": [
        "# Ejercicio 6 de IC"
      ],
      "metadata": {
        "id": "X36x5Q_uLWcC"
      }
    },
    {
      "cell_type": "markdown",
      "source": [
        "Cargo el dataset"
      ],
      "metadata": {
        "id": "r6TeZucU_l39"
      }
    },
    {
      "cell_type": "code",
      "source": [
        "data = pd.read_csv('Islander_data.csv')\n",
        "data.head()"
      ],
      "metadata": {
        "colab": {
          "base_uri": "https://localhost:8080/",
          "height": 206
        },
        "id": "aMf5qdsPLVOJ",
        "outputId": "bc56cd75-928b-40e8-da4b-52ee43fa008f"
      },
      "execution_count": 3,
      "outputs": [
        {
          "output_type": "execute_result",
          "data": {
            "text/plain": [
              "  first_name last_name  age Happy_Sad_group  Dosage Drug  Mem_Score_Before  \\\n",
              "0    Bastian  Carrasco   25               H       1    A              63.5   \n",
              "1       Evan  Carrasco   52               S       1    A              41.6   \n",
              "2  Florencia  Carrasco   29               H       1    A              59.7   \n",
              "3      Holly  Carrasco   50               S       1    A              51.7   \n",
              "4     Justin  Carrasco   52               H       1    A              47.0   \n",
              "\n",
              "   Mem_Score_After  Diff  \n",
              "0             61.2  -2.3  \n",
              "1             40.7  -0.9  \n",
              "2             55.1  -4.6  \n",
              "3             51.2  -0.5  \n",
              "4             47.1   0.1  "
            ],
            "text/html": [
              "\n",
              "  <div id=\"df-486101dd-7a3a-4078-9d8d-4083caf7b670\">\n",
              "    <div class=\"colab-df-container\">\n",
              "      <div>\n",
              "<style scoped>\n",
              "    .dataframe tbody tr th:only-of-type {\n",
              "        vertical-align: middle;\n",
              "    }\n",
              "\n",
              "    .dataframe tbody tr th {\n",
              "        vertical-align: top;\n",
              "    }\n",
              "\n",
              "    .dataframe thead th {\n",
              "        text-align: right;\n",
              "    }\n",
              "</style>\n",
              "<table border=\"1\" class=\"dataframe\">\n",
              "  <thead>\n",
              "    <tr style=\"text-align: right;\">\n",
              "      <th></th>\n",
              "      <th>first_name</th>\n",
              "      <th>last_name</th>\n",
              "      <th>age</th>\n",
              "      <th>Happy_Sad_group</th>\n",
              "      <th>Dosage</th>\n",
              "      <th>Drug</th>\n",
              "      <th>Mem_Score_Before</th>\n",
              "      <th>Mem_Score_After</th>\n",
              "      <th>Diff</th>\n",
              "    </tr>\n",
              "  </thead>\n",
              "  <tbody>\n",
              "    <tr>\n",
              "      <th>0</th>\n",
              "      <td>Bastian</td>\n",
              "      <td>Carrasco</td>\n",
              "      <td>25</td>\n",
              "      <td>H</td>\n",
              "      <td>1</td>\n",
              "      <td>A</td>\n",
              "      <td>63.5</td>\n",
              "      <td>61.2</td>\n",
              "      <td>-2.3</td>\n",
              "    </tr>\n",
              "    <tr>\n",
              "      <th>1</th>\n",
              "      <td>Evan</td>\n",
              "      <td>Carrasco</td>\n",
              "      <td>52</td>\n",
              "      <td>S</td>\n",
              "      <td>1</td>\n",
              "      <td>A</td>\n",
              "      <td>41.6</td>\n",
              "      <td>40.7</td>\n",
              "      <td>-0.9</td>\n",
              "    </tr>\n",
              "    <tr>\n",
              "      <th>2</th>\n",
              "      <td>Florencia</td>\n",
              "      <td>Carrasco</td>\n",
              "      <td>29</td>\n",
              "      <td>H</td>\n",
              "      <td>1</td>\n",
              "      <td>A</td>\n",
              "      <td>59.7</td>\n",
              "      <td>55.1</td>\n",
              "      <td>-4.6</td>\n",
              "    </tr>\n",
              "    <tr>\n",
              "      <th>3</th>\n",
              "      <td>Holly</td>\n",
              "      <td>Carrasco</td>\n",
              "      <td>50</td>\n",
              "      <td>S</td>\n",
              "      <td>1</td>\n",
              "      <td>A</td>\n",
              "      <td>51.7</td>\n",
              "      <td>51.2</td>\n",
              "      <td>-0.5</td>\n",
              "    </tr>\n",
              "    <tr>\n",
              "      <th>4</th>\n",
              "      <td>Justin</td>\n",
              "      <td>Carrasco</td>\n",
              "      <td>52</td>\n",
              "      <td>H</td>\n",
              "      <td>1</td>\n",
              "      <td>A</td>\n",
              "      <td>47.0</td>\n",
              "      <td>47.1</td>\n",
              "      <td>0.1</td>\n",
              "    </tr>\n",
              "  </tbody>\n",
              "</table>\n",
              "</div>\n",
              "      <button class=\"colab-df-convert\" onclick=\"convertToInteractive('df-486101dd-7a3a-4078-9d8d-4083caf7b670')\"\n",
              "              title=\"Convert this dataframe to an interactive table.\"\n",
              "              style=\"display:none;\">\n",
              "        \n",
              "  <svg xmlns=\"http://www.w3.org/2000/svg\" height=\"24px\"viewBox=\"0 0 24 24\"\n",
              "       width=\"24px\">\n",
              "    <path d=\"M0 0h24v24H0V0z\" fill=\"none\"/>\n",
              "    <path d=\"M18.56 5.44l.94 2.06.94-2.06 2.06-.94-2.06-.94-.94-2.06-.94 2.06-2.06.94zm-11 1L8.5 8.5l.94-2.06 2.06-.94-2.06-.94L8.5 2.5l-.94 2.06-2.06.94zm10 10l.94 2.06.94-2.06 2.06-.94-2.06-.94-.94-2.06-.94 2.06-2.06.94z\"/><path d=\"M17.41 7.96l-1.37-1.37c-.4-.4-.92-.59-1.43-.59-.52 0-1.04.2-1.43.59L10.3 9.45l-7.72 7.72c-.78.78-.78 2.05 0 2.83L4 21.41c.39.39.9.59 1.41.59.51 0 1.02-.2 1.41-.59l7.78-7.78 2.81-2.81c.8-.78.8-2.07 0-2.86zM5.41 20L4 18.59l7.72-7.72 1.47 1.35L5.41 20z\"/>\n",
              "  </svg>\n",
              "      </button>\n",
              "      \n",
              "  <style>\n",
              "    .colab-df-container {\n",
              "      display:flex;\n",
              "      flex-wrap:wrap;\n",
              "      gap: 12px;\n",
              "    }\n",
              "\n",
              "    .colab-df-convert {\n",
              "      background-color: #E8F0FE;\n",
              "      border: none;\n",
              "      border-radius: 50%;\n",
              "      cursor: pointer;\n",
              "      display: none;\n",
              "      fill: #1967D2;\n",
              "      height: 32px;\n",
              "      padding: 0 0 0 0;\n",
              "      width: 32px;\n",
              "    }\n",
              "\n",
              "    .colab-df-convert:hover {\n",
              "      background-color: #E2EBFA;\n",
              "      box-shadow: 0px 1px 2px rgba(60, 64, 67, 0.3), 0px 1px 3px 1px rgba(60, 64, 67, 0.15);\n",
              "      fill: #174EA6;\n",
              "    }\n",
              "\n",
              "    [theme=dark] .colab-df-convert {\n",
              "      background-color: #3B4455;\n",
              "      fill: #D2E3FC;\n",
              "    }\n",
              "\n",
              "    [theme=dark] .colab-df-convert:hover {\n",
              "      background-color: #434B5C;\n",
              "      box-shadow: 0px 1px 3px 1px rgba(0, 0, 0, 0.15);\n",
              "      filter: drop-shadow(0px 1px 2px rgba(0, 0, 0, 0.3));\n",
              "      fill: #FFFFFF;\n",
              "    }\n",
              "  </style>\n",
              "\n",
              "      <script>\n",
              "        const buttonEl =\n",
              "          document.querySelector('#df-486101dd-7a3a-4078-9d8d-4083caf7b670 button.colab-df-convert');\n",
              "        buttonEl.style.display =\n",
              "          google.colab.kernel.accessAllowed ? 'block' : 'none';\n",
              "\n",
              "        async function convertToInteractive(key) {\n",
              "          const element = document.querySelector('#df-486101dd-7a3a-4078-9d8d-4083caf7b670');\n",
              "          const dataTable =\n",
              "            await google.colab.kernel.invokeFunction('convertToInteractive',\n",
              "                                                     [key], {});\n",
              "          if (!dataTable) return;\n",
              "\n",
              "          const docLinkHtml = 'Like what you see? Visit the ' +\n",
              "            '<a target=\"_blank\" href=https://colab.research.google.com/notebooks/data_table.ipynb>data table notebook</a>'\n",
              "            + ' to learn more about interactive tables.';\n",
              "          element.innerHTML = '';\n",
              "          dataTable['output_type'] = 'display_data';\n",
              "          await google.colab.output.renderOutput(dataTable, element);\n",
              "          const docLink = document.createElement('div');\n",
              "          docLink.innerHTML = docLinkHtml;\n",
              "          element.appendChild(docLink);\n",
              "        }\n",
              "      </script>\n",
              "    </div>\n",
              "  </div>\n",
              "  "
            ]
          },
          "metadata": {},
          "execution_count": 3
        }
      ]
    },
    {
      "cell_type": "markdown",
      "source": [
        "# Ej 2 de test de hipotesis"
      ],
      "metadata": {
        "id": "b2XupMI-e0kD"
      }
    },
    {
      "cell_type": "markdown",
      "source": [
        "Genero las muestras uniformes "
      ],
      "metadata": {
        "id": "sEGGQ6pkfXPE"
      }
    },
    {
      "cell_type": "code",
      "source": [
        "x = stats.uniform.rvs(0,3, size=20)"
      ],
      "metadata": {
        "id": "a7A_iSp-Lrkj"
      },
      "execution_count": 8,
      "outputs": []
    },
    {
      "cell_type": "markdown",
      "source": [
        "Calculo es valor del estadístico a partir de las muestras observadas"
      ],
      "metadata": {
        "id": "qUZUwhn8fcVU"
      }
    },
    {
      "cell_type": "code",
      "source": [
        "max(x)/2.5"
      ],
      "metadata": {
        "colab": {
          "base_uri": "https://localhost:8080/"
        },
        "id": "CpKTUqiYfDsp",
        "outputId": "82507cab-fe92-4c85-9a00-a40f6a180f25"
      },
      "execution_count": 10,
      "outputs": [
        {
          "output_type": "execute_result",
          "data": {
            "text/plain": [
              "1.1882759018660298"
            ]
          },
          "metadata": {},
          "execution_count": 10
        }
      ]
    },
    {
      "cell_type": "markdown",
      "source": [
        "Para el n dado, calculo cuanto vale $k_\\alpha$"
      ],
      "metadata": {
        "id": "HbV8WK0ffgf5"
      }
    },
    {
      "cell_type": "code",
      "source": [
        "0.95**(1/20)"
      ],
      "metadata": {
        "colab": {
          "base_uri": "https://localhost:8080/"
        },
        "id": "dBK6_48WfEEk",
        "outputId": "4e8e6cb1-a81c-455f-9a13-1d3ec31339b5"
      },
      "execution_count": 11,
      "outputs": [
        {
          "output_type": "execute_result",
          "data": {
            "text/plain": [
              "0.9974386212234697"
            ]
          },
          "metadata": {},
          "execution_count": 11
        }
      ]
    },
    {
      "cell_type": "markdown",
      "source": [
        "# ejercicio 3 de test de hipotesis"
      ],
      "metadata": {
        "id": "H6zrqMXilDNs"
      }
    },
    {
      "cell_type": "markdown",
      "source": [
        "Calculo el cuantil 0.99 de la normal estándar"
      ],
      "metadata": {
        "id": "ubG7kPpYfoij"
      }
    },
    {
      "cell_type": "code",
      "source": [
        "stats.norm.ppf(0.99)"
      ],
      "metadata": {
        "colab": {
          "base_uri": "https://localhost:8080/"
        },
        "id": "JKdFBqF5fgbj",
        "outputId": "84f47dfb-1cd0-4848-b143-8fda04477c69"
      },
      "execution_count": 12,
      "outputs": [
        {
          "output_type": "execute_result",
          "data": {
            "text/plain": [
              "2.3263478740408408"
            ]
          },
          "metadata": {},
          "execution_count": 12
        }
      ]
    },
    {
      "cell_type": "markdown",
      "source": [
        "Calculo el valor del estadístico basado en el valor de la muestra observada"
      ],
      "metadata": {
        "id": "AjRltRZYfuEu"
      }
    },
    {
      "cell_type": "code",
      "source": [
        "(.62-.5)/(.5) *10"
      ],
      "metadata": {
        "colab": {
          "base_uri": "https://localhost:8080/"
        },
        "id": "7nZP1vjslKSw",
        "outputId": "35346dec-7f1e-4ec0-aa4f-f26a4d3ea203"
      },
      "execution_count": 13,
      "outputs": [
        {
          "output_type": "execute_result",
          "data": {
            "text/plain": [
              "2.4"
            ]
          },
          "metadata": {},
          "execution_count": 13
        }
      ]
    },
    {
      "cell_type": "markdown",
      "source": [
        "Calculo el p-valor asociado a la observación"
      ],
      "metadata": {
        "id": "a0_EUk4Qf0Cr"
      }
    },
    {
      "cell_type": "code",
      "source": [
        "1-stats.norm.cdf(2.4)"
      ],
      "metadata": {
        "colab": {
          "base_uri": "https://localhost:8080/"
        },
        "id": "3KPqcpoGlrrm",
        "outputId": "be89ea18-03b0-4479-f4ac-743815cdf96c"
      },
      "execution_count": 14,
      "outputs": [
        {
          "output_type": "execute_result",
          "data": {
            "text/plain": [
              "0.008197535924596155"
            ]
          },
          "metadata": {},
          "execution_count": 14
        }
      ]
    },
    {
      "cell_type": "markdown",
      "source": [
        "Calculo el valor del error de tipo II para p=0.6:\n",
        "1. reestandarizo el promedio y recalculo el valor donde voy aevaluar la proba acumulada\n",
        "2. Calculo la proba en ese punto"
      ],
      "metadata": {
        "id": "xBkV7FgTf8s0"
      }
    },
    {
      "cell_type": "code",
      "source": [
        "z = 2.33*0.5/np.sqrt(0.6*0.4) + (0.5-0.6)*10/np.sqrt(0.6*0.4)"
      ],
      "metadata": {
        "id": "LBeQX4-kmq8e"
      },
      "execution_count": 17,
      "outputs": []
    },
    {
      "cell_type": "code",
      "source": [
        "stats.norm.cdf(z)"
      ],
      "metadata": {
        "colab": {
          "base_uri": "https://localhost:8080/"
        },
        "id": "aU-zhryZoYlV",
        "outputId": "d41fe26d-a8a7-42a8-8489-ff43c7fb0e68"
      },
      "execution_count": 18,
      "outputs": [
        {
          "output_type": "execute_result",
          "data": {
            "text/plain": [
              "0.6318679877370295"
            ]
          },
          "metadata": {},
          "execution_count": 18
        }
      ]
    },
    {
      "cell_type": "markdown",
      "source": [
        "# ejercicio 4 test de hipótesis"
      ],
      "metadata": {
        "id": "8Ob3QJUTrqJY"
      }
    },
    {
      "cell_type": "markdown",
      "source": [
        "Calculo el cuantil 0.01 para hallar $k_\\alpha$"
      ],
      "metadata": {
        "id": "HG97JelygcT8"
      }
    },
    {
      "cell_type": "code",
      "source": [
        "stats.norm.ppf(0.01)"
      ],
      "metadata": {
        "colab": {
          "base_uri": "https://localhost:8080/"
        },
        "id": "Ou4BlxsFpH_H",
        "outputId": "d57056d2-d1ec-475a-9841-00f2e33c8ef1"
      },
      "execution_count": 19,
      "outputs": [
        {
          "output_type": "execute_result",
          "data": {
            "text/plain": [
              "-2.3263478740408408"
            ]
          },
          "metadata": {},
          "execution_count": 19
        }
      ]
    },
    {
      "cell_type": "markdown",
      "source": [
        "Creo mis muestras a partir de la diferencia de tiempos"
      ],
      "metadata": {
        "id": "Ld6SE1Bzgi-P"
      }
    },
    {
      "cell_type": "code",
      "source": [
        "x = data.Mem_Score_After - data.Mem_Score_Before"
      ],
      "metadata": {
        "id": "Ms6Ke7wurt7J"
      },
      "execution_count": 24,
      "outputs": []
    },
    {
      "cell_type": "markdown",
      "source": [
        "Calculo media y desvío muestral"
      ],
      "metadata": {
        "id": "aSvn6pSHgme1"
      }
    },
    {
      "cell_type": "code",
      "source": [
        "media = x.mean()\n",
        "sigma = x.std()"
      ],
      "metadata": {
        "id": "2guzslJnr7CO"
      },
      "execution_count": 25,
      "outputs": []
    },
    {
      "cell_type": "markdown",
      "source": [
        "calculo el valor del estadístico basado en las observaciones"
      ],
      "metadata": {
        "id": "kMomqGDegpJA"
      }
    },
    {
      "cell_type": "code",
      "source": [
        "u = media/sigma*np.sqrt(len(x))"
      ],
      "metadata": {
        "id": "-zzROX5WsAbW"
      },
      "execution_count": 26,
      "outputs": []
    },
    {
      "cell_type": "code",
      "source": [
        "u"
      ],
      "metadata": {
        "colab": {
          "base_uri": "https://localhost:8080/"
        },
        "id": "7npzSGxwsFqU",
        "outputId": "37fd0045-fe15-4d1e-dfea-671c8b25227d"
      },
      "execution_count": 27,
      "outputs": [
        {
          "output_type": "execute_result",
          "data": {
            "text/plain": [
              "3.865706740208396"
            ]
          },
          "metadata": {},
          "execution_count": 27
        }
      ]
    }
  ]
}