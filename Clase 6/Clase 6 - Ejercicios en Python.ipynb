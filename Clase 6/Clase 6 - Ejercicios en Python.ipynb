{
 "cells": [
  {
   "cell_type": "code",
   "execution_count": 1,
   "id": "c3f671fe-8144-41ee-9010-030aea548ca5",
   "metadata": {},
   "outputs": [],
   "source": [
    "from scipy import stats as st\n",
    "import numpy as np\n",
    "import pandas as pd"
   ]
  },
  {
   "cell_type": "markdown",
   "id": "3c3e5a44-c50e-45d8-a7c2-841320f50128",
   "metadata": {},
   "source": [
    "# Ejercicio 7 - Intervalo de confianza"
   ]
  },
  {
   "cell_type": "code",
   "execution_count": 6,
   "id": "4090fb47-b0f8-4060-bdbf-1f9ba9975be5",
   "metadata": {},
   "outputs": [
    {
     "data": {
      "text/html": [
       "<div>\n",
       "<style scoped>\n",
       "    .dataframe tbody tr th:only-of-type {\n",
       "        vertical-align: middle;\n",
       "    }\n",
       "\n",
       "    .dataframe tbody tr th {\n",
       "        vertical-align: top;\n",
       "    }\n",
       "\n",
       "    .dataframe thead th {\n",
       "        text-align: right;\n",
       "    }\n",
       "</style>\n",
       "<table border=\"1\" class=\"dataframe\">\n",
       "  <thead>\n",
       "    <tr style=\"text-align: right;\">\n",
       "      <th></th>\n",
       "      <th>first_name</th>\n",
       "      <th>last_name</th>\n",
       "      <th>age</th>\n",
       "      <th>Happy_Sad_group</th>\n",
       "      <th>Dosage</th>\n",
       "      <th>Drug</th>\n",
       "      <th>Mem_Score_Before</th>\n",
       "      <th>Mem_Score_After</th>\n",
       "      <th>Diff</th>\n",
       "    </tr>\n",
       "  </thead>\n",
       "  <tbody>\n",
       "    <tr>\n",
       "      <th>0</th>\n",
       "      <td>Bastian</td>\n",
       "      <td>Carrasco</td>\n",
       "      <td>25</td>\n",
       "      <td>H</td>\n",
       "      <td>1</td>\n",
       "      <td>A</td>\n",
       "      <td>63.5</td>\n",
       "      <td>61.2</td>\n",
       "      <td>-2.3</td>\n",
       "    </tr>\n",
       "    <tr>\n",
       "      <th>1</th>\n",
       "      <td>Evan</td>\n",
       "      <td>Carrasco</td>\n",
       "      <td>52</td>\n",
       "      <td>S</td>\n",
       "      <td>1</td>\n",
       "      <td>A</td>\n",
       "      <td>41.6</td>\n",
       "      <td>40.7</td>\n",
       "      <td>-0.9</td>\n",
       "    </tr>\n",
       "    <tr>\n",
       "      <th>2</th>\n",
       "      <td>Florencia</td>\n",
       "      <td>Carrasco</td>\n",
       "      <td>29</td>\n",
       "      <td>H</td>\n",
       "      <td>1</td>\n",
       "      <td>A</td>\n",
       "      <td>59.7</td>\n",
       "      <td>55.1</td>\n",
       "      <td>-4.6</td>\n",
       "    </tr>\n",
       "    <tr>\n",
       "      <th>3</th>\n",
       "      <td>Holly</td>\n",
       "      <td>Carrasco</td>\n",
       "      <td>50</td>\n",
       "      <td>S</td>\n",
       "      <td>1</td>\n",
       "      <td>A</td>\n",
       "      <td>51.7</td>\n",
       "      <td>51.2</td>\n",
       "      <td>-0.5</td>\n",
       "    </tr>\n",
       "    <tr>\n",
       "      <th>4</th>\n",
       "      <td>Justin</td>\n",
       "      <td>Carrasco</td>\n",
       "      <td>52</td>\n",
       "      <td>H</td>\n",
       "      <td>1</td>\n",
       "      <td>A</td>\n",
       "      <td>47.0</td>\n",
       "      <td>47.1</td>\n",
       "      <td>0.1</td>\n",
       "    </tr>\n",
       "  </tbody>\n",
       "</table>\n",
       "</div>"
      ],
      "text/plain": [
       "  first_name last_name  age Happy_Sad_group  Dosage Drug  Mem_Score_Before  \\\n",
       "0    Bastian  Carrasco   25               H       1    A              63.5   \n",
       "1       Evan  Carrasco   52               S       1    A              41.6   \n",
       "2  Florencia  Carrasco   29               H       1    A              59.7   \n",
       "3      Holly  Carrasco   50               S       1    A              51.7   \n",
       "4     Justin  Carrasco   52               H       1    A              47.0   \n",
       "\n",
       "   Mem_Score_After  Diff  \n",
       "0             61.2  -2.3  \n",
       "1             40.7  -0.9  \n",
       "2             55.1  -4.6  \n",
       "3             51.2  -0.5  \n",
       "4             47.1   0.1  "
      ]
     },
     "execution_count": 6,
     "metadata": {},
     "output_type": "execute_result"
    }
   ],
   "source": [
    "data = pd.read_csv(r'C:\\Users\\Diego\\Documents\\UBA\\Islander_data.csv')\n",
    "data.head()"
   ]
  },
  {
   "cell_type": "code",
   "execution_count": 10,
   "id": "51af60b8-1a21-4880-b193-a63d642245c1",
   "metadata": {},
   "outputs": [],
   "source": [
    "x = data['Mem_Score_After']"
   ]
  },
  {
   "cell_type": "code",
   "execution_count": 14,
   "id": "6a15f1de-9ae7-467f-98df-87a0447c0f97",
   "metadata": {},
   "outputs": [],
   "source": [
    "n = len(x)"
   ]
  },
  {
   "cell_type": "code",
   "execution_count": 15,
   "id": "d6b326aa-bc79-4bb5-b559-21d106b4394c",
   "metadata": {},
   "outputs": [],
   "source": [
    "prom = x.mean() #estimador de mu\n",
    "desvio = x.std()"
   ]
  },
  {
   "cell_type": "code",
   "execution_count": 18,
   "id": "c8bf73a1-5147-4ee1-b0df-8e39bb702c2d",
   "metadata": {},
   "outputs": [
    {
     "data": {
      "text/plain": [
       "[58.3964, 63.4481]"
      ]
     },
     "execution_count": 18,
     "metadata": {},
     "output_type": "execute_result"
    }
   ],
   "source": [
    "IC = [round(prom - st.norm.ppf(0.975) * desvio / np.sqrt(n), 4) , round(prom + st.norm.ppf(0.975) * desvio / np.sqrt(n), 4)]\n",
    "IC"
   ]
  },
  {
   "cell_type": "code",
   "execution_count": 19,
   "id": "46e09c78-12fe-4151-85cc-e1d73a286f58",
   "metadata": {},
   "outputs": [
    {
     "data": {
      "text/plain": [
       "(58.380771059324545, 63.46367338511985)"
      ]
     },
     "execution_count": 19,
     "metadata": {},
     "output_type": "execute_result"
    }
   ],
   "source": [
    "st.t.interval(alpha=0.95, df=len(x)-1, loc=np.mean(x), scale=st.sem(x))"
   ]
  },
  {
   "cell_type": "markdown",
   "id": "23ecfc66-1de4-4b49-959c-a118b9244ba3",
   "metadata": {},
   "source": [
    "# Test de hipótesis"
   ]
  },
  {
   "cell_type": "markdown",
   "id": "acd7ee1d-a500-409e-9042-97078ab412a7",
   "metadata": {},
   "source": [
    "## Ejercicio 2"
   ]
  },
  {
   "cell_type": "markdown",
   "id": "1fa7fa3f-21d6-4f0c-a56b-9b8822ac04ee",
   "metadata": {},
   "source": [
    "## Simular una muestra de 20 con tita =3"
   ]
  },
  {
   "cell_type": "code",
   "execution_count": 22,
   "id": "cce77ffe-4a5b-4345-94c6-43b62ec131c5",
   "metadata": {},
   "outputs": [
    {
     "data": {
      "text/plain": [
       "array([2.71027   , 2.48249645, 1.066154  , 0.14157876, 0.38860397,\n",
       "       1.8139155 , 1.25872859, 2.48287341, 1.02150216, 0.44544762,\n",
       "       0.70855592, 1.40464333, 1.01013196, 2.10492828, 0.35441111,\n",
       "       1.83565004, 0.64556988, 0.6922424 , 1.28013225, 2.33654368])"
      ]
     },
     "execution_count": 22,
     "metadata": {},
     "output_type": "execute_result"
    }
   ],
   "source": [
    "x = st.uniform.rvs(0,3,20)\n",
    "x"
   ]
  },
  {
   "cell_type": "code",
   "execution_count": 27,
   "id": "5e79cf8e-0ca3-44ae-abc5-fe02043f402e",
   "metadata": {},
   "outputs": [
    {
     "data": {
      "text/plain": [
       "2.7102700014711982"
      ]
     },
     "execution_count": 27,
     "metadata": {},
     "output_type": "execute_result"
    }
   ],
   "source": [
    "max(x)\n"
   ]
  },
  {
   "cell_type": "code",
   "execution_count": 25,
   "id": "04be613c-3701-400c-9390-d872470d561a",
   "metadata": {},
   "outputs": [
    {
     "data": {
      "text/plain": [
       "0.9974386212234697"
      ]
     },
     "execution_count": 25,
     "metadata": {},
     "output_type": "execute_result"
    }
   ],
   "source": [
    "k = 0.95**(1/20)\n",
    "k"
   ]
  },
  {
   "cell_type": "code",
   "execution_count": null,
   "id": "7c261d4d-7cb4-4c5b-9892-ff4bf696e6b6",
   "metadata": {},
   "outputs": [],
   "source": []
  }
 ],
 "metadata": {
  "kernelspec": {
   "display_name": "Python 3 (ipykernel)",
   "language": "python",
   "name": "python3"
  },
  "language_info": {
   "codemirror_mode": {
    "name": "ipython",
    "version": 3
   },
   "file_extension": ".py",
   "mimetype": "text/x-python",
   "name": "python",
   "nbconvert_exporter": "python",
   "pygments_lexer": "ipython3",
   "version": "3.9.12"
  }
 },
 "nbformat": 4,
 "nbformat_minor": 5
}
