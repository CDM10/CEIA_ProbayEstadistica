{
 "cells": [
  {
   "cell_type": "code",
   "execution_count": 40,
   "id": "87b1c37d-b9fd-445f-abb1-8750a8b3e0a9",
   "metadata": {},
   "outputs": [],
   "source": [
    "import numpy as np\n",
    "import pandas as pd\n",
    "from scipy import stats "
   ]
  },
  {
   "cell_type": "markdown",
   "id": "b5bb4a02-1321-43e9-9de0-c979c499e3f6",
   "metadata": {},
   "source": [
    "Ejercico 2"
   ]
  },
  {
   "cell_type": "code",
   "execution_count": 23,
   "id": "534ffdeb-7ee1-4d54-87b2-a3ad70dff191",
   "metadata": {},
   "outputs": [],
   "source": [
    "theta = 2.55"
   ]
  },
  {
   "cell_type": "code",
   "execution_count": 24,
   "id": "7e2de5a3-e793-41dc-8834-e5d7baf0a286",
   "metadata": {},
   "outputs": [],
   "source": [
    "x = np.random.uniform(0,theta, size=25)"
   ]
  },
  {
   "cell_type": "code",
   "execution_count": 25,
   "id": "9b925837-01c1-45e6-a256-648b3b8ff611",
   "metadata": {},
   "outputs": [
    {
     "data": {
      "text/plain": [
       "1.9752642048711737"
      ]
     },
     "execution_count": 25,
     "metadata": {},
     "output_type": "execute_result"
    }
   ],
   "source": [
    "max(x)"
   ]
  },
  {
   "cell_type": "code",
   "execution_count": 26,
   "id": "6172917b-356e-4e53-9585-e544495caad6",
   "metadata": {},
   "outputs": [
    {
     "data": {
      "text/plain": [
       "0.7901056819484695"
      ]
     },
     "execution_count": 26,
     "metadata": {},
     "output_type": "execute_result"
    }
   ],
   "source": [
    "U_0 = max(x)/2.5\n",
    "U_0"
   ]
  },
  {
   "cell_type": "code",
   "execution_count": 27,
   "id": "ba34ea15-f897-42b9-b837-3a45503c31f4",
   "metadata": {},
   "outputs": [
    {
     "data": {
      "text/plain": [
       "0.9979503715873792"
      ]
     },
     "execution_count": 27,
     "metadata": {},
     "output_type": "execute_result"
    }
   ],
   "source": [
    "k = 0.95**(1/25)\n",
    "k"
   ]
  },
  {
   "cell_type": "code",
   "execution_count": 28,
   "id": "9611e854-2609-43e3-b5e3-d5bd885b7ce9",
   "metadata": {},
   "outputs": [
    {
     "data": {
      "text/plain": [
       "1.975"
      ]
     },
     "execution_count": 28,
     "metadata": {},
     "output_type": "execute_result"
    }
   ],
   "source": [
    "2.5*0.79"
   ]
  },
  {
   "cell_type": "code",
   "execution_count": 29,
   "id": "33d737cc-61ca-45be-bb8e-2845a6b4e1b5",
   "metadata": {},
   "outputs": [
    {
     "data": {
      "text/plain": [
       "0.9972414727259549"
      ]
     },
     "execution_count": 29,
     "metadata": {},
     "output_type": "execute_result"
    }
   ],
   "source": [
    "1-(1.975/2.5)**25"
   ]
  },
  {
   "cell_type": "code",
   "execution_count": 31,
   "id": "0199feda-64fa-4577-b3b2-973148629ee9",
   "metadata": {},
   "outputs": [
    {
     "data": {
      "text/plain": [
       "2.475"
      ]
     },
     "execution_count": 31,
     "metadata": {},
     "output_type": "execute_result"
    }
   ],
   "source": [
    "2.5*.99"
   ]
  },
  {
   "cell_type": "markdown",
   "id": "ddb51aba-7e62-451f-bcf6-d92f34a17ff4",
   "metadata": {},
   "source": [
    "Ejercicio 3"
   ]
  },
  {
   "cell_type": "code",
   "execution_count": 33,
   "id": "8f603b91-0c89-4e9c-8c30-63a42a40e3c4",
   "metadata": {},
   "outputs": [
    {
     "data": {
      "text/plain": [
       "2.3263478740408408"
      ]
     },
     "execution_count": 33,
     "metadata": {},
     "output_type": "execute_result"
    }
   ],
   "source": [
    "q99 = stats.norm.ppf(0.99)\n",
    "q99"
   ]
  },
  {
   "cell_type": "code",
   "execution_count": 34,
   "id": "f4d25019-347a-4118-9a01-943e492508a2",
   "metadata": {},
   "outputs": [
    {
     "data": {
      "text/plain": [
       "2.4"
      ]
     },
     "execution_count": 34,
     "metadata": {},
     "output_type": "execute_result"
    }
   ],
   "source": [
    "(0.62-0.5)*10/0.5"
   ]
  },
  {
   "cell_type": "code",
   "execution_count": 36,
   "id": "ff47dea2-e72c-41ad-8aa5-094dffa5056b",
   "metadata": {},
   "outputs": [
    {
     "data": {
      "text/plain": [
       "0.008197535924596155"
      ]
     },
     "execution_count": 36,
     "metadata": {},
     "output_type": "execute_result"
    }
   ],
   "source": [
    "1- stats.norm.cdf(2.4)"
   ]
  },
  {
   "cell_type": "markdown",
   "id": "f655a66d-815f-4ab0-8b43-b5733272bec5",
   "metadata": {},
   "source": [
    "Ejercicio 4"
   ]
  },
  {
   "cell_type": "code",
   "execution_count": 39,
   "id": "84e6d233-521b-49ef-8477-1cf06416ac8c",
   "metadata": {},
   "outputs": [
    {
     "data": {
      "text/plain": [
       "2.5758293035489004"
      ]
     },
     "execution_count": 39,
     "metadata": {},
     "output_type": "execute_result"
    }
   ],
   "source": [
    "z995= stats.norm.ppf(0.995)\n",
    "z995"
   ]
  },
  {
   "cell_type": "code",
   "execution_count": 43,
   "id": "7669750e-4fb0-4e36-8b6e-b11b8a291e3f",
   "metadata": {},
   "outputs": [
    {
     "data": {
      "text/html": [
       "<div>\n",
       "<style scoped>\n",
       "    .dataframe tbody tr th:only-of-type {\n",
       "        vertical-align: middle;\n",
       "    }\n",
       "\n",
       "    .dataframe tbody tr th {\n",
       "        vertical-align: top;\n",
       "    }\n",
       "\n",
       "    .dataframe thead th {\n",
       "        text-align: right;\n",
       "    }\n",
       "</style>\n",
       "<table border=\"1\" class=\"dataframe\">\n",
       "  <thead>\n",
       "    <tr style=\"text-align: right;\">\n",
       "      <th></th>\n",
       "      <th>first_name</th>\n",
       "      <th>last_name</th>\n",
       "      <th>age</th>\n",
       "      <th>Happy_Sad_group</th>\n",
       "      <th>Dosage</th>\n",
       "      <th>Drug</th>\n",
       "      <th>Mem_Score_Before</th>\n",
       "      <th>Mem_Score_After</th>\n",
       "      <th>Diff</th>\n",
       "    </tr>\n",
       "  </thead>\n",
       "  <tbody>\n",
       "    <tr>\n",
       "      <th>0</th>\n",
       "      <td>Bastian</td>\n",
       "      <td>Carrasco</td>\n",
       "      <td>25</td>\n",
       "      <td>H</td>\n",
       "      <td>1</td>\n",
       "      <td>A</td>\n",
       "      <td>63.5</td>\n",
       "      <td>61.2</td>\n",
       "      <td>-2.3</td>\n",
       "    </tr>\n",
       "    <tr>\n",
       "      <th>1</th>\n",
       "      <td>Evan</td>\n",
       "      <td>Carrasco</td>\n",
       "      <td>52</td>\n",
       "      <td>S</td>\n",
       "      <td>1</td>\n",
       "      <td>A</td>\n",
       "      <td>41.6</td>\n",
       "      <td>40.7</td>\n",
       "      <td>-0.9</td>\n",
       "    </tr>\n",
       "    <tr>\n",
       "      <th>2</th>\n",
       "      <td>Florencia</td>\n",
       "      <td>Carrasco</td>\n",
       "      <td>29</td>\n",
       "      <td>H</td>\n",
       "      <td>1</td>\n",
       "      <td>A</td>\n",
       "      <td>59.7</td>\n",
       "      <td>55.1</td>\n",
       "      <td>-4.6</td>\n",
       "    </tr>\n",
       "    <tr>\n",
       "      <th>3</th>\n",
       "      <td>Holly</td>\n",
       "      <td>Carrasco</td>\n",
       "      <td>50</td>\n",
       "      <td>S</td>\n",
       "      <td>1</td>\n",
       "      <td>A</td>\n",
       "      <td>51.7</td>\n",
       "      <td>51.2</td>\n",
       "      <td>-0.5</td>\n",
       "    </tr>\n",
       "    <tr>\n",
       "      <th>4</th>\n",
       "      <td>Justin</td>\n",
       "      <td>Carrasco</td>\n",
       "      <td>52</td>\n",
       "      <td>H</td>\n",
       "      <td>1</td>\n",
       "      <td>A</td>\n",
       "      <td>47.0</td>\n",
       "      <td>47.1</td>\n",
       "      <td>0.1</td>\n",
       "    </tr>\n",
       "  </tbody>\n",
       "</table>\n",
       "</div>"
      ],
      "text/plain": [
       "  first_name last_name  age Happy_Sad_group  Dosage Drug  Mem_Score_Before  \\\n",
       "0    Bastian  Carrasco   25               H       1    A              63.5   \n",
       "1       Evan  Carrasco   52               S       1    A              41.6   \n",
       "2  Florencia  Carrasco   29               H       1    A              59.7   \n",
       "3      Holly  Carrasco   50               S       1    A              51.7   \n",
       "4     Justin  Carrasco   52               H       1    A              47.0   \n",
       "\n",
       "   Mem_Score_After  Diff  \n",
       "0             61.2  -2.3  \n",
       "1             40.7  -0.9  \n",
       "2             55.1  -4.6  \n",
       "3             51.2  -0.5  \n",
       "4             47.1   0.1  "
      ]
     },
     "execution_count": 43,
     "metadata": {},
     "output_type": "execute_result"
    }
   ],
   "source": [
    "data = pd.read_csv('Islander_data.csv')\n",
    "data.head()"
   ]
  },
  {
   "cell_type": "code",
   "execution_count": 44,
   "id": "f9d41a6b-d36d-4c5a-b1f1-c6a81f56bd33",
   "metadata": {},
   "outputs": [],
   "source": [
    "x_  = data.Diff"
   ]
  },
  {
   "cell_type": "raw",
   "id": "47d872be-fb5a-4d96-9a51-e27af7cffee0",
   "metadata": {},
   "source": [
    "promedio = x_.mean()\n",
    "s = x_.std()\n",
    "print('Promedio ', promedio, ', S ', s)"
   ]
  },
  {
   "cell_type": "code",
   "execution_count": 47,
   "id": "e707e7ca-11dd-42f8-b1da-783f31023ddb",
   "metadata": {},
   "outputs": [
    {
     "data": {
      "text/plain": [
       "3.8657067402083976"
      ]
     },
     "execution_count": 47,
     "metadata": {},
     "output_type": "execute_result"
    }
   ],
   "source": [
    "T = promedio*np.sqrt(len(x_))/s\n",
    "T"
   ]
  },
  {
   "cell_type": "code",
   "execution_count": null,
   "id": "b1399ee9-60f1-4536-ad54-cb90e340ac1f",
   "metadata": {},
   "outputs": [],
   "source": []
  }
 ],
 "metadata": {
  "kernelspec": {
   "display_name": "Python 3",
   "language": "python",
   "name": "python3"
  },
  "language_info": {
   "codemirror_mode": {
    "name": "ipython",
    "version": 3
   },
   "file_extension": ".py",
   "mimetype": "text/x-python",
   "name": "python",
   "nbconvert_exporter": "python",
   "pygments_lexer": "ipython3",
   "version": "3.7.3"
  }
 },
 "nbformat": 4,
 "nbformat_minor": 5
}
