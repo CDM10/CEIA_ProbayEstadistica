{
 "cells": [
  {
   "cell_type": "code",
   "execution_count": 4,
   "id": "2dc8df0e-f168-4e55-8766-f9f0df40ddcf",
   "metadata": {},
   "outputs": [],
   "source": [
    "from scipy import stats as st\n",
    "import numpy as np\n",
    "import pandas as pd"
   ]
  },
  {
   "cell_type": "markdown",
   "id": "ceef9b88-754a-4e44-b8b4-e5f17714947e",
   "metadata": {},
   "source": [
    "# Ejercicio 7 - Clase 5"
   ]
  },
  {
   "cell_type": "code",
   "execution_count": 8,
   "id": "51f59ae0-6e7f-4bb6-bf8d-6eab8407bba7",
   "metadata": {},
   "outputs": [
    {
     "data": {
      "text/html": [
       "<div>\n",
       "<style scoped>\n",
       "    .dataframe tbody tr th:only-of-type {\n",
       "        vertical-align: middle;\n",
       "    }\n",
       "\n",
       "    .dataframe tbody tr th {\n",
       "        vertical-align: top;\n",
       "    }\n",
       "\n",
       "    .dataframe thead th {\n",
       "        text-align: right;\n",
       "    }\n",
       "</style>\n",
       "<table border=\"1\" class=\"dataframe\">\n",
       "  <thead>\n",
       "    <tr style=\"text-align: right;\">\n",
       "      <th></th>\n",
       "      <th>first_name</th>\n",
       "      <th>last_name</th>\n",
       "      <th>age</th>\n",
       "      <th>Happy_Sad_group</th>\n",
       "      <th>Dosage</th>\n",
       "      <th>Drug</th>\n",
       "      <th>Mem_Score_Before</th>\n",
       "      <th>Mem_Score_After</th>\n",
       "      <th>Diff</th>\n",
       "    </tr>\n",
       "  </thead>\n",
       "  <tbody>\n",
       "    <tr>\n",
       "      <th>0</th>\n",
       "      <td>Bastian</td>\n",
       "      <td>Carrasco</td>\n",
       "      <td>25</td>\n",
       "      <td>H</td>\n",
       "      <td>1</td>\n",
       "      <td>A</td>\n",
       "      <td>63.5</td>\n",
       "      <td>61.2</td>\n",
       "      <td>-2.3</td>\n",
       "    </tr>\n",
       "    <tr>\n",
       "      <th>1</th>\n",
       "      <td>Evan</td>\n",
       "      <td>Carrasco</td>\n",
       "      <td>52</td>\n",
       "      <td>S</td>\n",
       "      <td>1</td>\n",
       "      <td>A</td>\n",
       "      <td>41.6</td>\n",
       "      <td>40.7</td>\n",
       "      <td>-0.9</td>\n",
       "    </tr>\n",
       "    <tr>\n",
       "      <th>2</th>\n",
       "      <td>Florencia</td>\n",
       "      <td>Carrasco</td>\n",
       "      <td>29</td>\n",
       "      <td>H</td>\n",
       "      <td>1</td>\n",
       "      <td>A</td>\n",
       "      <td>59.7</td>\n",
       "      <td>55.1</td>\n",
       "      <td>-4.6</td>\n",
       "    </tr>\n",
       "    <tr>\n",
       "      <th>3</th>\n",
       "      <td>Holly</td>\n",
       "      <td>Carrasco</td>\n",
       "      <td>50</td>\n",
       "      <td>S</td>\n",
       "      <td>1</td>\n",
       "      <td>A</td>\n",
       "      <td>51.7</td>\n",
       "      <td>51.2</td>\n",
       "      <td>-0.5</td>\n",
       "    </tr>\n",
       "    <tr>\n",
       "      <th>4</th>\n",
       "      <td>Justin</td>\n",
       "      <td>Carrasco</td>\n",
       "      <td>52</td>\n",
       "      <td>H</td>\n",
       "      <td>1</td>\n",
       "      <td>A</td>\n",
       "      <td>47.0</td>\n",
       "      <td>47.1</td>\n",
       "      <td>0.1</td>\n",
       "    </tr>\n",
       "  </tbody>\n",
       "</table>\n",
       "</div>"
      ],
      "text/plain": [
       "  first_name last_name  age Happy_Sad_group  Dosage Drug  Mem_Score_Before  \\\n",
       "0    Bastian  Carrasco   25               H       1    A              63.5   \n",
       "1       Evan  Carrasco   52               S       1    A              41.6   \n",
       "2  Florencia  Carrasco   29               H       1    A              59.7   \n",
       "3      Holly  Carrasco   50               S       1    A              51.7   \n",
       "4     Justin  Carrasco   52               H       1    A              47.0   \n",
       "\n",
       "   Mem_Score_After  Diff  \n",
       "0             61.2  -2.3  \n",
       "1             40.7  -0.9  \n",
       "2             55.1  -4.6  \n",
       "3             51.2  -0.5  \n",
       "4             47.1   0.1  "
      ]
     },
     "execution_count": 8,
     "metadata": {},
     "output_type": "execute_result"
    }
   ],
   "source": [
    "data = pd.read_csv(r'C:\\Users\\Diego\\Documents\\UBA\\Islander_data.csv')\n",
    "data.head()"
   ]
  },
  {
   "cell_type": "code",
   "execution_count": 3,
   "id": "659ce187-4eff-4273-bb92-27fe20e68c63",
   "metadata": {},
   "outputs": [],
   "source": [
    "x = data['Mem_Score_After']"
   ]
  },
  {
   "cell_type": "code",
   "execution_count": 5,
   "id": "9b690d3c-2548-4124-8b3b-95aef1ff812d",
   "metadata": {},
   "outputs": [],
   "source": [
    "promedio = x.mean()"
   ]
  },
  {
   "cell_type": "code",
   "execution_count": 6,
   "id": "f91ade62-6225-4f4a-b053-bb727aebb636",
   "metadata": {},
   "outputs": [],
   "source": [
    "desvío = x.std()"
   ]
  },
  {
   "cell_type": "code",
   "execution_count": 9,
   "id": "e7582017-accf-4db0-a53b-14a91ca775da",
   "metadata": {},
   "outputs": [
    {
     "data": {
      "text/plain": [
       "[58.39638392546326, 63.44806051898113]"
      ]
     },
     "execution_count": 9,
     "metadata": {},
     "output_type": "execute_result"
    }
   ],
   "source": [
    "IC = [promedio - st.norm.ppf(0.975)*desvío/np.sqrt(len(x)), promedio + st.norm.ppf(0.975)*desvío/np.sqrt(len(x))]\n",
    "IC"
   ]
  },
  {
   "cell_type": "code",
   "execution_count": 14,
   "id": "72fceef0-53bd-45da-bd5a-be0855af7c23",
   "metadata": {},
   "outputs": [
    {
     "data": {
      "text/plain": [
       "(58.39638392546326, 63.44806051898113)"
      ]
     },
     "execution_count": 14,
     "metadata": {},
     "output_type": "execute_result"
    }
   ],
   "source": [
    "st.norm.interval(alpha = 0.95, loc = promedio, scale = desvío/np.sqrt(len(x)))"
   ]
  },
  {
   "cell_type": "markdown",
   "id": "28b755ff-d9b6-4e7d-a1e7-97a4c9ad4c8d",
   "metadata": {},
   "source": [
    "# Test de hipótesis "
   ]
  },
  {
   "cell_type": "markdown",
   "id": "5a41d2df-fa83-4d3d-9f60-c78a2c9a9069",
   "metadata": {},
   "source": [
    "## Ejercicio 2\n"
   ]
  },
  {
   "cell_type": "code",
   "execution_count": 16,
   "id": "127163af-9df7-4b3d-8c97-cd2b1e251236",
   "metadata": {},
   "outputs": [
    {
     "data": {
      "text/plain": [
       "array([1.65371211, 1.70110705, 2.19010042, 1.70030893, 0.75698883,\n",
       "       2.9203779 , 2.9302707 , 1.57970144, 0.37759711, 1.25262077,\n",
       "       1.81082318, 0.54700776, 2.91945597, 0.61359164, 2.06934442,\n",
       "       2.01358876, 0.92119708, 1.16961539, 0.74295129, 0.34066343])"
      ]
     },
     "execution_count": 16,
     "metadata": {},
     "output_type": "execute_result"
    }
   ],
   "source": [
    "x = st.uniform.rvs(0,3, 20)\n",
    "x"
   ]
  },
  {
   "cell_type": "code",
   "execution_count": 18,
   "id": "efbba6e9-531c-46e0-b1f4-9784fcca6778",
   "metadata": {},
   "outputs": [
    {
     "data": {
      "text/plain": [
       "1.1721082804319523"
      ]
     },
     "execution_count": 18,
     "metadata": {},
     "output_type": "execute_result"
    }
   ],
   "source": [
    "t = max(x)/2.5\n",
    "t"
   ]
  },
  {
   "cell_type": "markdown",
   "id": "eab2a459-6cab-47c9-8d34-6a06b46d27b2",
   "metadata": {},
   "source": [
    "## Ejercicio 4 \n"
   ]
  },
  {
   "cell_type": "markdown",
   "id": "e88e7b1d-a0e8-407c-8a18-22a745b4c34c",
   "metadata": {},
   "source": [
    "### Calculo el cuantil 0.01 para hallar $k_{\\alpha}$\n"
   ]
  },
  {
   "cell_type": "code",
   "execution_count": 5,
   "id": "cc41e230-285e-4ef7-8cbf-a3940d75dc57",
   "metadata": {},
   "outputs": [
    {
     "data": {
      "text/plain": [
       "-2.3263478740408408"
      ]
     },
     "execution_count": 5,
     "metadata": {},
     "output_type": "execute_result"
    }
   ],
   "source": [
    "st.norm.ppf(0.01)"
   ]
  },
  {
   "cell_type": "markdown",
   "id": "feffdc47-fe91-4971-a00b-6d05ba4f3c25",
   "metadata": {},
   "source": [
    "#### Creo mis muestras a partir de la diferencia de tiempos"
   ]
  },
  {
   "cell_type": "code",
   "execution_count": 11,
   "id": "c6418712-0cff-4a32-9b07-8ad90bf457b8",
   "metadata": {},
   "outputs": [],
   "source": [
    "x = data.Mem_Score_After - data.Mem_Score_Before"
   ]
  },
  {
   "cell_type": "markdown",
   "id": "fceaab6b-c647-486d-bf15-9d7e2b438e78",
   "metadata": {},
   "source": [
    "#### Calculo media y desvío muestral"
   ]
  },
  {
   "cell_type": "code",
   "execution_count": 21,
   "id": "ebe80273-3c19-4ae4-a90f-c06685895083",
   "metadata": {},
   "outputs": [
    {
     "data": {
      "text/plain": [
       "10.754602581959647"
      ]
     },
     "execution_count": 21,
     "metadata": {},
     "output_type": "execute_result"
    }
   ],
   "source": [
    "promedio = x.mean()\n",
    "desvio = x.std()\n",
    "desvio"
   ]
  },
  {
   "cell_type": "markdown",
   "id": "63da0e8b-ca92-407c-8ea1-68f54a902121",
   "metadata": {},
   "source": [
    "### Calculo el valor del estadístico basado en las observaciones"
   ]
  },
  {
   "cell_type": "code",
   "execution_count": 22,
   "id": "257be96f-b1f8-42db-a3a7-32b98e08ec0a",
   "metadata": {},
   "outputs": [
    {
     "data": {
      "text/plain": [
       "3.865706740208396"
      ]
     },
     "execution_count": 22,
     "metadata": {},
     "output_type": "execute_result"
    }
   ],
   "source": [
    "u = media/sigma*np.sqrt(len(x))\n",
    "u"
   ]
  },
  {
   "cell_type": "markdown",
   "id": "a60fa354-48d1-4429-921f-e929b15336ac",
   "metadata": {},
   "source": [
    "### Calculo el p-valor y tomo la decisión"
   ]
  },
  {
   "cell_type": "code",
   "execution_count": 16,
   "id": "8a751282-c2a4-4d23-9ce2-89cce5369548",
   "metadata": {},
   "outputs": [
    {
     "data": {
      "text/plain": [
       "5.538398615911877e-05"
      ]
     },
     "execution_count": 16,
     "metadata": {},
     "output_type": "execute_result"
    }
   ],
   "source": [
    "p_valor = 1 - st.norm.cdf(u)\n",
    "p_valor"
   ]
  }
 ],
 "metadata": {
  "kernelspec": {
   "display_name": "Python 3 (ipykernel)",
   "language": "python",
   "name": "python3"
  },
  "language_info": {
   "codemirror_mode": {
    "name": "ipython",
    "version": 3
   },
   "file_extension": ".py",
   "mimetype": "text/x-python",
   "name": "python",
   "nbconvert_exporter": "python",
   "pygments_lexer": "ipython3",
   "version": "3.9.12"
  }
 },
 "nbformat": 4,
 "nbformat_minor": 5
}
