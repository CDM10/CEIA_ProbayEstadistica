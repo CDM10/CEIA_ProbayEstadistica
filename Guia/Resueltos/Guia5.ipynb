{
 "cells": [
  {
   "cell_type": "markdown",
   "id": "11ae4c4f-d187-4e22-915d-1d161062d1d2",
   "metadata": {},
   "source": [
    "# Guía 5: Intervalos de confianza\n",
    "\n",
    "## Ejercicio 1\n",
    "Defino $X$:\"señal recibida\". Cada $X_i$ tiene distribución $\\mathcal{N}(\\mu, 3)$ (observación, 3 es la varianza de la v.a.)\n",
    "\n",
    "Un pivote para $\\mu$ es $Z=\\frac{\\bar{X}-\\mu}{\\sqrt{3/n}}\\sim \\mathcal{N}(0,1)$. Luego un IC de nivel 0.95 está dado por \n",
    "$IC(\\underline{X}) = \\{\\mu : a<Z<b\\}$, con $a,b$ tales que $\\mathbb{P}(a<Z<b)=0.95$.\n",
    "Como la normal es simétrica, resulta que $b = z_{0.975} = -a$. Finalmente,\n",
    "$$IC(\\underline{X}) = \\{\\mu: -z_{0.975}\\sqrt{3/n} + \\bar{X} <\\mu<z_{0.975}\\sqrt{3/n} + \\bar{X} \\}$$\n",
    "es un intervalo de confianza de nivel 0.95 para $\\mu$."
   ]
  },
  {
   "cell_type": "markdown",
   "id": "f0d24401-6f71-4a2e-a34a-01588a70cb65",
   "metadata": {},
   "source": [
    "Para el punto a) sólo nos falta calcular el cuantil 0.975 de la normal estándar"
   ]
  },
  {
   "cell_type": "code",
   "execution_count": 1,
   "id": "11988f5a-d901-4597-9c06-4b56fb41dd6b",
   "metadata": {},
   "outputs": [
    {
     "data": {
      "text/plain": [
       "1.959963984540054"
      ]
     },
     "execution_count": 1,
     "metadata": {},
     "output_type": "execute_result"
    }
   ],
   "source": [
    "import numpy as np\n",
    "from scipy import stats\n",
    "z0975 = stats.norm.ppf(0.975)\n",
    "z0975"
   ]
  },
  {
   "cell_type": "markdown",
   "id": "5e170b83-7833-4cab-b400-77048fc86bd8",
   "metadata": {},
   "source": [
    "En el punto b) ingresamos los datos del enunciado y calculamos es IC"
   ]
  },
  {
   "cell_type": "code",
   "execution_count": 2,
   "id": "d6c002b7-819c-4f04-a33f-55c298ee3444",
   "metadata": {},
   "outputs": [
    {
     "name": "stdout",
     "output_type": "stream",
     "text": [
      "IC =( 2.3484142659238283 ,  4.611585734076172 )\n"
     ]
    }
   ],
   "source": [
    "n = 9\n",
    "promedio = 3.48\n",
    "sigma2 = 3\n",
    "long_int = z0975*np.sqrt(sigma2/n)\n",
    "IC0 = -long_int + promedio\n",
    "IC1 = long_int + promedio\n",
    "print('IC =(',IC0,', ', IC1,')')"
   ]
  },
  {
   "cell_type": "markdown",
   "id": "148784f2-6bd7-4002-a371-a7c2a55da2db",
   "metadata": {},
   "source": [
    "Para reducir a la mitad la longitud del intervalo, basta con que se reduzca a la mitad el valor de $z_{0.975}\\sqrt{3/n}$. Lo que buscamos es un $n$ tal que\n",
    "$z_{0.975}\\sqrt{3/n} = 0.5 z_{0.975}\\sqrt{3/9}$, con lo cual\n",
    "$\\sqrt{n} = 2\\sqrt{9} \\Rightarrow n = 4\\times 9 = 36$. **Observación** para reducir a la mitad la longitud del intervalo necesito cuadruplicar la cantidad de muestras"
   ]
  },
  {
   "cell_type": "markdown",
   "id": "decebe2d-8848-40fa-803c-3cf11a421d35",
   "metadata": {},
   "source": [
    "## Ejercicio 2\n",
    "Antes que nada definimos la variable de estudio: $X$:\"Temperatura de ebullición del agua (en grados centígrados)\". En este caso, tenemos nuevamente una distribución normal, pero en este caso no conocemos ni la media ni el desvío de la misma. Por lo tanto, tendremos que usar otro pivote:\n",
    "$$T = \\frac{\\bar{X}-\\mu}{S/\\sqrt{n}} \\sim t_{n-1}$$\n",
    " Luego un IC de nivel 0.95 está dado por \n",
    "$IC(\\underline{X}) = \\{\\mu : a<T<b\\} = \\{\\mu: a< \\frac{\\bar{X}-\\mu}{S/\\sqrt{n}}<b\\}$, con $a,b$ tales que $\\mathbb{P}(a<T<b)=0.95$.\n",
    "Como la t-Student también  es simétrica, resulta que $b = t_{n-1, 0.975} = -a$. Finalmente,\n",
    "$$IC(\\underline{X}) = \\{\\mu: -t_{n-1,0.975}S/\\sqrt{n} + \\bar{X} <\\mu<t_{n-1,0.975}S/\\sqrt{n} + \\bar{X} \\}$$\n",
    "es un intervalo de confianza de nivel 0.95 para $\\mu$.\n",
    "\n",
    "**Observación del ejercicio** Cuidado con confundir el desvío estandar muestral (como en este caso) con el verdadero (de la población).\n"
   ]
  },
  {
   "cell_type": "code",
   "execution_count": 3,
   "id": "82381a1c-4a30-4768-a897-33f2ff05b7fb",
   "metadata": {},
   "outputs": [
    {
     "name": "stdout",
     "output_type": "stream",
     "text": [
      "IC =( 92.49147586518467 ,  98.84852413481534 )\n"
     ]
    }
   ],
   "source": [
    "#cargo los datos del problema\n",
    "n=16\n",
    "promedio = 95.67\n",
    "s = 5.965\n",
    "t0975 = stats.t.ppf(0.975,df=n-1)\n",
    "long_int = t0975*s/np.sqrt(n)\n",
    "IC0 = -long_int + promedio\n",
    "IC1 = long_int + promedio\n",
    "print('IC =(',IC0,', ', IC1,')')"
   ]
  },
  {
   "cell_type": "markdown",
   "id": "cecc7ce9-fa09-4b18-91c5-78ff0dc88211",
   "metadata": {},
   "source": [
    "Para verificar el resulado, lo que voy a hacer es simular 1000 veces el experimento de obtener 16 muestras de una v.a. con distribución $\\mathcal{N}(96,25)$. A partir de cada muestra de tamaño 16 voy a armar un IC de nivel 0.975. Finalmente analizo la proporción de intervalos que contienen al valor verdadero  de $\\mu$."
   ]
  },
  {
   "cell_type": "code",
   "execution_count": 4,
   "id": "69fafa9b-2a9a-4006-8b66-507cdf0fd8ef",
   "metadata": {},
   "outputs": [
    {
     "name": "stdout",
     "output_type": "stream",
     "text": [
      "El  95.1 % de los intervalos contiene a $\\mu$\n"
     ]
    }
   ],
   "source": [
    "n_contains_mu = 0\n",
    "K=1000\n",
    "for k in range(K):\n",
    "    x = stats.norm.rvs(loc=96,scale=5, size=16)\n",
    "    promedio = x.mean()\n",
    "    s = x.std()\n",
    "    long_int = t0975*s/np.sqrt(n)\n",
    "    IC0 = -long_int + promedio\n",
    "    IC1 = long_int + promedio\n",
    "    if (IC0<96) & (IC1>96):\n",
    "        n_contains_mu += 1\n",
    "print(\"El \",n_contains_mu*100/K,'% de los intervalos contiene a $\\mu$')"
   ]
  },
  {
   "cell_type": "markdown",
   "id": "dd4d01a9-fef6-49b2-811f-d17d2198dcf7",
   "metadata": {},
   "source": [
    "Otra implementación más eficiente"
   ]
  },
  {
   "cell_type": "code",
   "execution_count": 5,
   "id": "5c691a4d-7af4-4216-9727-040451b7c5c1",
   "metadata": {},
   "outputs": [
    {
     "name": "stdout",
     "output_type": "stream",
     "text": [
      "El  94.3 % de los intervalos contiene a $\\mu$\n"
     ]
    }
   ],
   "source": [
    "x = stats.norm.rvs(loc=96,scale=5, size=(K,16))\n",
    "promedio = x.mean(axis=1)\n",
    "s = x.std(axis=1)\n",
    "long_int = t0975*s/np.sqrt(n)\n",
    "IC0 = -long_int + promedio\n",
    "IC1 = long_int + promedio\n",
    "print(\"El \",np.sum((IC0<96)&(IC1>96) )*100/K,'% de los intervalos contiene a $\\mu$')"
   ]
  },
  {
   "cell_type": "markdown",
   "id": "d092da82-1aae-43ac-9af8-567c95e74b15",
   "metadata": {},
   "source": [
    "## Ejercicio 3\n",
    "\n",
    "Lo pueden realizar  usando el pivote exacto o usando un resultado asintótico. Comparar los resulados por ambos métodos."
   ]
  },
  {
   "cell_type": "markdown",
   "id": "24cce9db-8fd8-4dea-bb15-83046f6a239d",
   "metadata": {},
   "source": [
    "## Ejercicio 4\n",
    "Idea, usar el teorema de factorización para ver que $\\max(\\underline{X})$ es un estadístico suficiente para $\\theta$. Luego seguir el camino que hicimos con la v.a. uniforme: Encuentrar la distribución del $\\max(\\underline{C})$, luego identificar cómo afectar la función de distribución para que no dependa de $\\theta$ y construir el pivote."
   ]
  },
  {
   "cell_type": "markdown",
   "id": "815d0947-5406-4f01-862e-f49844042f1d",
   "metadata": {},
   "source": [
    "## Ejercicio 5\n",
    "Defino la variable $D$:\"Diferencia en tiempo de reacción del paciente\". Dado que no conozco la distribución de la variable, voy a tener que encontrar un intervalo aproximado, aproximando el promedio de las muestras pot TCL:\n",
    "$$Z = \\frac{\\bar{X} - \\mu}{S/\\sqrt{n}} \\overset{(a)}{\\sim} \\mathcal{N}(0,1)$$\n",
    "\n",
    "**Observación:** Aprovecho para hacer hincapié en que la distribución t-Student sólo vale si la variable tenia originalmente distribuciín normal, sino estamos aplicando TCL y usamos la distribución normal\n",
    "\n",
    "El IC de nivel 0.95 nos va a quedar nuevamente\n",
    "$$IC(\\underline{X}) = \\{\\mu: -z_{0.975}S/\\sqrt{n} + \\bar{X} <\\mu<z_{0.975}S/\\sqrt{n} + \\bar{X} \\}$$"
   ]
  },
  {
   "cell_type": "code",
   "execution_count": 6,
   "id": "7b8257d5-ee51-445a-855d-d7548cfadee4",
   "metadata": {},
   "outputs": [
    {
     "name": "stdout",
     "output_type": "stream",
     "text": [
      "IC =( 1.456552184294583 ,  4.452538724796327 )\n"
     ]
    }
   ],
   "source": [
    "import pandas as pd\n",
    "data = pd.read_csv('../Islander_data.csv')\n",
    "promedio = data.Diff.mean()\n",
    "s = data.Diff.std()\n",
    "n = len(data.Diff)\n",
    "long_int = z0975*s/np.sqrt(n)\n",
    "IC0 = -long_int + promedio\n",
    "IC1 = long_int + promedio\n",
    "print('IC =(',IC0,', ', IC1,')')"
   ]
  },
  {
   "cell_type": "markdown",
   "id": "a040c22b-1e15-4186-9d20-ea97f30180d3",
   "metadata": {},
   "source": [
    "## Ejercicio 6\n",
    "Estoy frente a un ensayo Bernoulli, ya que cada habitanto puede estar a favor o en contra de la construcción de la planta de energía nuclear. \n",
    "Puedo definir la variable $X = \\left\\{\\begin{array}{c l} 1 & \\text{la persona esta a favor} \\\\ 0 & \\text{la persona esta en contra} \\end{array}\\right.$ de forma que $X\\sim Ber{p}$. Lo que busco es un intervalo de confianza para $p=$\"proporción de personas a favor de conruir la planta nuclear\". \n",
    "Como vimos en clase, vamos a buscar un intervalo aproximado usando que\n",
    "$$Z = \\frac{\\bar{X} - p}{\\sqrt{\\bar{X}(1-\\bar{X})}}\\sqrt{n} \\overset{(a)}{\\sim} \\mathcal{N}(0,1)$$\n",
    "Haciendo los cálculos llegamos a que un IC aproximado del 95% para $p$ es \n",
    "$$IC(\\underline{X}) = \\{p: -z_{0.975}\\frac{\\sqrt{\\bar{X}(1-\\bar{X})}}{\\sqrt{n}} + \\bar{X} <p<z_{0.975}\\frac{\\sqrt{\\bar{X}(1-\\bar{X})}}{\\sqrt{n}} + \\bar{X} \\}.$$\n",
    "Finalmente, para hallar un $n$ ta que la estimación esté a menos de 0.04 de la proporción real, es equivalente a pedir que  $z_{0.975}\\frac{\\sqrt{\\bar{X}(1-\\bar{X})}}{\\sqrt{n}} < 0.04$, o lo que es lo mismo $z_{0.975}^2\\frac{\\bar{X}(1-\\bar{X})}{n} <0.04^2$. \n",
    "Ahora bien, no sabemos cuánto vale $\\bar{X}$, y por lo tanto no podríamos usar esa expresión directa para hallar el valor de $n$ de antemano. Lo que vamos a hacer es buscar el \"peor caso\" de $\\hat{p}$ y con eso vamos a encontrar el $n$. ¿Qué significa peor caso? Mirando la expresión, vemos que cuanto más grande sea $\\bar{X}(1-\\bar{X})$, más grande va a tener que ser $n$ para cumplir la restricción buscada. Recordando que además $0 < \\bar{X}<1$, vemos que el máximo ocurre en $\\bar{X}=1/2$ (veamos con el gráfico, donde sólo grafico la relación $\\bar{X}(1-\\bar{X})$ ya que el resto son constantes que no puedo modificar)"
   ]
  },
  {
   "cell_type": "code",
   "execution_count": 7,
   "id": "60116d96-2f34-4b0f-95d6-b9051cd09348",
   "metadata": {},
   "outputs": [
    {
     "data": {
      "image/png": "[encoded data removed]",
      "text/plain": [
       "<Figure size 432x288 with 1 Axes>"
      ]
     },
     "metadata": {
      "needs_background": "light"
     },
     "output_type": "display_data"
    }
   ],
   "source": [
    "import matplotlib.pyplot as plt\n",
    "p = np.linspace(0,1,100)\n",
    "y = p*(1-p)\n",
    "plt.plot(p, y)\n",
    "plt.ylabel(r'$\\bar{X}(1-\\bar{X})$')\n",
    "plt.xlabel(r'$\\bar{X}$');"
   ]
  },
  {
   "cell_type": "markdown",
   "id": "91a272cf-9ce8-4033-96c5-bc63b1d2bc95",
   "metadata": {},
   "source": [
    "Finalmene, para hallar $n$ despejamos de la fórmula $z_{0.975}^2\\frac{1/2(1-1/2)}{n} <0.04^2$."
   ]
  }
 ],
 "metadata": {
  "kernelspec": {
   "display_name": "Python 3",
   "language": "python",
   "name": "python3"
  },
  "language_info": {
   "codemirror_mode": {
    "name": "ipython",
    "version": 3
   },
   "file_extension": ".py",
   "mimetype": "text/x-python",
   "name": "python",
   "nbconvert_exporter": "python",
   "pygments_lexer": "ipython3",
   "version": "3.7.3"
  }
 },
 "nbformat": 4,
 "nbformat_minor": 5
}
