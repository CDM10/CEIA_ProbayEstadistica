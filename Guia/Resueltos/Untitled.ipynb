{
 "cells": [
  {
   "cell_type": "markdown",
   "id": "5771e7c3-92e9-4702-ac3c-8baad054c7c3",
   "metadata": {},
   "source": [
    "# Guía 2\n",
    "\n",
    "## Ejercicio 1.2\n",
    "Tiro un dado 2 veces, quiero la distribución de la suma de los resultados:\n",
    "\n",
    "$X$:\"resultado del dado 1\",   $Y$:\"resultado del dado 2,   $W$: \"suma de los dos resultados\"\n",
    "\n",
    "Hago una tabla de doble entrada donde en el interior anoto el valor de w correspondiente al par (x,y).\n",
    "\n",
    "| y\\|x | 1    | 2    | 3    | 4    | 5    | 6    |\n",
    "| ---- | ---- | ---- | ---- | ---- | ---- | ---- |\n",
    "| 1    | 2    | 3    | 4    | 5    | 6    | 7    |\n",
    "| 2    | 3    | 4    | 5    | 6    | 7    | 8    |\n",
    "| 3    | 4    | 5    | 6    | 7    | 8    | 9    |\n",
    "| 4    | 5    | 6    | 7    | 8    | 9    | 10   |\n",
    "| 5    | 6    | 7    | 8    | 9    | 10   | 11   |\n",
    "| 6    | 7    | 8    | 9    | 10   | 11   | 12   |\n",
    "\n",
    "\n",
    "Para calcular la función de probabilidad de $W$ recuerdo que estoy en un espacio equiprobable y por lo tanto $\\mathbb{P}(X=x , Y=y) = 1/36,\\quad x = 1,2,...,6,\\ y = 1,2,...,6$.\n"
   ]
  },
  {
   "cell_type": "code",
   "execution_count": 1,
   "id": "a8846e27-a017-4107-8c99-9fd6918bde1a",
   "metadata": {},
   "outputs": [],
   "source": [
    "import numpy as np\n",
    "import matplotlib.pyplot as plt\n",
    "import seaborn as sns\n",
    "import scipy.stats as stats"
   ]
  },
  {
   "cell_type": "code",
   "execution_count": 2,
   "id": "3c5cf7b9-ffd9-4671-b7b1-2fb5635403b4",
   "metadata": {},
   "outputs": [
    {
     "data": {
      "text/plain": [
       "<BarContainer object of 12 artists>"
      ]
     },
     "execution_count": 2,
     "metadata": {},
     "output_type": "execute_result"
    },
    {
     "data": {
      "image/png": "[encoded data removed]",
      "text/plain": [
       "<Figure size 432x288 with 1 Axes>"
      ]
     },
     "metadata": {
      "needs_background": "light"
     },
     "output_type": "display_data"
    }
   ],
   "source": [
    "# simulo 1000 tiradas de un dad0 dos veces\n",
    "xy = np.random.randint(1,7,size=(1000,2))  \n",
    "# sumo los resultados de cada dado para generar 1000 observaciones de z\n",
    "z = np.sum(xy,axis=1)\n",
    "\n",
    "# grafico la función de proba estimada\n",
    "plt.bar(np.arange(1, np.max(z)+1), np.bincount(z)[1:]) \n",
    "# bincount me cuenta cuantos caen desde 0 hasta el max valor obs del vector. Aca 0 no es un valor posible, asi que lo quito\n"
   ]
  },
  {
   "cell_type": "markdown",
   "id": "943a9df8-a184-4af3-86fe-79b827378469",
   "metadata": {},
   "source": [
    "# Ejercicio 2.2\n",
    "Hallar la distribución del mínimo de $n$ v.a. exponenciales independientes de parámetro $\\lambda$. \n",
    "$F_Y(y) = \\mathbb{P}(Y\\leq y) = \\mathbb{P}(\\min(X_1,\\ldots,x_n) \\leq y) = 1 - \\mathbb{P}(\\min(X_1,\\ldots, x_n) > y)$ \n",
    "desde acá se puede seguir parecido al ejemplo que vimos en clase donde calculamos la distribución del máximo de uniformes. \n",
    "\n",
    "Se concluye que $Y\\sim \\exp(\\lambda n)$\n",
    "\n",
    "A continuación simulo para $\\lambda = 5$ y $n=6$. Probar con distintos valores.\n",
    "Bonus: que pasa si $X_i \\sim \\mathcal{E}(\\lambda_i)$, es decir siguen siendo exponenciales independientes pero ahora de distinto parámetro"
   ]
  },
  {
   "cell_type": "code",
   "execution_count": 3,
   "id": "f29ffdc3-37a7-4b85-bf52-0ea14d534284",
   "metadata": {},
   "outputs": [
    {
     "data": {
      "text/plain": [
       "<AxesSubplot:ylabel='Density'>"
      ]
     },
     "execution_count": 3,
     "metadata": {},
     "output_type": "execute_result"
    },
    {
     "data": {
      "image/png": "[encoded data removed]",
      "text/plain": [
       "<Figure size 432x288 with 1 Axes>"
      ]
     },
     "metadata": {
      "needs_background": "light"
     },
     "output_type": "display_data"
    }
   ],
   "source": [
    "# genero 1000 realizaciones de 6 exponenciales de parámetro 5\n",
    "x = np.random.exponential(scale=1/5, size=(1000,6))\n",
    "y = np.min(x, axis=1) # calculo el mininmo de las 6 exp\n",
    "sns.histplot(y, kde=True, stat='density') # grafico el hist y kde\n",
    "# Y~exp(lambda*6). Superpongo la densidad verdadera y comparo\n",
    "sns.lineplot(x=np.linspace(0,0.5,1000),y=stats.expon.pdf(np.linspace(0,0.5,1000), scale=1/(5*6)), color='C1') \n"
   ]
  },
  {
   "cell_type": "markdown",
   "id": "974241cb-597c-471e-9d0d-389ef64fb527",
   "metadata": {},
   "source": [
    "## Ejercicio 2.3\n",
    "Tengo $X,\\ Y \\overset{i.i.d}{\\sim} \\mathcal{E}(\\lambda)$ y defino $V=X+Y$, $W=X/Y$.\n",
    "\n",
    "Luego, $g_1(x,y) = x+y$ y $g_2(x,y) = x/y$. \n",
    "\n",
    "Calculo las inversas:\n",
    "$x = g^{-1}_1(v,w) = \\frac{vw}{w+1}$, $y = g^{-1}_2(v,w) = \\frac{v}{w+1}$. \n",
    "\n",
    "Calculo el jacobiano: $J= \\left[\\begin{matrix} 1 & 1 \\\\ 1/y & -x/y^2 \\end{matrix}\\right] \\Rightarrow |J| = x/y^2 + 1/y = 1/y(x/y+1)$\n",
    "\n",
    "La función de densidad de $V,W$ resulta:\n",
    "$$f_{V,W}(v,w) = \\left.\\frac{f_{X,Y}(x,y)}{|J|}\\right|_{x= \\frac{vw}{w+1}, y=\\frac{v}{w+1}} = $$"
   ]
  },
  {
   "cell_type": "code",
   "execution_count": null,
   "id": "9e0c4bfb-616a-4585-a876-aaa823478da5",
   "metadata": {},
   "outputs": [],
   "source": []
  }
 ],
 "metadata": {
  "kernelspec": {
   "display_name": "Python 3",
   "language": "python",
   "name": "python3"
  },
  "language_info": {
   "codemirror_mode": {
    "name": "ipython",
    "version": 3
   },
   "file_extension": ".py",
   "mimetype": "text/x-python",
   "name": "python",
   "nbconvert_exporter": "python",
   "pygments_lexer": "ipython3",
   "version": "3.7.3"
  }
 },
 "nbformat": 4,
 "nbformat_minor": 5
}
