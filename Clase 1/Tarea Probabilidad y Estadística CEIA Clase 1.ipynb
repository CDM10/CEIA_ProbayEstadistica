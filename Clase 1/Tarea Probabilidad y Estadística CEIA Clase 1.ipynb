{
 "cells": [
  {
   "cell_type": "code",
   "execution_count": 5,
   "id": "67d68dcd",
   "metadata": {},
   "outputs": [],
   "source": [
    "# EJERCICIO 0\n",
    "# Se tira sucesivamente un dado\n",
    "#1. Probabilidad de necesitar menos de 3 tiros hasta ver el primer 2\n",
    "#2. Probabilidad de ver exactamente un 2 en 5 tiros"
   ]
  },
  {
   "cell_type": "code",
   "execution_count": 3,
   "id": "33523813",
   "metadata": {},
   "outputs": [],
   "source": [
    "import numpy as np\n",
    "import scipy.stats as stats"
   ]
  },
  {
   "cell_type": "code",
   "execution_count": 7,
   "id": "05367a16",
   "metadata": {},
   "outputs": [
    {
     "data": {
      "text/plain": [
       "0.3055555555555555"
      ]
     },
     "execution_count": 7,
     "metadata": {},
     "output_type": "execute_result"
    }
   ],
   "source": [
    "# X: \"Cantidad de tiros hasta ver el primer dos en un dado\"\n",
    "# X --> geométrica (p=1/6)\n",
    "# 1. P(X<3)\n",
    "\n",
    "a= stats.geom.cdf(2,1/6)\n",
    "a"
   ]
  },
  {
   "cell_type": "code",
   "execution_count": 17,
   "id": "82577811",
   "metadata": {},
   "outputs": [
    {
     "data": {
      "text/plain": [
       "0.40187757201646074"
      ]
     },
     "execution_count": 17,
     "metadata": {},
     "output_type": "execute_result"
    }
   ],
   "source": [
    "#2. X: \"Cantidad de 2 en 5 tiros\", X--> bin (n=5, p=1/6) P(X=1)\n",
    "\n",
    "b= stats.binom.pmf(1,5,1/6)\n",
    "b"
   ]
  },
  {
   "cell_type": "code",
   "execution_count": 10,
   "id": "3e9b55a1",
   "metadata": {},
   "outputs": [],
   "source": [
    "#Ejercicio 2\n",
    "# El tiempo (en minutos) entre llamadas a un call center tiene una\n",
    "#distribución exponencial de parámetro 1/5.\n",
    "#1. Calcular la probabilidad de que la primer llamada llegue después de 2\n",
    "#minutos\n",
    "#2. Calcular la probabilidad de que la primer llamada llegue después de\n",
    "#los 5 minutos, si se sabe que en los primeros 3 minutos no se\n",
    "#recibieron llamados"
   ]
  },
  {
   "cell_type": "code",
   "execution_count": 14,
   "id": "77f331ce",
   "metadata": {},
   "outputs": [
    {
     "data": {
      "text/plain": [
       "0.6703200460356393"
      ]
     },
     "execution_count": 14,
     "metadata": {},
     "output_type": "execute_result"
    }
   ],
   "source": [
    "#1. X: \"Tiempo entre llamadas en un call center\" X--> exp (lambda=1/5)\n",
    "#P(X>2)=1-P(X<2)\n",
    "c= 1-stats.expon(scale=5).cdf(2)\n",
    "c\n",
    "\n"
   ]
  },
  {
   "cell_type": "code",
   "execution_count": 15,
   "id": "489b9eff",
   "metadata": {},
   "outputs": [
    {
     "data": {
      "text/plain": [
       "0.6703200460356393"
      ]
     },
     "execution_count": 15,
     "metadata": {},
     "output_type": "execute_result"
    }
   ],
   "source": [
    "d=stats.expon(scale=5).sf(2)\n",
    "d"
   ]
  },
  {
   "cell_type": "code",
   "execution_count": 16,
   "id": "5e071e77",
   "metadata": {},
   "outputs": [],
   "source": [
    "#2. P(X>5 / X>3)= P(X>2)    P(X>x+a|X>a)=P(X>x) memorylessness \n",
    "# Los dos puntos son iguales"
   ]
  },
  {
   "cell_type": "code",
   "execution_count": 18,
   "id": "e4e4a33b",
   "metadata": {},
   "outputs": [
    {
     "data": {
      "text/plain": [
       "0.15865525393145707"
      ]
     },
     "execution_count": 18,
     "metadata": {},
     "output_type": "execute_result"
    }
   ],
   "source": [
    "#Ejercicio 1\n",
    "#Sea X una v.a con distribución normal estándar. Hallar la probabilidad de que\n",
    "#1. X>1\n",
    "#2. X<-1\n",
    "#3. |X| <2\n",
    "#4. Hallar los cuantiles 0.1 y 0.9\n",
    "#Sea además Y ~ N(2,9)\n",
    "#1. Hallar P(2X+Y <5)\n",
    "\n",
    "normal_1= 1-stats.norm.cdf(1)\n",
    "normal_1"
   ]
  },
  {
   "cell_type": "code",
   "execution_count": 21,
   "id": "e46aa865",
   "metadata": {},
   "outputs": [
    {
     "data": {
      "text/plain": [
       "0.15865525393145707"
      ]
     },
     "execution_count": 21,
     "metadata": {},
     "output_type": "execute_result"
    }
   ],
   "source": [
    "normal_2=stats.norm.cdf(-1)\n",
    "normal_2"
   ]
  },
  {
   "cell_type": "code",
   "execution_count": 22,
   "id": "7f051e1f",
   "metadata": {},
   "outputs": [
    {
     "data": {
      "text/plain": [
       "0.9544997361036416"
      ]
     },
     "execution_count": 22,
     "metadata": {},
     "output_type": "execute_result"
    }
   ],
   "source": [
    "#P(/X/<2)=P(-2<X<2)= P(X<2)-P(X<-2)\n",
    "normal_3= stats.norm.cdf(2)-stats.norm.cdf(-2)\n",
    "normal_3"
   ]
  },
  {
   "cell_type": "code",
   "execution_count": 23,
   "id": "1657a6d0",
   "metadata": {},
   "outputs": [
    {
     "name": "stdout",
     "output_type": "stream",
     "text": [
      "-1.2815515655446004\n",
      "1.2815515655446004\n"
     ]
    }
   ],
   "source": [
    "q1=stats.norm.ppf(0.1)\n",
    "q2= stats.norm.ppf(0.9)\n",
    "print(q1)\n",
    "print(q2)"
   ]
  },
  {
   "cell_type": "code",
   "execution_count": 24,
   "id": "79bd1b4b",
   "metadata": {},
   "outputs": [],
   "source": [
    "normal_4=stats.norm.cdf(5,loc=2, scale=np.sqrt(13))"
   ]
  },
  {
   "cell_type": "code",
   "execution_count": 26,
   "id": "62fe6f6f",
   "metadata": {},
   "outputs": [
    {
     "data": {
      "text/plain": [
       "0.7973097217705288"
      ]
     },
     "execution_count": 26,
     "metadata": {},
     "output_type": "execute_result"
    }
   ],
   "source": [
    "normal_4"
   ]
  },
  {
   "cell_type": "code",
   "execution_count": null,
   "id": "3c5a553f",
   "metadata": {},
   "outputs": [],
   "source": []
  }
 ],
 "metadata": {
  "kernelspec": {
   "display_name": "Python 3 (ipykernel)",
   "language": "python",
   "name": "python3"
  },
  "language_info": {
   "codemirror_mode": {
    "name": "ipython",
    "version": 3
   },
   "file_extension": ".py",
   "mimetype": "text/x-python",
   "name": "python",
   "nbconvert_exporter": "python",
   "pygments_lexer": "ipython3",
   "version": "3.10.9"
  }
 },
 "nbformat": 4,
 "nbformat_minor": 5
}
