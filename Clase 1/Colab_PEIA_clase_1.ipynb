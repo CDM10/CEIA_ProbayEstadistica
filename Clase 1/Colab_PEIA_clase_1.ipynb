{
  "nbformat": 4,
  "nbformat_minor": 0,
  "metadata": {
    "colab": {
      "name": "Colab PEIA clase 1.ipynb",
      "provenance": []
    },
    "kernelspec": {
      "name": "python3",
      "display_name": "Python 3"
    },
    "language_info": {
      "name": "python"
    }
  },
  "cells": [
    {
      "cell_type": "code",
      "execution_count": 7,
      "metadata": {
        "id": "9Dkq7PMaRPFy"
      },
      "outputs": [],
      "source": [
        "from scipy import stats\n",
        "import numpy as np"
      ]
    },
    {
      "cell_type": "markdown",
      "source": [
        "#Ejercicio 1\n",
        "\n",
        "P(X>1)"
      ],
      "metadata": {
        "id": "_lARhWjKSTcE"
      }
    },
    {
      "cell_type": "code",
      "source": [
        "1-stats.norm.cdf(1)"
      ],
      "metadata": {
        "colab": {
          "base_uri": "https://localhost:8080/"
        },
        "id": "6ghbtORqRcmu",
        "outputId": "6b433d6a-fb91-4dc8-96f3-9837bb28a66d"
      },
      "execution_count": 2,
      "outputs": [
        {
          "output_type": "execute_result",
          "data": {
            "text/plain": [
              "0.15865525393145707"
            ]
          },
          "metadata": {},
          "execution_count": 2
        }
      ]
    },
    {
      "cell_type": "markdown",
      "source": [
        "P(X<-1)"
      ],
      "metadata": {
        "id": "rV3IYj6Zehd4"
      }
    },
    {
      "cell_type": "code",
      "source": [
        "stats.norm.cdf(-1)"
      ],
      "metadata": {
        "colab": {
          "base_uri": "https://localhost:8080/"
        },
        "id": "5bZHslS2SRgT",
        "outputId": "9dd234f7-a835-481c-d8fc-d3ff13551895"
      },
      "execution_count": 3,
      "outputs": [
        {
          "output_type": "execute_result",
          "data": {
            "text/plain": [
              "0.15865525393145707"
            ]
          },
          "metadata": {},
          "execution_count": 3
        }
      ]
    },
    {
      "cell_type": "markdown",
      "source": [
        "P(|X|<2)"
      ],
      "metadata": {
        "id": "BejQM733ekA3"
      }
    },
    {
      "cell_type": "code",
      "source": [
        "stats.norm.cdf(2)-stats.norm.cdf(-2)"
      ],
      "metadata": {
        "colab": {
          "base_uri": "https://localhost:8080/"
        },
        "id": "mlCH0JFiSfk8",
        "outputId": "982dee3b-4501-4525-cc02-b46893e93a73"
      },
      "execution_count": 4,
      "outputs": [
        {
          "output_type": "execute_result",
          "data": {
            "text/plain": [
              "0.9544997361036416"
            ]
          },
          "metadata": {},
          "execution_count": 4
        }
      ]
    },
    {
      "cell_type": "markdown",
      "source": [
        "Cuantil 0.1"
      ],
      "metadata": {
        "id": "MPi0jPyxetfV"
      }
    },
    {
      "cell_type": "code",
      "source": [
        "stats.norm.ppf(0.1)"
      ],
      "metadata": {
        "colab": {
          "base_uri": "https://localhost:8080/"
        },
        "id": "NSoXr0R_TKv8",
        "outputId": "a43ddec2-98a1-4fdf-e40d-72f61e889b19"
      },
      "execution_count": 5,
      "outputs": [
        {
          "output_type": "execute_result",
          "data": {
            "text/plain": [
              "-1.2815515655446004"
            ]
          },
          "metadata": {},
          "execution_count": 5
        }
      ]
    },
    {
      "cell_type": "markdown",
      "source": [
        "Cuantil 0.9"
      ],
      "metadata": {
        "id": "lSqsOQ7ueu71"
      }
    },
    {
      "cell_type": "code",
      "source": [
        "stats.norm.ppf(0.9)"
      ],
      "metadata": {
        "colab": {
          "base_uri": "https://localhost:8080/"
        },
        "id": "Fc3Ta9FhUEM5",
        "outputId": "d0a5de30-dba7-47c8-99ca-bdc84e2d750c"
      },
      "execution_count": 6,
      "outputs": [
        {
          "output_type": "execute_result",
          "data": {
            "text/plain": [
              "1.2815515655446004"
            ]
          },
          "metadata": {},
          "execution_count": 6
        }
      ]
    },
    {
      "cell_type": "markdown",
      "source": [
        "P(2X+Y<5), X\\~N(0,1), Y\\~N(2,9)"
      ],
      "metadata": {
        "id": "5Bq9JakyexVR"
      }
    },
    {
      "cell_type": "code",
      "source": [
        "stats.norm.cdf(5,2,np.sqrt(13))"
      ],
      "metadata": {
        "colab": {
          "base_uri": "https://localhost:8080/"
        },
        "id": "9asfXLe9UOV5",
        "outputId": "b5c73f78-d3fa-4c34-8aa5-9a812d375f0f"
      },
      "execution_count": 8,
      "outputs": [
        {
          "output_type": "execute_result",
          "data": {
            "text/plain": [
              "0.7973097217705288"
            ]
          },
          "metadata": {},
          "execution_count": 8
        }
      ]
    },
    {
      "cell_type": "markdown",
      "source": [
        "#Ejerccio 2 \n",
        "\n",
        "\n",
        "P(X>2)"
      ],
      "metadata": {
        "id": "IncVIbycWiNd"
      }
    },
    {
      "cell_type": "code",
      "source": [
        "1- stats.expon.cdf(2, scale=5)"
      ],
      "metadata": {
        "colab": {
          "base_uri": "https://localhost:8080/"
        },
        "id": "7Sh139crVeBS",
        "outputId": "2712cc16-30af-42a0-8d7c-9f3336b1d71a"
      },
      "execution_count": 11,
      "outputs": [
        {
          "output_type": "execute_result",
          "data": {
            "text/plain": [
              "0.6703200460356393"
            ]
          },
          "metadata": {},
          "execution_count": 11
        }
      ]
    },
    {
      "cell_type": "markdown",
      "source": [
        "P(X>5|X>3) = P(X>5)/P(X>3)"
      ],
      "metadata": {
        "id": "fLXTlNoneMdH"
      }
    },
    {
      "cell_type": "code",
      "source": [
        "(1-stats.expon.cdf(5, scale=5))/(1-stats.expon.cdf(3, scale=5))"
      ],
      "metadata": {
        "colab": {
          "base_uri": "https://localhost:8080/"
        },
        "id": "Cex8OYF9W2Ev",
        "outputId": "1bf3bf7f-50fd-4acc-b834-a1ee78b45624"
      },
      "execution_count": 12,
      "outputs": [
        {
          "output_type": "execute_result",
          "data": {
            "text/plain": [
              "0.6703200460356393"
            ]
          },
          "metadata": {},
          "execution_count": 12
        }
      ]
    },
    {
      "cell_type": "markdown",
      "source": [
        "#Ejercicio 3\n",
        "\n",
        "P(X<2, Y<-1)"
      ],
      "metadata": {
        "id": "OcbKprrqcO7o"
      }
    },
    {
      "cell_type": "code",
      "source": [
        "stats.multivariate_normal.cdf([2,-1],mean=[0,0], cov=np.array([[1, -0.8],[-0.8, 1]]))"
      ],
      "metadata": {
        "colab": {
          "base_uri": "https://localhost:8080/"
        },
        "id": "g3yraXw-X9yg",
        "outputId": "0c402402-5c49-4bf8-c924-83fa3bd0fa11"
      },
      "execution_count": 15,
      "outputs": [
        {
          "output_type": "execute_result",
          "data": {
            "text/plain": [
              "0.13779566999920148"
            ]
          },
          "metadata": {},
          "execution_count": 15
        }
      ]
    },
    {
      "cell_type": "code",
      "source": [
        ""
      ],
      "metadata": {
        "id": "T4Z2SXlzcvyH"
      },
      "execution_count": null,
      "outputs": []
    }
  ]
}