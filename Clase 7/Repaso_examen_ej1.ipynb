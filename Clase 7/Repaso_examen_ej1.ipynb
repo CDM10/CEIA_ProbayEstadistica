{
 "cells": [
  {
   "cell_type": "code",
   "execution_count": 1,
   "id": "99b8f9f1-f026-4706-b7aa-37e0d44947b7",
   "metadata": {},
   "outputs": [],
   "source": [
    "from scipy import stats\n",
    "from numpy import sqrt\n",
    "import numpy as np"
   ]
  },
  {
   "cell_type": "markdown",
   "id": "6a0d763a-56a2-48a6-a772-c05ad99a0879",
   "metadata": {},
   "source": [
    "# P(Z<1,29)"
   ]
  },
  {
   "cell_type": "code",
   "execution_count": 3,
   "id": "d7bc57b2-4df6-46c9-b4f3-826c7fe0e30c",
   "metadata": {},
   "outputs": [
    {
     "data": {
      "text/plain": [
       "0.9014746709502521"
      ]
     },
     "execution_count": 3,
     "metadata": {},
     "output_type": "execute_result"
    }
   ],
   "source": [
    "stats.norm.cdf(1.29)"
   ]
  },
  {
   "cell_type": "markdown",
   "id": "059b6751-9f7f-42a1-8f3b-09882aaf523c",
   "metadata": {},
   "source": [
    "# Calculamos el cuantil 0.95 de una normal estandar"
   ]
  },
  {
   "cell_type": "code",
   "execution_count": 4,
   "id": "ab684867-69e8-46c1-889c-0aaabd00a176",
   "metadata": {},
   "outputs": [
    {
     "data": {
      "text/plain": [
       "1.6448536269514722"
      ]
     },
     "execution_count": 4,
     "metadata": {},
     "output_type": "execute_result"
    }
   ],
   "source": [
    "stats.norm.ppf(0.95)"
   ]
  },
  {
   "cell_type": "markdown",
   "id": "2d8977d9-c25e-491e-be8b-40a87d850cfd",
   "metadata": {},
   "source": [
    "## Simular item a)\n",
    "## Calcular P(T > 142925)"
   ]
  },
  {
   "cell_type": "code",
   "execution_count": 19,
   "id": "22c980a9-6a23-4b19-a7ae-4af73bb61ed3",
   "metadata": {},
   "outputs": [
    {
     "data": {
      "text/plain": [
       "0.0952"
      ]
     },
     "execution_count": 19,
     "metadata": {},
     "output_type": "execute_result"
    }
   ],
   "source": [
    "N = np.random.normal(95529, 30127, 10000)\n",
    "SC = np.random.normal(8268, 2481, 10000)\n",
    "Prod_total = N + SC\n",
    "np.count_nonzero(Prod_total>142925) / 10000"
   ]
  },
  {
   "cell_type": "markdown",
   "id": "518eef87-a1f8-489c-b334-4c4434f3f41d",
   "metadata": {
    "tags": []
   },
   "source": [
    "## Simular item b)\n",
    "## Calcular P($X_N$ > 10$X_S$)"
   ]
  },
  {
   "cell_type": "code",
   "execution_count": 21,
   "id": "6f36d351-8473-45be-b381-2a3f447c3226",
   "metadata": {},
   "outputs": [
    {
     "data": {
      "text/plain": [
       "0.645"
      ]
     },
     "execution_count": 21,
     "metadata": {},
     "output_type": "execute_result"
    }
   ],
   "source": [
    "N = np.random.normal(95529, 30127, 1000)\n",
    "SC = np.random.normal(8268, 2481, 1000)\n",
    "Prod_total = N - 10*SC\n",
    "np.count_nonzero(Prod_total > 0) / 1000"
   ]
  },
  {
   "cell_type": "code",
   "execution_count": 29,
   "id": "afed4d68-414c-4c61-adc5-ff7202fa9829",
   "metadata": {},
   "outputs": [
    {
     "data": {
      "text/plain": [
       "0.61"
      ]
     },
     "execution_count": 29,
     "metadata": {},
     "output_type": "execute_result"
    }
   ],
   "source": [
    "norm1 = np.random.normal(0,1,1000)\n",
    "N = 95529 + norm1*30127\n",
    "norm2 = np.random.normal(0,1,1000)\n",
    "SC = 8268 + norm2*2481\n",
    "Prod_total = N - 10*SC\n",
    "np.count_nonzero(Prod_total > 0) / 1000"
   ]
  },
  {
   "cell_type": "markdown",
   "id": "b45819fe-025f-48ad-9bbf-7985625cc6ec",
   "metadata": {},
   "source": [
    "## Simular item c)\n",
    "## Calcular cantidad mínima de barriles"
   ]
  },
  {
   "cell_type": "code",
   "execution_count": 34,
   "id": "da021b09-8189-4bf8-821a-1bd4ec535e58",
   "metadata": {},
   "outputs": [
    {
     "data": {
      "text/plain": [
       "77218.64494783725"
      ]
     },
     "execution_count": 34,
     "metadata": {},
     "output_type": "execute_result"
    }
   ],
   "source": [
    "SC = np.random.normal(8268, 2481, 10000)\n",
    "stats.scoreatpercentile(SC, 95) / 0.159"
   ]
  },
  {
   "cell_type": "code",
   "execution_count": null,
   "id": "4f7f782f-06ee-4a50-95d7-10a0d8dd679e",
   "metadata": {},
   "outputs": [],
   "source": []
  }
 ],
 "metadata": {
  "kernelspec": {
   "display_name": "Python 3 (ipykernel)",
   "language": "python",
   "name": "python3"
  },
  "language_info": {
   "codemirror_mode": {
    "name": "ipython",
    "version": 3
   },
   "file_extension": ".py",
   "mimetype": "text/x-python",
   "name": "python",
   "nbconvert_exporter": "python",
   "pygments_lexer": "ipython3",
   "version": "3.9.12"
  }
 },
 "nbformat": 4,
 "nbformat_minor": 5
}
