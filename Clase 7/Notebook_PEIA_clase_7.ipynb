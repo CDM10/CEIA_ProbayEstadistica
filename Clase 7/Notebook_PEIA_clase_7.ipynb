{
  "nbformat": 4,
  "nbformat_minor": 0,
  "metadata": {
    "colab": {
      "name": "Notebook - PEIA clase 7.ipynb",
      "provenance": []
    },
    "kernelspec": {
      "name": "python3",
      "display_name": "Python 3"
    },
    "language_info": {
      "name": "python"
    }
  },
  "cells": [
    {
      "cell_type": "code",
      "execution_count": 6,
      "metadata": {
        "id": "ZY1LaF5V1zYW"
      },
      "outputs": [],
      "source": [
        "import numpy as np\n",
        "import matplotlib.pyplot as plt\n",
        "from scipy import stats\n",
        "import seaborn as sns"
      ]
    },
    {
      "cell_type": "markdown",
      "source": [
        "Ejercicio 1"
      ],
      "metadata": {
        "id": "XEBIBq_f3h8r"
      }
    },
    {
      "cell_type": "code",
      "source": [
        "n=10000\n",
        "u = stats.uniform.rvs(size=n)\n",
        "x = 3*np.sqrt(u)"
      ],
      "metadata": {
        "id": "9f6_CGF5112C"
      },
      "execution_count": 12,
      "outputs": []
    },
    {
      "cell_type": "code",
      "source": [
        "sns.kdeplot(x)\n",
        "t = np.linspace(0,3,100)\n",
        "plt.plot(t, 2/9*t)"
      ],
      "metadata": {
        "colab": {
          "base_uri": "https://localhost:8080/",
          "height": 286
        },
        "id": "f3XdeVb52sy9",
        "outputId": "6d0ade61-93c7-47af-b583-22bc4f20d314"
      },
      "execution_count": 13,
      "outputs": [
        {
          "output_type": "execute_result",
          "data": {
            "text/plain": [
              "[<matplotlib.lines.Line2D at 0x7fa20b276bd0>]"
            ]
          },
          "metadata": {},
          "execution_count": 13
        },
        {
          "output_type": "display_data",
          "data": {
            "text/plain": [
              "<Figure size 432x288 with 1 Axes>"
            ],
            "image/png": "[encoded data removed]"
          },
          "metadata": {
            "needs_background": "light"
          }
        }
      ]
    },
    {
      "cell_type": "markdown",
      "source": [
        "Ejercicio 2"
      ],
      "metadata": {
        "id": "bYq7H-733kBT"
      }
    },
    {
      "cell_type": "code",
      "source": [
        "n=100000\n",
        "E = stats.bernoulli.rvs(0.95, size=n)"
      ],
      "metadata": {
        "id": "UxrepSZ926qp"
      },
      "execution_count": 27,
      "outputs": []
    },
    {
      "cell_type": "code",
      "source": [
        "mask_ones = E==1\n",
        "R = np.zeros(n)\n",
        "R[mask_ones] = stats.bernoulli.rvs(0.9995, size=sum(mask_ones)) # emiti 1\n",
        "R[~mask_ones] = stats.bernoulli.rvs(0.1, size=n-sum(mask_ones)) # emiti 0"
      ],
      "metadata": {
        "id": "EM5UA6no8Djg"
      },
      "execution_count": 28,
      "outputs": []
    },
    {
      "cell_type": "code",
      "source": [
        "P_E0 = (n-sum(E))/n\n",
        "print(P_E0)"
      ],
      "metadata": {
        "colab": {
          "base_uri": "https://localhost:8080/"
        },
        "id": "QlxEaSbL9Vm6",
        "outputId": "b5bf1332-d8cd-442b-fc9e-eb3f9d3db243"
      },
      "execution_count": 29,
      "outputs": [
        {
          "output_type": "stream",
          "name": "stdout",
          "text": [
            "0.05126\n"
          ]
        }
      ]
    },
    {
      "cell_type": "code",
      "source": [
        "P_Ro_dado_E1 = 1- sum(R[mask_ones])/sum(E[mask_ones])\n",
        "print(P_Ro_dado_E1)"
      ],
      "metadata": {
        "colab": {
          "base_uri": "https://localhost:8080/"
        },
        "id": "mbg5bhGG9aqj",
        "outputId": "71295f4a-6b73-4b64-ea94-fbf5e880b835"
      },
      "execution_count": 30,
      "outputs": [
        {
          "output_type": "stream",
          "name": "stdout",
          "text": [
            "0.0005059341863945521\n"
          ]
        }
      ]
    },
    {
      "cell_type": "markdown",
      "source": [
        "Ejercicio 3"
      ],
      "metadata": {
        "id": "1rscVyQZ_g6g"
      }
    },
    {
      "cell_type": "code",
      "source": [
        "q = stats.norm.ppf(0.975)\n",
        "print(q)"
      ],
      "metadata": {
        "colab": {
          "base_uri": "https://localhost:8080/"
        },
        "id": "uDTULbZT_TF0",
        "outputId": "df368c6f-7cab-40b1-eaaa-c49581597356"
      },
      "execution_count": 33,
      "outputs": [
        {
          "output_type": "stream",
          "name": "stdout",
          "text": [
            "1.959963984540054\n"
          ]
        }
      ]
    },
    {
      "cell_type": "code",
      "source": [
        "1-stats.norm.cdf(4.5)"
      ],
      "metadata": {
        "colab": {
          "base_uri": "https://localhost:8080/"
        },
        "id": "ZBZl51ewA_as",
        "outputId": "aa818cea-6889-4882-b275-3980cc285abc"
      },
      "execution_count": 34,
      "outputs": [
        {
          "output_type": "execute_result",
          "data": {
            "text/plain": [
              "3.3976731247387093e-06"
            ]
          },
          "metadata": {},
          "execution_count": 34
        }
      ]
    },
    {
      "cell_type": "code",
      "source": [
        ""
      ],
      "metadata": {
        "id": "fHHEfvrHHbWB"
      },
      "execution_count": null,
      "outputs": []
    }
  ]
}