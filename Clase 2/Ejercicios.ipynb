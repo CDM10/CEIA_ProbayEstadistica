{
 "cells": [
  {
   "cell_type": "markdown",
   "id": "3cc7654e-fe5d-42dc-8264-a4d36606f2cc",
   "metadata": {},
   "source": [
    "# Ejercicio 4"
   ]
  },
  {
   "cell_type": "markdown",
   "id": "2bd6d767-2e98-46d6-aec2-2404248d813d",
   "metadata": {},
   "source": [
    "## Simulo arrojar un dado equilibrado"
   ]
  },
  {
   "cell_type": "code",
   "execution_count": 2,
   "id": "6e91a50c-75b3-4772-bb34-f0c32d2608f5",
   "metadata": {},
   "outputs": [],
   "source": [
    "import scipy.stats as stats # para cosas de estadistica como calculo de probas, cuantiles y generación de valores aleatorios\n",
    "import numpy as np # Operaciones matemáticas y matriciales en general"
   ]
  },
  {
   "cell_type": "code",
   "execution_count": 3,
   "id": "411962b5-e2e9-4592-be79-15fcdbc97b8b",
   "metadata": {},
   "outputs": [],
   "source": [
    "u = stats.uniform.rvs(size=1000)"
   ]
  },
  {
   "cell_type": "code",
   "execution_count": null,
   "id": "3792752a-3b55-4875-9600-f9db1d198a7d",
   "metadata": {},
   "outputs": [],
   "source": [
    "x = np.ceil(u*6)"
   ]
  },
  {
   "cell_type": "markdown",
   "id": "7278d163-5bc9-4831-a275-c3e2fdb767c8",
   "metadata": {},
   "source": [
    "# Ejercicio 5"
   ]
  },
  {
   "cell_type": "code",
   "execution_count": 6,
   "id": "9ac50371-967a-4351-92e0-3e2a210da72a",
   "metadata": {},
   "outputs": [],
   "source": [
    "y = -np.log(1-u)*5"
   ]
  },
  {
   "cell_type": "code",
   "execution_count": 8,
   "id": "6f3155f0-7cdc-47d1-bbe2-48880cd9fa85",
   "metadata": {},
   "outputs": [
    {
     "data": {
      "text/plain": [
       "0.649"
      ]
     },
     "execution_count": 8,
     "metadata": {},
     "output_type": "execute_result"
    }
   ],
   "source": [
    "sum(y > 2)/1000"
   ]
  },
  {
   "cell_type": "code",
   "execution_count": 9,
   "id": "0f88b0ed-8010-42d8-b837-851e6b77250d",
   "metadata": {},
   "outputs": [
    {
     "data": {
      "text/plain": [
       "0.6863117870722434"
      ]
     },
     "execution_count": 9,
     "metadata": {},
     "output_type": "execute_result"
    }
   ],
   "source": [
    "sum(y > 5)/sum(y > 3)"
   ]
  },
  {
   "cell_type": "code",
   "execution_count": null,
   "id": "96fcbfe2-dca4-4d98-b325-37bb22bcec44",
   "metadata": {},
   "outputs": [],
   "source": []
  }
 ],
 "metadata": {
  "kernelspec": {
   "display_name": "Python 3 (ipykernel)",
   "language": "python",
   "name": "python3"
  },
  "language_info": {
   "codemirror_mode": {
    "name": "ipython",
    "version": 3
   },
   "file_extension": ".py",
   "mimetype": "text/x-python",
   "name": "python",
   "nbconvert_exporter": "python",
   "pygments_lexer": "ipython3",
   "version": "3.9.12"
  }
 },
 "nbformat": 4,
 "nbformat_minor": 5
}
