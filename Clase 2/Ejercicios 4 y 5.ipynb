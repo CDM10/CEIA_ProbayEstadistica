{
 "cells": [
  {
   "cell_type": "code",
   "execution_count": 2,
   "id": "b20ef61f-b9fb-422e-a761-be2f19f87dbf",
   "metadata": {},
   "outputs": [],
   "source": [
    "import scipy.stats as stats # para cosas de estadistica como calculo de probas, cuantiles y generación de valores aleatorios\n",
    "import numpy as np # Operaciones matemáticas y matriciales en general"
   ]
  },
  {
   "cell_type": "markdown",
   "id": "c8474ed0-18bd-41fe-960b-86a6bb2c93c1",
   "metadata": {},
   "source": [
    "# Ejercicio 4"
   ]
  },
  {
   "cell_type": "code",
   "execution_count": 8,
   "id": "dd921a97-1135-46c1-bb58-7636cce2edeb",
   "metadata": {},
   "outputs": [],
   "source": [
    "u = stats.uniform.rvs(size=1000)  #simulamos 1000 realizaciones de una v.a. uniforme(0,1)\n"
   ]
  },
  {
   "cell_type": "code",
   "execution_count": 9,
   "id": "d40ab5b9-9748-41c1-86bc-e56aa7b06582",
   "metadata": {},
   "outputs": [],
   "source": [
    "x = np.ceil(u*6) #Simulamos 1000 resultados obtenidos de lanzar un dado equilibrado\n"
   ]
  },
  {
   "cell_type": "markdown",
   "id": "74f43f9e-b1a9-4ea2-bcb0-5dc96663471d",
   "metadata": {},
   "source": [
    "# Ejercicio 5"
   ]
  },
  {
   "cell_type": "markdown",
   "id": "b88f788a-fb52-48e8-9b69-7c96cfc5d6cf",
   "metadata": {},
   "source": [
    "## X $\\sim$ Exp(1/5)"
   ]
  },
  {
   "cell_type": "code",
   "execution_count": 11,
   "id": "03d4e6e1-17dd-4733-8257-f71fda8bf193",
   "metadata": {},
   "outputs": [],
   "source": [
    "u = stats.uniform.rvs(size=1000)\n",
    "y = -np.log(1-u)*5"
   ]
  },
  {
   "cell_type": "markdown",
   "id": "f15857e5-e002-4c91-b293-3565af7c8f1d",
   "metadata": {},
   "source": [
    "## a) P(X > 2) "
   ]
  },
  {
   "cell_type": "code",
   "execution_count": 12,
   "id": "0a36fd3f-5547-4530-ba73-602807445abf",
   "metadata": {},
   "outputs": [
    {
     "data": {
      "text/plain": [
       "0.661"
      ]
     },
     "execution_count": 12,
     "metadata": {},
     "output_type": "execute_result"
    }
   ],
   "source": [
    "sum(y > 2)/1000"
   ]
  },
  {
   "cell_type": "markdown",
   "id": "2bfcb6f7-721f-490c-9b23-ef99a0ed583d",
   "metadata": {},
   "source": [
    "## b) P(X > 5 | X > 3) "
   ]
  },
  {
   "cell_type": "code",
   "execution_count": 14,
   "id": "9697ce7f-b5d5-461f-b2d9-a21f82c095f7",
   "metadata": {},
   "outputs": [
    {
     "data": {
      "text/plain": [
       "0.6702508960573477"
      ]
     },
     "execution_count": 14,
     "metadata": {},
     "output_type": "execute_result"
    }
   ],
   "source": [
    "sum(y > 5) / sum(y > 3)"
   ]
  },
  {
   "cell_type": "code",
   "execution_count": null,
   "id": "82069059-9588-4552-9c5c-a534a2472a04",
   "metadata": {},
   "outputs": [],
   "source": []
  }
 ],
 "metadata": {
  "kernelspec": {
   "display_name": "Python 3 (ipykernel)",
   "language": "python",
   "name": "python3"
  },
  "language_info": {
   "codemirror_mode": {
    "name": "ipython",
    "version": 3
   },
   "file_extension": ".py",
   "mimetype": "text/x-python",
   "name": "python",
   "nbconvert_exporter": "python",
   "pygments_lexer": "ipython3",
   "version": "3.9.12"
  }
 },
 "nbformat": 4,
 "nbformat_minor": 5
}
