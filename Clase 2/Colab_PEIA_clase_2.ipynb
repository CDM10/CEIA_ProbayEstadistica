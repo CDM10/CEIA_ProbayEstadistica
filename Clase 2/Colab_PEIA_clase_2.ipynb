{
  "nbformat": 4,
  "nbformat_minor": 0,
  "metadata": {
    "colab": {
      "name": "Colab PEIA clase 2.ipynb",
      "provenance": []
    },
    "kernelspec": {
      "name": "python3",
      "display_name": "Python 3"
    },
    "language_info": {
      "name": "python"
    }
  },
  "cells": [
    {
      "cell_type": "markdown",
      "source": [
        "Importo librerías"
      ],
      "metadata": {
        "id": "Z3ARhjMAxtwF"
      }
    },
    {
      "cell_type": "code",
      "execution_count": 12,
      "metadata": {
        "id": "emQ46Chf8fR-"
      },
      "outputs": [],
      "source": [
        "from scipy.stats import uniform # importo la v.a. uniforme de stats\n",
        "from numpy import log # importo el logaritmo\n",
        "import matplotlib.pyplot as plt #para graficas"
      ]
    },
    {
      "cell_type": "markdown",
      "source": [
        "Defino la función que me transforma de la variable $U\\sim \\mathcal{U}(0,1)$ a la variable X dada por el resultado de arrojar un dado equilibrado y observar el resultado. "
      ],
      "metadata": {
        "id": "r9I42lH2x4Ys"
      }
    },
    {
      "cell_type": "code",
      "source": [
        "def u2x(u):\n",
        "  return u//(1/6) +1"
      ],
      "metadata": {
        "id": "icdl_pgw86-Y"
      },
      "execution_count": 4,
      "outputs": []
    },
    {
      "cell_type": "markdown",
      "source": [
        "Genero 1000 muestras de la v.a. U y las transformo para obtener muestras de X"
      ],
      "metadata": {
        "id": "nvZSx2_3yMiQ"
      }
    },
    {
      "cell_type": "code",
      "source": [
        "u = uniform.rvs(size=1000)\n",
        "x = u2x(u)"
      ],
      "metadata": {
        "id": "BXniz4rH8uAT"
      },
      "execution_count": 5,
      "outputs": []
    },
    {
      "cell_type": "markdown",
      "source": [
        "Observo los resultados de x"
      ],
      "metadata": {
        "id": "2jceEu3ZyTsm"
      }
    },
    {
      "cell_type": "code",
      "source": [
        "x"
      ],
      "metadata": {
        "colab": {
          "base_uri": "https://localhost:8080/"
        },
        "id": "WzD8zmPy-Jx_",
        "outputId": "055b78e3-8c43-4329-9851-c00074738f9e"
      },
      "execution_count": 6,
      "outputs": [
        {
          "output_type": "execute_result",
          "data": {
            "text/plain": [
              "array([5., 2., 2., 3., 6., 3., 3., 2., 6., 6., 4., 1., 6., 4., 2., 6., 4.,\n",
              "       3., 5., 1., 3., 1., 2., 1., 1., 6., 6., 2., 5., 3., 3., 3., 4., 1.,\n",
              "       3., 4., 5., 4., 6., 6., 5., 4., 3., 5., 6., 6., 6., 1., 2., 2., 5.,\n",
              "       6., 3., 4., 3., 3., 2., 6., 6., 3., 3., 4., 5., 2., 1., 1., 3., 3.,\n",
              "       4., 6., 2., 3., 6., 2., 4., 6., 4., 2., 2., 3., 5., 3., 1., 6., 4.,\n",
              "       1., 1., 6., 4., 2., 5., 6., 1., 6., 1., 4., 2., 6., 5., 4., 4., 5.,\n",
              "       2., 4., 1., 4., 3., 6., 2., 3., 4., 5., 1., 5., 6., 3., 5., 2., 2.,\n",
              "       1., 6., 2., 4., 4., 6., 3., 4., 1., 1., 2., 1., 5., 5., 6., 6., 6.,\n",
              "       2., 1., 4., 3., 3., 6., 4., 3., 6., 6., 1., 4., 2., 3., 2., 3., 1.,\n",
              "       6., 1., 3., 2., 1., 4., 2., 5., 6., 2., 1., 5., 6., 4., 6., 4., 3.,\n",
              "       4., 6., 4., 4., 4., 4., 5., 2., 2., 3., 2., 6., 3., 4., 2., 3., 2.,\n",
              "       5., 3., 3., 1., 6., 4., 5., 2., 1., 1., 1., 6., 4., 4., 6., 6., 3.,\n",
              "       1., 6., 1., 6., 6., 3., 1., 2., 2., 6., 5., 2., 2., 5., 3., 2., 1.,\n",
              "       6., 1., 3., 6., 1., 1., 5., 6., 2., 4., 5., 5., 6., 5., 1., 2., 4.,\n",
              "       2., 3., 6., 2., 5., 2., 4., 3., 6., 4., 2., 2., 2., 6., 6., 2., 1.,\n",
              "       6., 6., 1., 6., 2., 2., 4., 3., 6., 3., 1., 2., 3., 2., 3., 5., 3.,\n",
              "       6., 4., 3., 5., 4., 2., 3., 5., 5., 4., 4., 1., 2., 6., 2., 1., 5.,\n",
              "       1., 6., 2., 4., 1., 1., 1., 4., 6., 6., 1., 3., 3., 1., 4., 5., 3.,\n",
              "       4., 5., 4., 4., 5., 1., 1., 1., 5., 1., 5., 2., 1., 5., 1., 2., 5.,\n",
              "       5., 2., 2., 1., 2., 2., 5., 5., 3., 4., 2., 2., 3., 4., 1., 1., 1.,\n",
              "       6., 6., 4., 5., 5., 4., 4., 3., 3., 1., 1., 1., 5., 5., 3., 3., 3.,\n",
              "       3., 4., 1., 3., 5., 1., 5., 6., 6., 2., 2., 6., 3., 4., 5., 3., 3.,\n",
              "       4., 4., 1., 4., 6., 2., 1., 5., 4., 6., 6., 3., 6., 4., 6., 4., 5.,\n",
              "       2., 1., 1., 6., 1., 6., 5., 5., 5., 4., 1., 1., 1., 2., 3., 1., 6.,\n",
              "       3., 1., 1., 5., 5., 4., 4., 3., 3., 6., 6., 5., 1., 2., 3., 1., 4.,\n",
              "       1., 5., 1., 4., 4., 4., 6., 4., 2., 1., 4., 6., 2., 4., 3., 2., 3.,\n",
              "       6., 4., 6., 5., 6., 5., 2., 4., 1., 1., 5., 4., 3., 4., 2., 1., 5.,\n",
              "       2., 6., 6., 1., 1., 6., 4., 2., 1., 3., 5., 6., 6., 6., 6., 1., 5.,\n",
              "       5., 2., 5., 3., 4., 1., 3., 2., 1., 5., 3., 3., 1., 4., 5., 1., 5.,\n",
              "       5., 6., 2., 2., 2., 4., 1., 3., 1., 1., 3., 6., 5., 5., 6., 1., 4.,\n",
              "       3., 3., 5., 4., 1., 2., 1., 4., 3., 6., 2., 1., 3., 2., 5., 4., 2.,\n",
              "       2., 3., 1., 1., 2., 1., 1., 5., 6., 6., 4., 1., 3., 6., 3., 2., 4.,\n",
              "       5., 1., 2., 6., 3., 6., 5., 1., 2., 4., 1., 1., 5., 3., 5., 1., 6.,\n",
              "       3., 3., 2., 1., 5., 2., 4., 5., 3., 4., 5., 4., 6., 1., 6., 5., 5.,\n",
              "       6., 2., 4., 4., 4., 1., 5., 2., 3., 4., 6., 5., 3., 1., 1., 5., 6.,\n",
              "       5., 1., 2., 3., 5., 2., 1., 5., 4., 1., 6., 2., 3., 4., 3., 6., 4.,\n",
              "       5., 4., 6., 3., 2., 2., 6., 2., 1., 3., 1., 2., 4., 3., 2., 4., 2.,\n",
              "       3., 6., 3., 3., 3., 3., 5., 1., 2., 3., 4., 4., 1., 3., 4., 1., 4.,\n",
              "       2., 2., 2., 4., 3., 2., 2., 4., 1., 5., 4., 2., 1., 5., 1., 1., 5.,\n",
              "       5., 6., 5., 1., 3., 4., 4., 3., 6., 3., 4., 3., 4., 2., 1., 1., 3.,\n",
              "       3., 6., 1., 1., 5., 2., 4., 1., 6., 5., 2., 3., 2., 1., 3., 4., 3.,\n",
              "       2., 2., 4., 2., 4., 6., 5., 3., 5., 6., 1., 5., 5., 4., 2., 6., 4.,\n",
              "       1., 6., 3., 4., 4., 4., 2., 5., 4., 3., 4., 6., 6., 5., 6., 1., 4.,\n",
              "       5., 2., 5., 3., 1., 2., 6., 1., 2., 4., 3., 6., 6., 3., 5., 1., 6.,\n",
              "       3., 6., 3., 1., 6., 6., 1., 5., 1., 1., 4., 1., 6., 5., 5., 1., 3.,\n",
              "       6., 6., 6., 1., 1., 1., 4., 5., 4., 2., 1., 1., 1., 4., 5., 4., 4.,\n",
              "       6., 1., 1., 4., 2., 2., 3., 3., 6., 5., 3., 3., 2., 4., 1., 1., 3.,\n",
              "       5., 2., 6., 1., 4., 6., 1., 5., 6., 6., 5., 3., 2., 6., 1., 3., 1.,\n",
              "       5., 5., 2., 2., 3., 5., 2., 3., 3., 3., 5., 2., 3., 5., 5., 1., 3.,\n",
              "       5., 5., 2., 1., 2., 4., 4., 3., 6., 4., 1., 5., 6., 6., 1., 5., 3.,\n",
              "       1., 5., 4., 1., 6., 2., 6., 2., 5., 2., 2., 6., 2., 6., 4., 6., 3.,\n",
              "       2., 6., 5., 2., 4., 2., 1., 2., 4., 1., 1., 5., 6., 1., 3., 5., 6.,\n",
              "       3., 5., 6., 3., 4., 6., 5., 5., 3., 3., 4., 4., 4., 4., 3., 3., 2.,\n",
              "       5., 5., 4., 5., 2., 3., 3., 5., 5., 5., 5., 3., 2., 1., 2., 4., 2.,\n",
              "       2., 2., 1., 3., 4., 2., 4., 2., 2., 1., 2., 5., 1., 6., 2., 4., 3.,\n",
              "       1., 6., 3., 5., 4., 4., 5., 1., 6., 3., 1., 3., 1., 5., 3., 2., 6.,\n",
              "       3., 1., 3., 6., 3., 2., 1., 3., 4., 2., 1., 4., 5., 1., 2., 2., 6.,\n",
              "       6., 2., 4., 2., 1., 4., 4., 1., 4., 6., 3., 6., 4., 6., 5., 5., 4.,\n",
              "       3., 1., 4., 5., 3., 2., 2., 1., 4., 4., 4., 6., 3., 1.])"
            ]
          },
          "metadata": {},
          "execution_count": 6
        }
      ]
    },
    {
      "cell_type": "code",
      "source": [
        "sum(x==6)/1000"
      ],
      "metadata": {
        "colab": {
          "base_uri": "https://localhost:8080/"
        },
        "id": "MSDZm6-p-TLH",
        "outputId": "e24d3088-bd82-4297-d549-40c0b953cd85"
      },
      "execution_count": 7,
      "outputs": [
        {
          "output_type": "execute_result",
          "data": {
            "text/plain": [
              "0.164"
            ]
          },
          "metadata": {},
          "execution_count": 7
        }
      ]
    },
    {
      "cell_type": "markdown",
      "source": [
        "Ahora busco transformar U para obtener una v.a. X con distribución exponencial de parámetro 1/5. La transformación"
      ],
      "metadata": {
        "id": "-ywwxIc0ydgY"
      }
    },
    {
      "cell_type": "code",
      "source": [
        "def u2exp(u):\n",
        "  return -5*log(1-u)"
      ],
      "metadata": {
        "id": "9rj_qkEmyo-X"
      },
      "execution_count": 9,
      "outputs": []
    },
    {
      "cell_type": "code",
      "source": [
        "x2=u2exp(u)"
      ],
      "metadata": {
        "id": "LAUDu4_E-YPJ"
      },
      "execution_count": 10,
      "outputs": []
    },
    {
      "cell_type": "markdown",
      "source": [
        "Vamos a usar una técnica para estamar la densidad. La misma es un histograma y lo veremos más adelante. Lo importante es que veamos que la gráfica obtenida es similar a la función de densidad de una exponencial de parámetro 1/5"
      ],
      "metadata": {
        "id": "iBc63OHexZiL"
      }
    },
    {
      "cell_type": "code",
      "source": [
        "plt.hist(x2, density=True)"
      ],
      "metadata": {
        "colab": {
          "base_uri": "https://localhost:8080/",
          "height": 369
        },
        "id": "2JK3arA3ASmq",
        "outputId": "153b8309-788f-41d7-ba2a-a4e1057b3150"
      },
      "execution_count": 13,
      "outputs": [
        {
          "output_type": "execute_result",
          "data": {
            "text/plain": [
              "(array([0.1522292 , 0.07818034, 0.04195043, 0.02224644, 0.00953419,\n",
              "        0.00603832, 0.00317806, 0.00127123, 0.00095342, 0.00222464]),\n",
              " array([1.68255648e-03, 3.14825366e+00, 6.29482477e+00, 9.44139588e+00,\n",
              "        1.25879670e+01, 1.57345381e+01, 1.88811092e+01, 2.20276803e+01,\n",
              "        2.51742514e+01, 2.83208225e+01, 3.14673936e+01]),\n",
              " <a list of 10 Patch objects>)"
            ]
          },
          "metadata": {},
          "execution_count": 13
        },
        {
          "output_type": "display_data",
          "data": {
            "image/png": "[encoded data removed]",
            "text/plain": [
              "<Figure size 432x288 with 1 Axes>"
            ]
          },
          "metadata": {
            "needs_background": "light"
          }
        }
      ]
    }
  ]
}