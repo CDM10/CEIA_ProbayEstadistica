{
  "nbformat": 4,
  "nbformat_minor": 0,
  "metadata": {
    "kernelspec": {
      "display_name": "Python 3",
      "language": "python",
      "name": "python3"
    },
    "language_info": {
      "codemirror_mode": {
        "name": "ipython",
        "version": 3
      },
      "file_extension": ".py",
      "mimetype": "text/x-python",
      "name": "python",
      "nbconvert_exporter": "python",
      "pygments_lexer": "ipython3",
      "version": "3.7.3"
    },
    "colab": {
      "name": "Breve introducción a Python aplicado a probabilidad.ipynb",
      "provenance": []
    }
  },
  "cells": [
    {
      "cell_type": "markdown",
      "metadata": {
        "id": "9gafnuipfCpD"
      },
      "source": [
        "# Brevisima introducción a Python\n",
        "\n",
        "El objetivo de estas notas es explicar brevemente como utilizar Python como una herramienta a la materia de Probabilidad y estadística. En el mismo se va a explicar como armar vectores, hacer algunos cálculos básicos relevantes a la materia como por ejemplo cálculo de medias y desvíos muestrales, así como también calculo de cuantiles. Además se explicará muy brevemente las herramientas para graficar y cálculo de histogramas. \n",
        "\n",
        "## Preliminares\n",
        "\n",
        "### Instalación de Python\n",
        "\n",
        "Antes de empezar a trabajar con Python, es necesario verificar que tengamos una distribución de Python instalada en nuestra computadora. \n",
        "\n",
        "- Windows:\n",
        "\n",
        "  Abrimos una consola de Windows (Command Prompt - cmd) y escribimos\n",
        "\n",
        "  ```\n",
        "  python\n",
        "  ```\n",
        "\n",
        "  Si el sistema reconoce el comando correctamente debería aparecer algo del estilo:\n",
        "\n",
        "  ```\n",
        "  Python 3.7.0 (v3.7.0:1bf9cc5093, Jan 25 2019, 07:44:31) [MSC v.1914 64 bit (AMD64)] on win32\n",
        "  Type \"help\", \"copyright\", \"credits\" or \"license\" for more information\n",
        "  ```\n",
        "\n",
        "  Si no se posee instalación de Python recomiendo instalarlo a través de la distribución Anaconda (https://www.anaconda.com/products/individual). \n",
        "\n",
        "- Linux: viene con una versión de Python nativa. También se puede descargar Anaconda para mantener separadas las instalaciones.  Además de esta forma podemos elegir la versión de Python que deseamos. \n",
        "\n",
        "Si descargan Anaconda, ya incluye el programa Spyder, un IDE (*integrated development environment*) que provee interfaz gráfica, de forma que podemos escribir el código directamente en un archivo (¡y guardarlo!) para luego correrlo, todo en la misma plataforma. El Spyder se usa de forma análoga al RStudio.  También existen otros IDEs como Pycharm  (https://www.jetbrains.com/pycharm/), aunque no lo recomiendo para principiantes ya que hay que configurar varias cosas antes de poder arrancar. \n",
        "\n",
        "### Descarga de paquetes\n",
        "\n",
        "Para poder sacarle el jugo a Python es necesario instalar varias librerías. Si te bajaste Anaconda, podes saltearte este paso ya que las librerías que vamos a necesitar ya vienen instaladas.  Si no lo descargaste, vas a tener que hacer la instalación via Pip, para lo cual vas a tener que instalar el sistema:\n",
        "\n",
        "- Ubuntu:  Abrimos una terminal y escribimos\t\n",
        "\n",
        "  ```\n",
        "  apt install python3-pip\t\n",
        "  ```\n",
        "\n",
        "- Windows: (https://phoenixnap.com/kb/install-pip-windows) \n",
        "\n",
        "  - Primero debemos bajar el archivo [get-pip.py on pypa.io](https://bootstrap.pypa.io/get-pip.py) \n",
        "  - Luego, abrimos una consola de Windows y escribimos\n",
        "\n",
        "  ```\n",
        "  python get-pip.py\n",
        "  ```\n",
        "\n",
        "  Si esta acción devuelve error, es posible que haya que abrir la consola como administrador.\n",
        "\n",
        "Algunas de las librerías que vamos a utilizar:\n",
        "\n",
        "- NumPy:  da soporte para trabajar con vectores y matrices, así como diversas funciones matemáticas que operan sobre ellos.  Instrucciones de instalación para distintos sistemas operativos: https://numpy.org/install/\n",
        "- SciPy: se compone de herramientas y algoritmos matemáticos. Contiene módulos de estadística, optimización,  álgebra lineal, entre muchas otras. Instrucciones de instalación:  https://www.scipy.org/install.html\n",
        "- Matplotlib: librería utilizada para graficar.  Instrucciones de instalación: https://matplotlib.org/users/installing.html\n",
        "\n",
        "Existen muchas otras librarías muy útiles, pero estas son las básicas que vamos a necesitar para generar muestras aleatorias y poder graficar histogramas. \n",
        "\n",
        "En [este link](https://towardsdatascience.com/the-ultimate-beginners-guide-to-numpy-f5a2f99aef54) hay un buen resumen de como arrancar a utilizar Numpy y los distintos tipos de datos. \n",
        "\n",
        "## Ahora si, comencemos a programar!\n",
        "\n",
        "Si se desea se puede trabajar directamente en la consola para hacer los cálculos, pero lo más práctico es escribir un código, o *script*, con todos los comandos para poder usarlo todas las veces que haga falta.  Un código o *script* es, entonces,  un conjunto de comandos que uno puede generar y guardar como archivo de extensión “.py” para no tener la necesidad de volver a tipear todas las órdenes una y otra vez. \n",
        "\n",
        "Si te bajase el Spyder, la ventana se va a ver algo así\n",
        "![Spder IDE](spyder.png)"
      ]
    },
    {
      "cell_type": "markdown",
      "metadata": {
        "id": "_nMl-0FbfCpJ"
      },
      "source": [
        "\n",
        "\n",
        "#### Asignación de valores a una variable.\n",
        "\n",
        "En Python existen distintos tipos de datos, en este caso nos vamos a concentrar en definir variables constantes, es decir que contengan un único valor, listas, y en vectores, o *arrays*. Existen muchos otros tipos de datos que resultan útiles, pero que no vamos a estar necesitando por ahora.\n",
        "\n",
        "Para definir constantes, basta con asignarle el valor a una variable utilizando el símbolo `=`"
      ]
    },
    {
      "cell_type": "code",
      "metadata": {
        "id": "rGrZhmzAfCpK"
      },
      "source": [
        "x = 2\n",
        "y = 1.56\n",
        "z= 'a'"
      ],
      "execution_count": null,
      "outputs": []
    },
    {
      "cell_type": "markdown",
      "metadata": {
        "id": "yXze3twnfCpK"
      },
      "source": [
        "Las listas sirven para guardar distintos objetos en una única variable.  Son nativas de Python y no necesitan de ninguna librería para poder usarlas.  La lista se define a partir de una secuencia de elementos entre corchetes, separados por una \",\":"
      ]
    },
    {
      "cell_type": "code",
      "metadata": {
        "id": "6GiA-hKCfCpL"
      },
      "source": [
        "x = [1, 2, 1, 3, 5]\n",
        "y = [\"gato\", \"perro\", \"loro\"]\n",
        "z = [[1.1,1.2], [2.1,2.2], [0,1,2,3,6],[\"a\", \"b\"]]"
      ],
      "execution_count": null,
      "outputs": []
    },
    {
      "cell_type": "code",
      "metadata": {
        "colab": {
          "base_uri": "https://localhost:8080/"
        },
        "id": "_Vr4lqzKgorP",
        "outputId": "4e0d23be-a4c2-4b2f-b0c5-baafc598fcb8"
      },
      "source": [
        "z"
      ],
      "execution_count": null,
      "outputs": [
        {
          "output_type": "execute_result",
          "data": {
            "text/plain": [
              "[[1.1, 1.2], [2.1, 2.2], [0, 1, 2, 3, 6], ['a', 'b']]"
            ]
          },
          "metadata": {
            "tags": []
          },
          "execution_count": 3
        }
      ]
    },
    {
      "cell_type": "markdown",
      "metadata": {
        "id": "AgrOfFLKfCpL"
      },
      "source": [
        "Las listas son muy útiles para definir conjuntos de objetos, sin embargo una desventaja que poseen es que no están  definidas las funciones ariméticas básicas sobre listas, después de todo ¿que significaría decir \"gato\"+\"perro\"+\"loro\"?. "
      ]
    },
    {
      "cell_type": "markdown",
      "metadata": {
        "id": "cdhhPBp8fCpL"
      },
      "source": [
        "Para poder definir y operar con vectores y matrices, vamos a  utilizar la librería Numpy. En este caso, los vectores (y  matrices) se van a representar con lo que se llaman *arrays*. Estos objetos vienen previstos de las operaciones aritméticas básicas (suma, resta multiplicación y división) que operan componente a componente, junto con muchas otras funciones que permiten realizar diversas operaciones matriciales, entre muchas otras. \n",
        "\n",
        "Lo primero que debemos hacer es importar la librería"
      ]
    },
    {
      "cell_type": "code",
      "metadata": {
        "id": "gMLuWWaBfCpM"
      },
      "source": [
        "import numpy as np"
      ],
      "execution_count": null,
      "outputs": []
    },
    {
      "cell_type": "markdown",
      "metadata": {
        "id": "_ISlNY8-fCpN"
      },
      "source": [
        "La sintaxis general para importar cualquier librería (que tengamos instalada) es `import ` [*libreria*] `as` [*nombre*] , donde [*libreria*] es en nombre de la librería que queremos  importar y [*nombre*] es el nombre que vamos a utilizar para llamar a la librería en nuestro código. En verdad, basta  con `import`[*libreria*], pero, como van a ir notando,  adjudicarle un nombre más corto simplifica mucho la escritura y lectura del código.\n",
        "\n",
        "Si queremos, por ejemplo, armar el vector $x=[1,2,3,4]$ lo hacemos de la forma"
      ]
    },
    {
      "cell_type": "code",
      "metadata": {
        "id": "3W6jkNTFfCpN"
      },
      "source": [
        "x = np.array([1,2,3,4])"
      ],
      "execution_count": null,
      "outputs": []
    },
    {
      "cell_type": "markdown",
      "metadata": {
        "id": "0aIdNCyDfCpO"
      },
      "source": [
        "o "
      ]
    },
    {
      "cell_type": "code",
      "metadata": {
        "colab": {
          "base_uri": "https://localhost:8080/"
        },
        "id": "AmJUK8qhfCpO",
        "outputId": "9d7b0f19-a4ab-49d4-c8c7-d31deaaa464d"
      },
      "source": [
        "x = np.arange(1,7)\n",
        "print(x)"
      ],
      "execution_count": null,
      "outputs": [
        {
          "output_type": "stream",
          "text": [
            "[1 2 3 4 5 6]\n"
          ],
          "name": "stdout"
        }
      ]
    },
    {
      "cell_type": "markdown",
      "metadata": {
        "id": "tL9GBouBfCpP"
      },
      "source": [
        "la función `np.arange(start, stop)` es muy útil  ya que genera una secuencia de números enteros que van desde `start` hasta `stop -1`. También habrán notado que usé la función `print`, la cual simplemente me imprime en la consola el valor de la variable.\n",
        "\n",
        "Si en cambio quisiera definir una matriz, por ejemplo $A = \\left[\\begin{matrix} 1 & 2 & 3 & 4 \\\\ 5 & 6 & 7 & 8 \\\\ 9 & 10 & 11 & 12 \\end{matrix}\\right]$, puedo hacerlo como"
      ]
    },
    {
      "cell_type": "code",
      "metadata": {
        "id": "VNAEqIJtfCpP"
      },
      "source": [
        "A = np.array([[1,2,3,4], [5,6,7,8], [9,10,11,12]])"
      ],
      "execution_count": null,
      "outputs": []
    },
    {
      "cell_type": "code",
      "metadata": {
        "colab": {
          "base_uri": "https://localhost:8080/"
        },
        "id": "jcBW2qsuhJ7Y",
        "outputId": "f537d48b-4415-4cd4-bdd8-c3c90b18151e"
      },
      "source": [
        "A"
      ],
      "execution_count": null,
      "outputs": [
        {
          "output_type": "execute_result",
          "data": {
            "text/plain": [
              "array([[ 1,  2,  3,  4],\n",
              "       [ 5,  6,  7,  8],\n",
              "       [ 9, 10, 11, 12]])"
            ]
          },
          "metadata": {
            "tags": []
          },
          "execution_count": 8
        }
      ]
    },
    {
      "cell_type": "markdown",
      "metadata": {
        "id": "7Nefwr8SfCpQ"
      },
      "source": [
        "Para definir la matriz, se pasa una lista correspondiente a cada fila, separando cada lista por una coma `,`.  \n",
        "\n",
        "La librería Numpy posee diversas funciones. En la [esta](https://www.datacamp.com/community/blog/python-numpy-cheat-sheet) pagina, se encuentra un gráfico con un breve resumen de algunas de las funciones que trae Numpy y cómo operar con los vectores (arrays).\n",
        "\n",
        "Para acceder a un elemento, o subconjunto de elementos, de los vectores (o matrices) simplemente indicamos los índices deseados entre corchetes `[]`. Recordar que, a diferencia de por ejemplo R, en Python los índices comienzan a contarse desde 0. Si queremos la primera posición de `x` "
      ]
    },
    {
      "cell_type": "code",
      "metadata": {
        "colab": {
          "base_uri": "https://localhost:8080/"
        },
        "id": "vJU6I48xfCpQ",
        "outputId": "7df7093e-149d-42f8-cf73-c77d2e0c335c"
      },
      "source": [
        "x[0] # accedo a la primera posición"
      ],
      "execution_count": null,
      "outputs": [
        {
          "output_type": "execute_result",
          "data": {
            "text/plain": [
              "1"
            ]
          },
          "metadata": {
            "tags": []
          },
          "execution_count": 9
        }
      ]
    },
    {
      "cell_type": "code",
      "metadata": {
        "id": "92dgDWIvfCpQ",
        "outputId": "ef503c48-64e2-4997-eab7-e3fc6695b8d0"
      },
      "source": [
        "x[-1] # accedo a la última posición del vector"
      ],
      "execution_count": null,
      "outputs": [
        {
          "output_type": "execute_result",
          "data": {
            "text/plain": [
              "6"
            ]
          },
          "metadata": {
            "tags": []
          },
          "execution_count": 494
        }
      ]
    },
    {
      "cell_type": "markdown",
      "metadata": {
        "id": "_HIgh12ofCpR"
      },
      "source": [
        "Puedo pedir también un subconjunto de de índices,"
      ]
    },
    {
      "cell_type": "code",
      "metadata": {
        "colab": {
          "base_uri": "https://localhost:8080/"
        },
        "id": "BvqYCmlBfCpR",
        "outputId": "e23be2e8-8c65-4424-d307-532a6b679bc5"
      },
      "source": [
        "x[[0,1,5]];.ç"
      ],
      "execution_count": null,
      "outputs": [
        {
          "output_type": "execute_result",
          "data": {
            "text/plain": [
              "array([1, 2, 6])"
            ]
          },
          "metadata": {
            "tags": []
          },
          "execution_count": 10
        }
      ]
    },
    {
      "cell_type": "markdown",
      "metadata": {
        "id": "Lmvo6o2kfCpR"
      },
      "source": [
        "obtener todos los elementos hasta una cierta posición, "
      ]
    },
    {
      "cell_type": "code",
      "metadata": {
        "colab": {
          "base_uri": "https://localhost:8080/"
        },
        "id": "Ohf-zJydfCpR",
        "outputId": "22707372-3baf-4b7c-c94d-9257197d2e54"
      },
      "source": [
        "x[:2] # me devuelve hasta la posicion 2, es equivalente a  x[[0,1]]"
      ],
      "execution_count": null,
      "outputs": [
        {
          "output_type": "execute_result",
          "data": {
            "text/plain": [
              "array([1, 2])"
            ]
          },
          "metadata": {
            "tags": []
          },
          "execution_count": 11
        }
      ]
    },
    {
      "cell_type": "markdown",
      "metadata": {
        "id": "m7Z-GAl4fCpS"
      },
      "source": [
        "recuperar los elementos desde un índice en adelante,"
      ]
    },
    {
      "cell_type": "code",
      "metadata": {
        "colab": {
          "base_uri": "https://localhost:8080/"
        },
        "id": "ff5sOGlufCpS",
        "outputId": "b4c78611-61eb-42e6-bc80-69f72dc75493"
      },
      "source": [
        "x[2:] # devuelve desde el índice 2 hasta el final del vector, equivale a x[[2,3,4,5,5]]"
      ],
      "execution_count": null,
      "outputs": [
        {
          "output_type": "execute_result",
          "data": {
            "text/plain": [
              "array([3, 4, 5, 6])"
            ]
          },
          "metadata": {
            "tags": []
          },
          "execution_count": 12
        }
      ]
    },
    {
      "cell_type": "code",
      "metadata": {
        "colab": {
          "base_uri": "https://localhost:8080/"
        },
        "id": "7NK7QWEEfCpS",
        "outputId": "de20b26a-dfd3-4837-d380-0c24514eb2ab"
      },
      "source": [
        "x[-2:] # devuelve de la anteúltima posición hasta el final del vector"
      ],
      "execution_count": null,
      "outputs": [
        {
          "output_type": "execute_result",
          "data": {
            "text/plain": [
              "array([5, 6])"
            ]
          },
          "metadata": {
            "tags": []
          },
          "execution_count": 13
        }
      ]
    },
    {
      "cell_type": "markdown",
      "metadata": {
        "id": "0CCsBcGLfCpS"
      },
      "source": [
        "o puedo querer ir desde un índice a otro."
      ]
    },
    {
      "cell_type": "code",
      "metadata": {
        "colab": {
          "base_uri": "https://localhost:8080/"
        },
        "id": "QEMEBLPufCpT",
        "outputId": "7731c40d-b86c-468b-9a46-19f88d3f7085"
      },
      "source": [
        "x[2:5] # devuelce desde el índice 2 hasta el 4, equivale a x[[2,3,4]]"
      ],
      "execution_count": null,
      "outputs": [
        {
          "output_type": "execute_result",
          "data": {
            "text/plain": [
              "array([3, 4, 5])"
            ]
          },
          "metadata": {
            "tags": []
          },
          "execution_count": 14
        }
      ]
    },
    {
      "cell_type": "markdown",
      "metadata": {
        "id": "hw0GkH2SfCpT"
      },
      "source": [
        "Observar que al pedir `x[a:b]` me devuelve los índices `a` hasta `b-1`(inclusive)"
      ]
    },
    {
      "cell_type": "markdown",
      "metadata": {
        "id": "1K85F2eMfCpT"
      },
      "source": [
        "Con las matrices la forma de acceder a una posición es equivalente, sólo que debemos indicar los números de filas y los de columnas. La sintaxis es `A[filas, columnas]` donde en `filas` y  `columnas` podemos usar cualquiera de las sintaxis vistas para vectores. Por ejemplo:"
      ]
    },
    {
      "cell_type": "code",
      "metadata": {
        "colab": {
          "base_uri": "https://localhost:8080/"
        },
        "id": "tACm2EsqfCpT",
        "outputId": "002c4326-8eb0-4f4b-e10f-c30e808aa01a"
      },
      "source": [
        "A[1:3,1:] #Accedemos a los elementos [1,1], [1,2], [1:3], [2,1],[2,2], [2,3] de la matriz"
      ],
      "execution_count": null,
      "outputs": [
        {
          "output_type": "execute_result",
          "data": {
            "text/plain": [
              "array([[ 6,  7,  8],\n",
              "       [10, 11, 12]])"
            ]
          },
          "metadata": {
            "tags": []
          },
          "execution_count": 15
        }
      ]
    },
    {
      "cell_type": "markdown",
      "metadata": {
        "id": "rnntfqS2fCpT"
      },
      "source": [
        "Para conocer las dimensiones de un vector una matriz basta con llamar a la función `shape`. Esto se puede hacer de dos formas"
      ]
    },
    {
      "cell_type": "code",
      "metadata": {
        "colab": {
          "base_uri": "https://localhost:8080/"
        },
        "id": "bNdXJkaQfCpU",
        "outputId": "22942fed-bad7-4fec-e4a6-b546ec6d5499"
      },
      "source": [
        "x.shape"
      ],
      "execution_count": null,
      "outputs": [
        {
          "output_type": "execute_result",
          "data": {
            "text/plain": [
              "(6,)"
            ]
          },
          "metadata": {
            "tags": []
          },
          "execution_count": 17
        }
      ]
    },
    {
      "cell_type": "markdown",
      "metadata": {
        "id": "x0y_oJnYfCpU"
      },
      "source": [
        "o bien"
      ]
    },
    {
      "cell_type": "code",
      "metadata": {
        "id": "4mofYwZBfCpU",
        "outputId": "950005fe-9e00-4788-b187-52ecd0b8a58b"
      },
      "source": [
        "x.shape"
      ],
      "execution_count": null,
      "outputs": [
        {
          "output_type": "execute_result",
          "data": {
            "text/plain": [
              "(6,)"
            ]
          },
          "metadata": {
            "tags": []
          },
          "execution_count": 502
        }
      ]
    },
    {
      "cell_type": "code",
      "metadata": {
        "colab": {
          "base_uri": "https://localhost:8080/"
        },
        "id": "OBUd8fvRfCpU",
        "outputId": "1b6d847e-f453-4e46-f4ae-bd094c6ed519"
      },
      "source": [
        "A.shape"
      ],
      "execution_count": null,
      "outputs": [
        {
          "output_type": "execute_result",
          "data": {
            "text/plain": [
              "(3, 4)"
            ]
          },
          "metadata": {
            "tags": []
          },
          "execution_count": 18
        }
      ]
    },
    {
      "cell_type": "markdown",
      "metadata": {
        "id": "dDXyOphrfCpU"
      },
      "source": [
        "#### Operaciones con vectores y matrices\n",
        "\n",
        "Las operaciones básicas, (+,-,\\*,/) que están definidas sobre los *arrays*, operan componente a componente. \n"
      ]
    },
    {
      "cell_type": "code",
      "metadata": {
        "colab": {
          "base_uri": "https://localhost:8080/"
        },
        "id": "nVoeFB4WfCpU",
        "outputId": "44248578-3a0d-4638-b8f1-76b91c87edfe"
      },
      "source": [
        "x = np.array([1,2,3,4])\n",
        "y = np.array([5,1,6,4])\n",
        "x+y"
      ],
      "execution_count": null,
      "outputs": [
        {
          "output_type": "execute_result",
          "data": {
            "text/plain": [
              "array([6, 3, 9, 8])"
            ]
          },
          "metadata": {
            "tags": []
          },
          "execution_count": 19
        }
      ]
    },
    {
      "cell_type": "code",
      "metadata": {
        "id": "NzeomLxpfCpV",
        "outputId": "a8b2f37f-8c25-4e07-ec49-99177b30727e"
      },
      "source": [
        "x*y"
      ],
      "execution_count": null,
      "outputs": [
        {
          "output_type": "execute_result",
          "data": {
            "text/plain": [
              "array([ 5,  2, 18, 16])"
            ]
          },
          "metadata": {
            "tags": []
          },
          "execution_count": 505
        }
      ]
    },
    {
      "cell_type": "code",
      "metadata": {
        "colab": {
          "base_uri": "https://localhost:8080/"
        },
        "id": "8VBBpWZLfCpV",
        "outputId": "f5b3b80b-5a76-44f8-9c05-284b2533ed31"
      },
      "source": [
        "x**2 # elevo cada componene del vector al cuadrado"
      ],
      "execution_count": null,
      "outputs": [
        {
          "output_type": "execute_result",
          "data": {
            "text/plain": [
              "array([ 1,  4,  9, 16])"
            ]
          },
          "metadata": {
            "tags": []
          },
          "execution_count": 20
        }
      ]
    },
    {
      "cell_type": "code",
      "metadata": {
        "colab": {
          "base_uri": "https://localhost:8080/"
        },
        "id": "9qzxidE5fCpV",
        "outputId": "a244676b-8b90-4fb4-a06e-8ed856d39b23"
      },
      "source": [
        "A = np.array([[0,1,2],[3,4,5],[6,7,8]])\n",
        "B = np.array([[0,10,20],[30,40,50],[60,70,80]])\n",
        "print(A)\n",
        "print(B)"
      ],
      "execution_count": null,
      "outputs": [
        {
          "output_type": "stream",
          "text": [
            "[[0 1 2]\n",
            " [3 4 5]\n",
            " [6 7 8]]\n",
            "[[ 0 10 20]\n",
            " [30 40 50]\n",
            " [60 70 80]]\n"
          ],
          "name": "stdout"
        }
      ]
    },
    {
      "cell_type": "code",
      "metadata": {
        "colab": {
          "base_uri": "https://localhost:8080/"
        },
        "id": "A2MM7kGcfCpV",
        "outputId": "4150003c-868e-4d43-dddd-80ec43cc59c1"
      },
      "source": [
        "A+B"
      ],
      "execution_count": null,
      "outputs": [
        {
          "output_type": "execute_result",
          "data": {
            "text/plain": [
              "array([[ 0, 11, 22],\n",
              "       [33, 44, 55],\n",
              "       [66, 77, 88]])"
            ]
          },
          "metadata": {
            "tags": []
          },
          "execution_count": 22
        }
      ]
    },
    {
      "cell_type": "code",
      "metadata": {
        "colab": {
          "base_uri": "https://localhost:8080/"
        },
        "id": "XoCCbxLGfCpW",
        "outputId": "e2fe2a22-c5d5-4817-d021-ba768730e101"
      },
      "source": [
        "A*B"
      ],
      "execution_count": null,
      "outputs": [
        {
          "output_type": "execute_result",
          "data": {
            "text/plain": [
              "array([[  0,  10,  40],\n",
              "       [ 90, 160, 250],\n",
              "       [360, 490, 640]])"
            ]
          },
          "metadata": {
            "tags": []
          },
          "execution_count": 23
        }
      ]
    },
    {
      "cell_type": "markdown",
      "metadata": {
        "id": "Egx700CrfCpW"
      },
      "source": [
        "Si queremos trasponer una matriz existen dos formas de escribirlo"
      ]
    },
    {
      "cell_type": "code",
      "metadata": {
        "colab": {
          "base_uri": "https://localhost:8080/"
        },
        "id": "CZJ4pV4GfCpW",
        "outputId": "077c9fed-83cd-4834-d2d9-b5787bb83b4b"
      },
      "source": [
        "np.transpose(A)#forma 1"
      ],
      "execution_count": null,
      "outputs": [
        {
          "output_type": "execute_result",
          "data": {
            "text/plain": [
              "array([[0, 3, 6],\n",
              "       [1, 4, 7],\n",
              "       [2, 5, 8]])"
            ]
          },
          "metadata": {
            "tags": []
          },
          "execution_count": 24
        }
      ]
    },
    {
      "cell_type": "code",
      "metadata": {
        "colab": {
          "base_uri": "https://localhost:8080/"
        },
        "id": "ekdUkfgvfCpY",
        "outputId": "02c68bc9-e689-4d81-e644-6d6762bb7582"
      },
      "source": [
        "A.T # forma 2"
      ],
      "execution_count": null,
      "outputs": [
        {
          "output_type": "execute_result",
          "data": {
            "text/plain": [
              "array([[0, 3, 6],\n",
              "       [1, 4, 7],\n",
              "       [2, 5, 8]])"
            ]
          },
          "metadata": {
            "tags": []
          },
          "execution_count": 25
        }
      ]
    },
    {
      "cell_type": "markdown",
      "metadata": {
        "id": "_uVZlGLwfCpY"
      },
      "source": [
        "Si quisiera calcular el producto escalar entre dos matrices $A$ y $B$, se utiliza la función `dot`"
      ]
    },
    {
      "cell_type": "code",
      "metadata": {
        "colab": {
          "base_uri": "https://localhost:8080/"
        },
        "id": "z-JnFP-nfCpY",
        "outputId": "9c350486-1d87-4bfe-eb00-dcb34ab7873a"
      },
      "source": [
        "A.dot(B)"
      ],
      "execution_count": null,
      "outputs": [
        {
          "output_type": "execute_result",
          "data": {
            "text/plain": [
              "array([[ 150,  180,  210],\n",
              "       [ 420,  540,  660],\n",
              "       [ 690,  900, 1110]])"
            ]
          },
          "metadata": {
            "tags": []
          },
          "execution_count": 27
        }
      ]
    },
    {
      "cell_type": "markdown",
      "metadata": {
        "id": "lS1-VLp1fCpY"
      },
      "source": [
        "También podemos operar sobre un mismo vector, por ejemplo obteniendo la suma de todos sus elementos"
      ]
    },
    {
      "cell_type": "code",
      "metadata": {
        "colab": {
          "base_uri": "https://localhost:8080/"
        },
        "id": "CDd3P76JfCpY",
        "outputId": "4732c32a-b333-4316-bc1c-3275f6da64e5"
      },
      "source": [
        "np.sum(x) "
      ],
      "execution_count": null,
      "outputs": [
        {
          "output_type": "execute_result",
          "data": {
            "text/plain": [
              "10"
            ]
          },
          "metadata": {
            "tags": []
          },
          "execution_count": 28
        }
      ]
    },
    {
      "cell_type": "code",
      "metadata": {
        "id": "lqOqivFJfCpZ",
        "outputId": "911f7f9d-13ff-45b7-9522-882195698d19"
      },
      "source": [
        "x.sum()"
      ],
      "execution_count": null,
      "outputs": [
        {
          "output_type": "execute_result",
          "data": {
            "text/plain": [
              "10"
            ]
          },
          "metadata": {
            "tags": []
          },
          "execution_count": 514
        }
      ]
    },
    {
      "cell_type": "code",
      "metadata": {
        "id": "VWPKLlhufCpZ",
        "outputId": "195a4822-2ced-4c40-a432-d9bbfa2b48f2"
      },
      "source": [
        "A.sum() #suma todos los elementos de la matriz A"
      ],
      "execution_count": null,
      "outputs": [
        {
          "output_type": "execute_result",
          "data": {
            "text/plain": [
              "36"
            ]
          },
          "metadata": {
            "tags": []
          },
          "execution_count": 515
        }
      ]
    },
    {
      "cell_type": "code",
      "metadata": {
        "id": "a_lESkV4fCpZ",
        "outputId": "e2301e2c-fa31-4dc9-d478-37ca64c5eed8"
      },
      "source": [
        "A.sum(axis=1) # sumo las filas de la matriz"
      ],
      "execution_count": null,
      "outputs": [
        {
          "output_type": "execute_result",
          "data": {
            "text/plain": [
              "array([ 3, 12, 21])"
            ]
          },
          "metadata": {
            "tags": []
          },
          "execution_count": 516
        }
      ]
    },
    {
      "cell_type": "code",
      "metadata": {
        "id": "L_XKr1zUfCpZ",
        "outputId": "21f7021b-a7d1-4794-e3ba-3477442e28ad"
      },
      "source": [
        "A.sum(axis=0) # sumo las columnas de la matriz"
      ],
      "execution_count": null,
      "outputs": [
        {
          "output_type": "execute_result",
          "data": {
            "text/plain": [
              "array([ 9, 12, 15])"
            ]
          },
          "metadata": {
            "tags": []
          },
          "execution_count": 517
        }
      ]
    },
    {
      "cell_type": "code",
      "metadata": {
        "id": "MGxeCOCFfCpZ",
        "outputId": "52cfe43b-5a32-4765-de3f-7dcda507db42"
      },
      "source": [
        "x.max() #obtengo el máximo de x"
      ],
      "execution_count": null,
      "outputs": [
        {
          "output_type": "execute_result",
          "data": {
            "text/plain": [
              "4"
            ]
          },
          "metadata": {
            "tags": []
          },
          "execution_count": 518
        }
      ]
    },
    {
      "cell_type": "code",
      "metadata": {
        "id": "TMEeASH_fCpZ",
        "outputId": "573fce4c-7943-4f31-868b-66f6b749f2df"
      },
      "source": [
        "A.max(axis=1) # obtengo el máximo por fila de la matriz A"
      ],
      "execution_count": null,
      "outputs": [
        {
          "output_type": "execute_result",
          "data": {
            "text/plain": [
              "array([2, 5, 8])"
            ]
          },
          "metadata": {
            "tags": []
          },
          "execution_count": 519
        }
      ]
    },
    {
      "cell_type": "code",
      "metadata": {
        "colab": {
          "base_uri": "https://localhost:8080/"
        },
        "id": "-hR3JgCafCpa",
        "outputId": "7f673d99-619c-4d5e-f651-0922faa985c0"
      },
      "source": [
        "x.mean() #calculo el promedio de los elementos de x"
      ],
      "execution_count": null,
      "outputs": [
        {
          "output_type": "execute_result",
          "data": {
            "text/plain": [
              "2.5"
            ]
          },
          "metadata": {
            "tags": []
          },
          "execution_count": 29
        }
      ]
    },
    {
      "cell_type": "code",
      "metadata": {
        "colab": {
          "base_uri": "https://localhost:8080/"
        },
        "id": "glEA62Xtiw9z",
        "outputId": "2184cddc-4561-48d6-d9c0-2f00ee015809"
      },
      "source": [
        "x.std()"
      ],
      "execution_count": null,
      "outputs": [
        {
          "output_type": "execute_result",
          "data": {
            "text/plain": [
              "1.118033988749895"
            ]
          },
          "metadata": {
            "tags": []
          },
          "execution_count": 30
        }
      ]
    },
    {
      "cell_type": "markdown",
      "metadata": {
        "id": "dW3tXMX6fCpa"
      },
      "source": [
        "Y muchísimas otras funciones más que vienen definidas en la librería. Pueden consultar tanto la [documentación oficial](https://numpy.org/doc/stable/reference/index.html), así como también una gran cantidad de tutoriales para que puedan ir arrancando."
      ]
    },
    {
      "cell_type": "markdown",
      "metadata": {
        "id": "9Sx5ki7hfCpa"
      },
      "source": [
        "#### Vectores lógicos\n",
        "\n",
        "A veces queremos hacer comparaciones. Por ejemplo, usando el vector `x` que definí previamente,"
      ]
    },
    {
      "cell_type": "code",
      "metadata": {
        "id": "xM3LrQ66fCpa",
        "outputId": "3ea4bb0b-b8f6-40dd-be4e-6c0e81f9a9ec"
      },
      "source": [
        "x<2"
      ],
      "execution_count": null,
      "outputs": [
        {
          "output_type": "execute_result",
          "data": {
            "text/plain": [
              "array([ True, False, False, False])"
            ]
          },
          "metadata": {
            "tags": []
          },
          "execution_count": 521
        }
      ]
    },
    {
      "cell_type": "markdown",
      "metadata": {
        "id": "JwAJeOxRfCpa"
      },
      "source": [
        "Esta operación me devuelve un vector de la misma dimensión que `x` que vale `True` cuando la componente es menor a 2 y `False` cuando no.\n",
        "\n",
        "También puedo querer hacer comparaciones componente a componente entre dos vectores (o matrices)"
      ]
    },
    {
      "cell_type": "code",
      "metadata": {
        "id": "LtPqaLhZfCpa",
        "outputId": "7a2da63c-4f66-487e-e8c2-570bbe902d13"
      },
      "source": [
        "x>=y "
      ],
      "execution_count": null,
      "outputs": [
        {
          "output_type": "execute_result",
          "data": {
            "text/plain": [
              "array([False,  True, False,  True])"
            ]
          },
          "metadata": {
            "tags": []
          },
          "execution_count": 522
        }
      ]
    },
    {
      "cell_type": "code",
      "metadata": {
        "id": "zeJKecMSfCpb",
        "outputId": "8bc9c508-0415-4faa-93f1-e1a518a54633"
      },
      "source": [
        "A == B # el == compara si los elementos son iguales"
      ],
      "execution_count": null,
      "outputs": [
        {
          "output_type": "execute_result",
          "data": {
            "text/plain": [
              "array([[ True, False, False],\n",
              "       [False, False, False],\n",
              "       [False, False, False]])"
            ]
          },
          "metadata": {
            "tags": []
          },
          "execution_count": 523
        }
      ]
    },
    {
      "cell_type": "code",
      "metadata": {
        "id": "Q1OyUjiafCpb",
        "outputId": "297c1fb2-ddce-4ee5-a0a0-94bb94d57d7a"
      },
      "source": [
        "x!=y # != se usa para ver si los elementos son distintos"
      ],
      "execution_count": null,
      "outputs": [
        {
          "output_type": "execute_result",
          "data": {
            "text/plain": [
              "array([ True,  True,  True, False])"
            ]
          },
          "metadata": {
            "tags": []
          },
          "execution_count": 524
        }
      ]
    },
    {
      "cell_type": "markdown",
      "metadata": {
        "id": "q07_wFOSfCpb"
      },
      "source": [
        "Otra comparación que a veces resulta útil, es ver qué elementos de un vector (o matriz) pertenecen a un subconjunto de valores"
      ]
    },
    {
      "cell_type": "code",
      "metadata": {
        "id": "qlRFoPeCfCpc",
        "outputId": "a40ada05-3d0e-4eb9-991b-b47f8b601e4b"
      },
      "source": [
        "np.isin(x,[0,5,4,1])"
      ],
      "execution_count": null,
      "outputs": [
        {
          "output_type": "execute_result",
          "data": {
            "text/plain": [
              "array([ True, False, False,  True])"
            ]
          },
          "metadata": {
            "tags": []
          },
          "execution_count": 525
        }
      ]
    },
    {
      "cell_type": "code",
      "metadata": {
        "id": "C_1DGHi3fCpc",
        "outputId": "e6c5bc4c-dde6-41fa-cae3-f7f2dfa166b7"
      },
      "source": [
        "np.isin(A, [0,10,12,6])"
      ],
      "execution_count": null,
      "outputs": [
        {
          "output_type": "execute_result",
          "data": {
            "text/plain": [
              "array([[ True, False, False],\n",
              "       [False, False, False],\n",
              "       [ True, False, False]])"
            ]
          },
          "metadata": {
            "tags": []
          },
          "execution_count": 526
        }
      ]
    },
    {
      "cell_type": "code",
      "metadata": {
        "id": "M84QOQCjfCpc",
        "outputId": "b6fbaf76-bbaf-4120-f3f4-fbfadde34863"
      },
      "source": [
        "np.isin(A, [[10,8,2],[0,1,5]])"
      ],
      "execution_count": null,
      "outputs": [
        {
          "output_type": "execute_result",
          "data": {
            "text/plain": [
              "array([[ True,  True,  True],\n",
              "       [False, False,  True],\n",
              "       [False, False,  True]])"
            ]
          },
          "metadata": {
            "tags": []
          },
          "execution_count": 527
        }
      ]
    },
    {
      "cell_type": "markdown",
      "metadata": {
        "id": "ntaTwJnAfCpc"
      },
      "source": [
        "#### Bucles\n",
        "\n",
        "Una herramienta muy útil presente en todos los lenguajes de programación son los bucles. Sirven por ejemplo para recorrer una matriz, o correr una porción de código utilizando distintos parámetros de simulación.\n",
        "\n",
        "Posiblemente uno de los más conocidos sea el `for`, que se usa para iterar sobre una secuencia de valores. Esto sirve si sabemos cuántas veces queremos ejecutar cierta porción de código, o bien si quisiéramos evaluar una variable en distintos valores que conocemos a priori.  La sintaxis es \n",
        "\n",
        "`for iterator in sequece: \n",
        "    comando 1            \n",
        "    ...                  `\n",
        "\n",
        "Así como en otro lenguajes como R o C, el comienzo y final de las instrucciones se da encerrándolas entre llaves, `{ comandos }`, en python se indica por la indentacion. Observá que el `for` se encuentra con una indentación y las instrucciones (luego del `:`) están un nivel mas adentro. Cuando finalizas las sentencias que van dentro del for volvés a la indentación original."
      ]
    },
    {
      "cell_type": "code",
      "metadata": {
        "colab": {
          "base_uri": "https://localhost:8080/"
        },
        "id": "fXy8h8lEfCpd",
        "outputId": "e265b0d8-8ffe-4ba7-b335-ba0cc322438b"
      },
      "source": [
        "for k in np.arange(5):\n",
        "    factorial = np.product(np.arange(1,k+1)) #computo el factorial de k, armando un vector que vaya de 1 a k \n",
        "                                             #y multiplicando los elementos entre sí. \n",
        "    print(factorial)"
      ],
      "execution_count": null,
      "outputs": [
        {
          "output_type": "stream",
          "text": [
            "1\n",
            "1\n",
            "2\n",
            "6\n",
            "24\n"
          ],
          "name": "stdout"
        }
      ]
    },
    {
      "cell_type": "code",
      "metadata": {
        "colab": {
          "base_uri": "https://localhost:8080/"
        },
        "id": "FFBjqJs_fCpd",
        "outputId": "85a4acfe-a3bb-4113-e909-9afd957c469a"
      },
      "source": [
        "for animal in np.array(['gato', 'perro', 'loro', 'elefante']):\n",
        "    print(animal)"
      ],
      "execution_count": null,
      "outputs": [
        {
          "output_type": "stream",
          "text": [
            "gato\n",
            "perro\n",
            "loro\n",
            "elefante\n"
          ],
          "name": "stdout"
        }
      ]
    },
    {
      "cell_type": "markdown",
      "metadata": {
        "id": "6kGCFkKPfCpe"
      },
      "source": [
        "Otra sentencia super importante es el `if` `else`. Esto sirve para ejecutar un comando si ocurre una condición (y otro en caso que no, esto ultimo es optativo). La sintaxis es de la forma:\n",
        "\n",
        "`if (condicion): \n",
        "    comando 1   \n",
        "    ...         \n",
        "else: \n",
        "    comando 1    \n",
        "    ...       `\n",
        "    \n",
        "\n",
        "Nuevamente, el el comienzo y el fin de cada conjunto de instrucciones se indica con un nuevo nivel de indentación. "
      ]
    },
    {
      "cell_type": "code",
      "metadata": {
        "colab": {
          "base_uri": "https://localhost:8080/"
        },
        "id": "5sBmo4kyfCpe",
        "outputId": "f9da02b3-41ea-481f-8dc1-7bded1f994c7"
      },
      "source": [
        "animal = np.array(['gato' , 'perro', 'elefante', 'loro'])\n",
        "for a in animal:\n",
        "    if a == 'loro':\n",
        "        print('Vuela')\n",
        "    else:\n",
        "        print('Camina')"
      ],
      "execution_count": null,
      "outputs": [
        {
          "output_type": "stream",
          "text": [
            "Camina\n",
            "Camina\n",
            "Camina\n",
            "Vuela\n"
          ],
          "name": "stdout"
        }
      ]
    },
    {
      "cell_type": "markdown",
      "metadata": {
        "id": "GGqdgOJRfCpe"
      },
      "source": [
        "Se pueden anidar tanto `if-else` como se desee. Para ello, los `else` intermedios son reemplazados por un `elif`"
      ]
    },
    {
      "cell_type": "code",
      "metadata": {
        "colab": {
          "base_uri": "https://localhost:8080/"
        },
        "id": "cWzpRtVkfCpe",
        "outputId": "6484f3dc-1dcf-4f5f-e5d1-9b2517b26bbb"
      },
      "source": [
        "for a in animal:\n",
        "    if a == 'loro':\n",
        "        print('Vuela')\n",
        "    elif a == 'elefante':\n",
        "        print('Es enorme')\n",
        "    else: \n",
        "        print('Es doméstico')"
      ],
      "execution_count": null,
      "outputs": [
        {
          "output_type": "stream",
          "text": [
            "Es doméstico\n",
            "Es doméstico\n",
            "Es enorme\n",
            "Vuela\n"
          ],
          "name": "stdout"
        }
      ]
    },
    {
      "cell_type": "markdown",
      "metadata": {
        "id": "ZpXJw40AfCpe"
      },
      "source": [
        "#### Funciones\n",
        "\n",
        "Algo sumamente útil son las funciones. Ya que las definimos una única vez y luego las podemos llamar cuantas veces querramos en nuestro código. La sintaxis para crear funciones es: `def nombre_de_la_funcion(x,y,...): \n",
        "`. Luego la función se ejecuta como \n",
        "`nombre_de_la_función(x,y,...): \n",
        "    instruccion 1 \n",
        "    instruccion 2\n",
        "    ... \n",
        "    return valor1, ... `\n",
        "\n",
        "El `return` al final de la función no es obligatorio, pero es la forma que tenemos de acceder a los resultados de la función. Todas las variables que definamos dentro de la función son locales a la misma, y tanto las variables como los cómputos que no devolvamos en el return queden dentro de la función y no podemos acceder por fuera.\n",
        "    "
      ]
    },
    {
      "cell_type": "code",
      "metadata": {
        "id": "SYFw4RIAfCpf",
        "outputId": "143c7c93-5d9c-48fe-f136-990c590a066d"
      },
      "source": [
        "def promedio(x):\n",
        "    suma = x.sum()\n",
        "    return suma/x.shape\n",
        "\n",
        "promedio(np.array([1,2,3,4]))"
      ],
      "execution_count": null,
      "outputs": [
        {
          "output_type": "execute_result",
          "data": {
            "text/plain": [
              "array([2.5])"
            ]
          },
          "metadata": {
            "tags": []
          },
          "execution_count": 532
        }
      ]
    },
    {
      "cell_type": "markdown",
      "metadata": {
        "id": "xE1QUq3pfCpf"
      },
      "source": [
        "En este caso, por ejemplo, una vez que llamamos a la función promedio, solo accedemos al valor del `return` y no tenemos acceso a `suma`. Si te fijas, la variable nunca te va a aparecer en el explorador de variables. \n",
        "\n",
        "Las funciones que armes van a ser tan simples o tan complejas como necesites. También podés crear muchas funciones pequeñal y llamarlas una dentro de otra para crear un código más modularizado. "
      ]
    },
    {
      "cell_type": "code",
      "metadata": {
        "id": "PnWSCsbwfCpf",
        "outputId": "d120b020-4909-4ae6-9317-0e4fd1209d46"
      },
      "source": [
        "def suma_cuadrado(x):\n",
        "    return (x**2).sum() \n",
        "def resto_media(x):\n",
        "    y = x - promedio(x)\n",
        "    return y\n",
        "    \n",
        "def varianza(x):\n",
        "    sigma2 = suma_cuadrado(resto_media(x))/x.shape\n",
        "    return sigma2\n",
        "\n",
        "varianza(np.array([1,2,1,2,1,2]))"
      ],
      "execution_count": null,
      "outputs": [
        {
          "output_type": "execute_result",
          "data": {
            "text/plain": [
              "array([0.25])"
            ]
          },
          "metadata": {
            "tags": []
          },
          "execution_count": 533
        }
      ]
    },
    {
      "cell_type": "markdown",
      "metadata": {
        "id": "X3HB6a8vfCpf"
      },
      "source": [
        "### Probabilidad\n",
        "\n",
        "Entre muchas de las funciones que tiene Numpy, se pueden generar valores aleatorios a partir de distintas distribuciones. Estas funciones se encuentran dentro del módulo `random`. \n",
        "\n",
        "El caso más elemental es el de generar números aleatorios, es decir uniformes en el intervalo [0,1]. Para ello, usamos la función `rand()` del módulo `random`. Para generar un único número aleatorio basta con escribir"
      ]
    },
    {
      "cell_type": "code",
      "metadata": {
        "colab": {
          "base_uri": "https://localhost:8080/"
        },
        "id": "-YegAQP0fCpf",
        "outputId": "236f1270-34f5-4fa8-ff46-5b54211520f5"
      },
      "source": [
        "np.random.rand()"
      ],
      "execution_count": null,
      "outputs": [
        {
          "output_type": "execute_result",
          "data": {
            "text/plain": [
              "0.17996328781552884"
            ]
          },
          "metadata": {
            "tags": []
          },
          "execution_count": 43
        }
      ]
    },
    {
      "cell_type": "markdown",
      "metadata": {
        "id": "5yYcKuXxfCpg"
      },
      "source": [
        "Si en cambio queremos generar `n` elementos, basta con definir"
      ]
    },
    {
      "cell_type": "code",
      "metadata": {
        "colab": {
          "base_uri": "https://localhost:8080/"
        },
        "id": "gV0PPzYIfCpg",
        "outputId": "a3b6288f-e5de-4509-93ef-aec922fde165"
      },
      "source": [
        "n=10\n",
        "np.random.rand(n)"
      ],
      "execution_count": null,
      "outputs": [
        {
          "output_type": "execute_result",
          "data": {
            "text/plain": [
              "array([0.84114139, 0.84344124, 0.08839754, 0.59603968, 0.81555416,\n",
              "       0.27307842, 0.24878593, 0.65002333, 0.76977668, 0.63972174])"
            ]
          },
          "metadata": {
            "tags": []
          },
          "execution_count": 48
        }
      ]
    },
    {
      "cell_type": "markdown",
      "metadata": {
        "id": "KI8mSEpjfCpg"
      },
      "source": [
        "Si volviéramos a correr estas dos sentencias obtendríamos resulados distintos. Una forma de hacer que el código sea repetible es fijar lo que se llama la semilla. Para ellos se usa la función `seed`, y se le pasa un enero como parámetro. Cualquiera que te guste va a estar bien, pero si cambias el valor de la semilla te van a cambiar los números que obtengas. Es muy importante que este paso lo hagas antes de comenzar a generar datos."
      ]
    },
    {
      "cell_type": "code",
      "metadata": {
        "colab": {
          "base_uri": "https://localhost:8080/"
        },
        "id": "lVMWkRdYfCpg",
        "outputId": "bcb67036-2b05-475c-f768-3597c57d88c9"
      },
      "source": [
        "np.random.seed(10)\n",
        "np.random.rand()"
      ],
      "execution_count": null,
      "outputs": [
        {
          "output_type": "execute_result",
          "data": {
            "text/plain": [
              "0.771320643266746"
            ]
          },
          "metadata": {
            "tags": []
          },
          "execution_count": 57
        }
      ]
    },
    {
      "cell_type": "markdown",
      "metadata": {
        "id": "bUS2z5m_fCph"
      },
      "source": [
        "Otra función que nos va a ser muy útil es `choice`, que elige al azar tantos elementos de un vector como le digamos. Puede ser con o sin reposición."
      ]
    },
    {
      "cell_type": "code",
      "metadata": {
        "colab": {
          "base_uri": "https://localhost:8080/"
        },
        "id": "g-CjCkX5fCph",
        "outputId": "2c5fcc06-8270-40b9-8f08-9f762f916f40"
      },
      "source": [
        "np.random.choice(np.arange(10), 5, replace=False)# del vector [0,1,2,...,9] elijo al azas 5 elementos SIN reposicion"
      ],
      "execution_count": null,
      "outputs": [
        {
          "output_type": "execute_result",
          "data": {
            "text/plain": [
              "array([5, 3, 9, 6, 9])"
            ]
          },
          "metadata": {
            "tags": []
          },
          "execution_count": 62
        }
      ]
    },
    {
      "cell_type": "code",
      "metadata": {
        "colab": {
          "base_uri": "https://localhost:8080/"
        },
        "id": "c4uG-XNpfCph",
        "outputId": "19a1657b-9def-4270-b1ae-7c8558a18486"
      },
      "source": [
        "np.random.choice(['perro', 'gato', 'oso', 'leon'], 3, replace=True)# de los elementos perro, gato, oso, leon \n",
        "                                                                   # elijo al azas 5 elementos SIN reposicion"
      ],
      "execution_count": null,
      "outputs": [
        {
          "output_type": "execute_result",
          "data": {
            "text/plain": [
              "array(['perro', 'gato', 'leon'], dtype='<U5')"
            ]
          },
          "metadata": {
            "tags": []
          },
          "execution_count": 63
        }
      ]
    },
    {
      "cell_type": "markdown",
      "metadata": {
        "id": "XoQNCMcRfCpi"
      },
      "source": [
        "Así como generamos número aleatorios, podemos obtener realizaciones de variables con distintas distribuciones. "
      ]
    },
    {
      "cell_type": "code",
      "metadata": {
        "colab": {
          "base_uri": "https://localhost:8080/"
        },
        "id": "a8bOjd6ifCpi",
        "outputId": "9f9aabfa-7b8d-4e5c-a7f3-46261ecf6e08"
      },
      "source": [
        "np.random.randn(n) # genera n muestras de una variable con distribución normal estándar"
      ],
      "execution_count": null,
      "outputs": [
        {
          "output_type": "execute_result",
          "data": {
            "text/plain": [
              "array([-0.30860049, -0.15373549,  0.67893119, -1.91355421, -0.94245806,\n",
              "       -1.74554298, -1.02094527, -0.16206903, -0.6579709 ,  0.42211306])"
            ]
          },
          "metadata": {
            "tags": []
          },
          "execution_count": 64
        }
      ]
    },
    {
      "cell_type": "code",
      "metadata": {
        "id": "XeE3ClF1fCpi",
        "outputId": "d8b69448-3fda-4102-92b3-8068cdddc841"
      },
      "source": [
        "m=5\n",
        "p=0.2\n",
        "np.random.binomial(m,p, n)# genera n muestras de una variable con distribucion binomial de parámetros m y p."
      ],
      "execution_count": null,
      "outputs": [
        {
          "output_type": "execute_result",
          "data": {
            "text/plain": [
              "array([3, 0, 2, 1, 2, 1, 1, 1, 1, 1])"
            ]
          },
          "metadata": {
            "tags": []
          },
          "execution_count": 540
        }
      ]
    },
    {
      "cell_type": "code",
      "metadata": {
        "colab": {
          "base_uri": "https://localhost:8080/"
        },
        "id": "Kl7-4h_TfCpi",
        "outputId": "885d1631-1cd0-45b4-b66c-f8fbba7235eb"
      },
      "source": [
        "df = 3\n",
        "np.random.chisquare(df, n) # genera n muestras de una variable con distribucion chi cuadrado con df grados de libertad"
      ],
      "execution_count": null,
      "outputs": [
        {
          "output_type": "execute_result",
          "data": {
            "text/plain": [
              "array([3.95764585, 3.5934187 , 5.44635437, 2.1406195 , 3.43361023,\n",
              "       5.08202584, 5.53952082, 0.21109145, 8.05109171, 0.55342247])"
            ]
          },
          "metadata": {
            "tags": []
          },
          "execution_count": 65
        }
      ]
    },
    {
      "cell_type": "markdown",
      "metadata": {
        "id": "ePOvt-pMfCpi"
      },
      "source": [
        "Existen un montón de distribuciones disponibles, que podes ver en detalle en [este link](https://numpy.org/doc/1.16/reference/routines.random.html)\n",
        "\n",
        "La desventaja de este módulo es que sólo permite generar muestras y no tiene la posibilidad de calcular cuantiles, que muchas veces son necesarios. Sin embargo, existe otra librería, Scipy, que sí tiene estas capacidades. En particular vamos a utilizar el módulo stats. Nuevamente, debemos importarlo. En este caso vamos a importar directamente el módulo y no toda la librería"
      ]
    },
    {
      "cell_type": "code",
      "metadata": {
        "id": "uBjx5TIHfCpi"
      },
      "source": [
        "import scipy.stats as stats"
      ],
      "execution_count": null,
      "outputs": []
    },
    {
      "cell_type": "markdown",
      "metadata": {
        "id": "df1J58H_fCpj"
      },
      "source": [
        "Para las distintas distribuciones continuas que están implementadas, existen distintos *metodos*, algunos de ellos son  - rvs: genera números aleatorios\n",
        "- pdf: funcion de densidad de probabilidad\n",
        "- cdf: funcion de distribución\n",
        "- sf: función de supervivencia (1-cdf)\n",
        "- ppf: cuantiles (inversa de la cdf)\n",
        "Si queremos trabajar con la distribución normal, por ejemplo"
      ]
    },
    {
      "cell_type": "code",
      "metadata": {
        "colab": {
          "base_uri": "https://localhost:8080/"
        },
        "id": "zY3r__JqfCpj",
        "outputId": "302c878d-c739-4d28-fa80-d2c32f87bbb6"
      },
      "source": [
        "stats.norm.rvs() # genero un valor de la normal estándar"
      ],
      "execution_count": null,
      "outputs": [
        {
          "output_type": "execute_result",
          "data": {
            "text/plain": [
              "-0.08590004370838622"
            ]
          },
          "metadata": {
            "tags": []
          },
          "execution_count": 70
        }
      ]
    },
    {
      "cell_type": "code",
      "metadata": {
        "id": "ILo39mtEfCpj",
        "outputId": "42aed3e8-9605-4508-cbf7-2f2d21ca0990"
      },
      "source": [
        "stats.norm.pdf(1)# evaluo la función de densidad en z=1"
      ],
      "execution_count": null,
      "outputs": [
        {
          "output_type": "execute_result",
          "data": {
            "text/plain": [
              "0.24197072451914337"
            ]
          },
          "metadata": {
            "tags": []
          },
          "execution_count": 544
        }
      ]
    },
    {
      "cell_type": "code",
      "metadata": {
        "colab": {
          "base_uri": "https://localhost:8080/"
        },
        "id": "rdCePLs3fCpj",
        "outputId": "21614886-469d-4307-b05a-6928ef723ece"
      },
      "source": [
        "stats.norm.cdf(0) # evalúo la funcion de distribucion en 2 "
      ],
      "execution_count": null,
      "outputs": [
        {
          "output_type": "execute_result",
          "data": {
            "text/plain": [
              "0.5"
            ]
          },
          "metadata": {
            "tags": []
          },
          "execution_count": 71
        }
      ]
    },
    {
      "cell_type": "code",
      "metadata": {
        "colab": {
          "base_uri": "https://localhost:8080/"
        },
        "id": "knzkMbCbfCpj",
        "outputId": "8bb6628e-8880-4fc8-8af5-9b8b03a016e1"
      },
      "source": [
        "stats.norm.ppf(0.5) # calculo el cuantil 0.5"
      ],
      "execution_count": null,
      "outputs": [
        {
          "output_type": "execute_result",
          "data": {
            "text/plain": [
              "0.0"
            ]
          },
          "metadata": {
            "tags": []
          },
          "execution_count": 72
        }
      ]
    },
    {
      "cell_type": "markdown",
      "metadata": {
        "id": "Q7mX8GnGfCpk"
      },
      "source": [
        "Podes probar estas funciones con los valores que quieras, o con muchos a la vez. "
      ]
    },
    {
      "cell_type": "code",
      "metadata": {
        "id": "RBtp1-ybfCpk",
        "outputId": "c4f1697d-a580-480b-b624-fdb00a9896b0"
      },
      "source": [
        "stats.norm.pdf([-3,-2,-1,0,1,2,3]) # evaluo la funcion de densidad en distintos valore sde z con un paso de 1"
      ],
      "execution_count": null,
      "outputs": [
        {
          "output_type": "execute_result",
          "data": {
            "text/plain": [
              "array([0.00443185, 0.05399097, 0.24197072, 0.39894228, 0.24197072,\n",
              "       0.05399097, 0.00443185])"
            ]
          },
          "metadata": {
            "tags": []
          },
          "execution_count": 547
        }
      ]
    },
    {
      "cell_type": "code",
      "metadata": {
        "id": "-7-GW_MIfCpk",
        "outputId": "83c49925-416e-4e2d-c248-04450efab65f"
      },
      "source": [
        "stats.norm.cdf([-3,-2,-1,0,1,2,3]) # evaluo la funcion de distribucion en distintos valore sde z con un paso de 1"
      ],
      "execution_count": null,
      "outputs": [
        {
          "output_type": "execute_result",
          "data": {
            "text/plain": [
              "array([0.0013499 , 0.02275013, 0.15865525, 0.5       , 0.84134475,\n",
              "       0.97724987, 0.9986501 ])"
            ]
          },
          "metadata": {
            "tags": []
          },
          "execution_count": 548
        }
      ]
    },
    {
      "cell_type": "markdown",
      "metadata": {
        "id": "SJmA62lkfCpk"
      },
      "source": [
        "En el caso de las variables discretas, los *métodos* son los mismos excepto que cambia la `pdf` por la `pmf` que representa la función de probabilidad"
      ]
    },
    {
      "cell_type": "code",
      "metadata": {
        "id": "ro0dQDcxfCpk",
        "outputId": "cb8bb1bb-c857-4391-fab3-9a6fc3304867"
      },
      "source": [
        "stats.binom.rvs(m,p) #genera una muestra de una variable con distribución binomial de parámetros m y p"
      ],
      "execution_count": null,
      "outputs": [
        {
          "output_type": "execute_result",
          "data": {
            "text/plain": [
              "0"
            ]
          },
          "metadata": {
            "tags": []
          },
          "execution_count": 549
        }
      ]
    },
    {
      "cell_type": "code",
      "metadata": {
        "id": "10CPhyESfCpk",
        "outputId": "112492c2-49f1-4140-b20b-84ffe812fbe5"
      },
      "source": [
        "stats.binom.rvs(m,p, size = [3,2])# genero una matriz de 3x2 de muestras independientes de una variable con distribución bin(3,p)"
      ],
      "execution_count": null,
      "outputs": [
        {
          "output_type": "execute_result",
          "data": {
            "text/plain": [
              "array([[1, 3],\n",
              "       [1, 1],\n",
              "       [4, 1]])"
            ]
          },
          "metadata": {
            "tags": []
          },
          "execution_count": 550
        }
      ]
    },
    {
      "cell_type": "code",
      "metadata": {
        "id": "KA0jCdk1fCpl",
        "outputId": "552d3d34-94e1-416c-8001-1ad0f8954a89"
      },
      "source": [
        "stats.binom.pmf(0, m,p) #me devuelve al valor de la función de probabilidad en 0"
      ],
      "execution_count": null,
      "outputs": [
        {
          "output_type": "execute_result",
          "data": {
            "text/plain": [
              "0.32768"
            ]
          },
          "metadata": {
            "tags": []
          },
          "execution_count": 551
        }
      ]
    },
    {
      "cell_type": "markdown",
      "metadata": {
        "id": "aSNSuX39fCpl"
      },
      "source": [
        "Una vez que obtenemos las muestras, podemos sacar datos muestrales, como la media muestral o el desvío estándar muestral. Por ejemplo puedo generar 100 muestras de una distribución chi cuadraro con `df` grados de libertad"
      ]
    },
    {
      "cell_type": "code",
      "metadata": {
        "id": "SOQ3rCq7fCpl",
        "outputId": "e37b9524-bedd-4ac6-8ef0-a6b72aabc634"
      },
      "source": [
        "x = stats.chi2.rvs(df, size=100) #genero las 10 muestras\n",
        "x.mean() # calculo la media muestral"
      ],
      "execution_count": null,
      "outputs": [
        {
          "output_type": "execute_result",
          "data": {
            "text/plain": [
              "3.032143057598038"
            ]
          },
          "metadata": {
            "tags": []
          },
          "execution_count": 552
        }
      ]
    },
    {
      "cell_type": "code",
      "metadata": {
        "id": "1kqsMxDofCpl",
        "outputId": "5820df23-7d5a-4a9a-a108-a50e0b82dd39"
      },
      "source": [
        "x.std() # calculo el desvio estandar muestral"
      ],
      "execution_count": null,
      "outputs": [
        {
          "output_type": "execute_result",
          "data": {
            "text/plain": [
              "2.37073790419428"
            ]
          },
          "metadata": {
            "tags": []
          },
          "execution_count": 553
        }
      ]
    },
    {
      "cell_type": "markdown",
      "metadata": {
        "id": "eKdQgTbufCpl"
      },
      "source": [
        "#### Gráficos"
      ]
    },
    {
      "cell_type": "markdown",
      "metadata": {
        "id": "XpEZifyBfCpl"
      },
      "source": [
        "Para generar gráficos en Python, la librería básica el Matplotlib, y utilizamos el módulo pyplot"
      ]
    },
    {
      "cell_type": "code",
      "metadata": {
        "id": "wNRGHPqDfCpm"
      },
      "source": [
        "import matplotlib.pyplot as plt"
      ],
      "execution_count": null,
      "outputs": []
    },
    {
      "cell_type": "markdown",
      "metadata": {
        "id": "G-XmmU5SfCpm"
      },
      "source": [
        "La función más común para generar un gráfico es `plot`"
      ]
    },
    {
      "cell_type": "code",
      "metadata": {
        "id": "mEAUqgOUfCpm"
      },
      "source": [
        "t = 0.1*np.arange(100) #genero indices de tiempo con pasos de 0.1\n",
        "x = np.sin(2*np.pi*0.3*t) #genero un seno de frecuencia 0.3Hz"
      ],
      "execution_count": null,
      "outputs": []
    },
    {
      "cell_type": "code",
      "metadata": {
        "colab": {
          "base_uri": "https://localhost:8080/",
          "height": 281
        },
        "id": "jeiGmGSffCpm",
        "outputId": "4515c9ec-a592-48f7-8fa0-55243f629997"
      },
      "source": [
        "plt.plot(t,x)"
      ],
      "execution_count": null,
      "outputs": [
        {
          "output_type": "execute_result",
          "data": {
            "text/plain": [
              "[<matplotlib.lines.Line2D at 0x7fd0586074d0>]"
            ]
          },
          "metadata": {
            "tags": []
          },
          "execution_count": 75
        },
        {
          "output_type": "display_data",
          "data": {
            "image/png": "[encoded data removed]",
            "text/plain": [
              "<Figure size 432x288 with 1 Axes>"
            ]
          },
          "metadata": {
            "tags": [],
            "needs_background": "light"
          }
        }
      ]
    },
    {
      "cell_type": "markdown",
      "metadata": {
        "id": "rlQVxN8AfCpm"
      },
      "source": [
        "Este es el gráfico más simple. Se puede customizar el color, los marcadores, y agregar etiquetas a cada curva. Para agregar curvas al gráfico simplemente llamamos de nuevo a la función `plot`."
      ]
    },
    {
      "cell_type": "code",
      "metadata": {
        "colab": {
          "base_uri": "https://localhost:8080/",
          "height": 265
        },
        "id": "3CpuHLC7fCpm",
        "outputId": "a8faa0d9-258b-4c85-b7bf-2d0ca365c1de"
      },
      "source": [
        "y = np.cos(2*np.pi*0.3*t)\n",
        "plt.plot(t,x)#, label='sin')\n",
        "plt.plot(t,y, color='red', marker='v')#, label='cos')\n",
        "plt.legend(['sin', 'cos']);"
      ],
      "execution_count": null,
      "outputs": [
        {
          "output_type": "display_data",
          "data": {
            "image/png": "[encoded data removed]",
            "text/plain": [
              "<Figure size 432x288 with 1 Axes>"
            ]
          },
          "metadata": {
            "tags": [],
            "needs_background": "light"
          }
        }
      ]
    },
    {
      "cell_type": "markdown",
      "metadata": {
        "id": "gNYpOhzlfCpm"
      },
      "source": [
        "con las funciones `xlabel` y `ylabel` podemos poner nombre a los ejes de coordenadas, mientras que con `title` elegimos un titulo. Con la función `lagend` transformamos las etiquetas de las curvas en leyendas"
      ]
    },
    {
      "cell_type": "code",
      "metadata": {
        "colab": {
          "base_uri": "https://localhost:8080/",
          "height": 312
        },
        "id": "ZD2cuff0fCpn",
        "outputId": "fd2a2c23-eded-4b9a-aefc-f9723204276f"
      },
      "source": [
        "plt.plot(t,x, label='sin')\n",
        "plt.plot(t,y, color='red', marker='v', label='cos')\n",
        "plt.xlabel('t [s]')\n",
        "plt.ylabel('Amplitud')\n",
        "plt.title('Mi gráfico')\n",
        "plt.legend()"
      ],
      "execution_count": null,
      "outputs": [
        {
          "output_type": "execute_result",
          "data": {
            "text/plain": [
              "<matplotlib.legend.Legend at 0x7fd053c78b10>"
            ]
          },
          "metadata": {
            "tags": []
          },
          "execution_count": 78
        },
        {
          "output_type": "display_data",
          "data": {
            "image/png": "[encoded data removed]",
            "text/plain": [
              "<Figure size 432x288 with 1 Axes>"
            ]
          },
          "metadata": {
            "tags": [],
            "needs_background": "light"
          }
        }
      ]
    },
    {
      "cell_type": "markdown",
      "metadata": {
        "id": "zu4vbfSkfCpn"
      },
      "source": [
        "Otra herramienta particularmente útil que trae `pyplot` es el cálculo de histogramas a partir de datos. Esto se hace con la función `hist`, que además de generar el gráfico nos devuelve las alturas de las barras del histograma y los intervalos (*bins*). "
      ]
    },
    {
      "cell_type": "code",
      "metadata": {
        "id": "QkMmuJnPfCpn",
        "outputId": "5fe345ac-5afe-4d41-93fd-beba677804f1"
      },
      "source": [
        "n = 1000\n",
        "chi = stats.chi2.rvs(df, size=n)\n",
        "n, bins, _ = plt.hist(chi, density=True)"
      ],
      "execution_count": null,
      "outputs": [
        {
          "output_type": "display_data",
          "data": {
            "image/png": "[encoded data removed]",
            "text/plain": [
              "<Figure size 432x288 with 1 Axes>"
            ]
          },
          "metadata": {
            "tags": [],
            "needs_background": "light"
          }
        }
      ]
    },
    {
      "cell_type": "code",
      "metadata": {
        "colab": {
          "base_uri": "https://localhost:8080/",
          "height": 281
        },
        "id": "vd3CshgYpXsI",
        "outputId": "645c9cb8-0074-4a7c-a089-96001da0f337"
      },
      "source": [
        "norm = np.random.normal(5,3, 3000)\n",
        "plt.hist(norm, density=True,bins=20)\n",
        "x = np.linspace(-3,13,1000)\n",
        "plt.plot(x, stats.norm.pdf(x,5,3))"
      ],
      "execution_count": null,
      "outputs": [
        {
          "output_type": "execute_result",
          "data": {
            "text/plain": [
              "[<matplotlib.lines.Line2D at 0x7fd0536e2150>]"
            ]
          },
          "metadata": {
            "tags": []
          },
          "execution_count": 85
        },
        {
          "output_type": "display_data",
          "data": {
            "image/png": "[encoded data removed]",
            "text/plain": [
              "<Figure size 432x288 with 1 Axes>"
            ]
          },
          "metadata": {
            "tags": [],
            "needs_background": "light"
          }
        }
      ]
    },
    {
      "cell_type": "markdown",
      "metadata": {
        "id": "cnZeS33SfCpn"
      },
      "source": [
        "Este es el histograma generado automáticamente con 10 bins, lógicamente también podemos indicarle cuantos bins queremos o incluso cuáles queremos que sean los límites de dichos bins. Notar que para que los que obtengamos se corresponda con una densidad, a la función `hist` le pasamos el parámetro `density=True`, sino devuelve la cantidad de muestras en cada intervalo del histograma. \n",
        "\n",
        "Obsérvese, que la función histograma en verdad de vuelve 3 elementos, como el tercero no lo quiero simplemente reemplazo el nombre de la variable por `_`. Esto puede hacerse con cualquier función que devuelva más de un resultado y solo estemos interesados en un subconjunto de los mismos."
      ]
    },
    {
      "cell_type": "code",
      "metadata": {
        "id": "w8GI3krefCpn",
        "outputId": "8c6f9798-8170-475b-c5c6-6d89bb3355d0"
      },
      "source": [
        "n,bins, _ = plt.hist(chi, density=True, bins=20) # si a bins le paso un entero, es a cantidad de bins a usar"
      ],
      "execution_count": null,
      "outputs": [
        {
          "output_type": "display_data",
          "data": {
            "image/png": "[encoded data removed]",
            "text/plain": [
              "<Figure size 432x288 with 1 Axes>"
            ]
          },
          "metadata": {
            "tags": [],
            "needs_background": "light"
          }
        }
      ]
    },
    {
      "cell_type": "code",
      "metadata": {
        "id": "4N7_K5nSfCpn",
        "outputId": "d1d49d33-d389-4984-9c30-d1611426f00f"
      },
      "source": [
        "n, bins,_ = plt.hist(chi, density=True, bins=np.array([0,0.5,1,1.5,2,2.5,3,3.5,4,5,6,7,8,9,10]))\n",
        "# si bins es un array, indica los límites de cada bin. Aca no es necesario que tengan igual longitud."
      ],
      "execution_count": null,
      "outputs": [
        {
          "output_type": "display_data",
          "data": {
            "image/png": "[encoded data removed]",
            "text/plain": [
              "<Figure size 432x288 with 1 Axes>"
            ]
          },
          "metadata": {
            "tags": [],
            "needs_background": "light"
          }
        }
      ]
    },
    {
      "cell_type": "markdown",
      "metadata": {
        "id": "NM3h0_u_fCpo"
      },
      "source": [
        "#### Comentarios finales\n",
        "\n",
        "Este informe es super básico, y existe una cantidad gigante de cosas que se pueden hacer con Python. No tratamos cómo importar datos en nuestro código, que si bien es super importante, queda para una segunda version. "
      ]
    },
    {
      "cell_type": "code",
      "metadata": {
        "colab": {
          "base_uri": "https://localhost:8080/"
        },
        "id": "XuybE-P5fCpo",
        "outputId": "8630a4ad-10e3-4699-a869-785babb86a71"
      },
      "source": [
        "p3 = stats.binom.pmf(3,n=10,p=0.5)\n",
        "p3"
      ],
      "execution_count": null,
      "outputs": [
        {
          "output_type": "execute_result",
          "data": {
            "text/plain": [
              "0.11718750000000014"
            ]
          },
          "metadata": {
            "tags": []
          },
          "execution_count": 87
        }
      ]
    },
    {
      "cell_type": "code",
      "metadata": {
        "colab": {
          "base_uri": "https://localhost:8080/"
        },
        "id": "s7ZDjIMqr58W",
        "outputId": "fa8d982c-bc87-4dcb-fd83-9bbace55715e"
      },
      "source": [
        "1-stats.binom.cdf(2, n=10, p=0.4 )"
      ],
      "execution_count": null,
      "outputs": [
        {
          "output_type": "execute_result",
          "data": {
            "text/plain": [
              "0.8327102464"
            ]
          },
          "metadata": {
            "tags": []
          },
          "execution_count": 90
        }
      ]
    },
    {
      "cell_type": "code",
      "metadata": {
        "colab": {
          "base_uri": "https://localhost:8080/"
        },
        "id": "cntiqybjtbp5",
        "outputId": "e76c9549-799d-4088-da7d-463bfa2592bc"
      },
      "source": [
        "n= 60000\n",
        "u = np.random.rand(n,11)\n",
        "m = u<0.4\n",
        "n_gT1 = np.sum(m[m[:,0]==True,1:], axis=1)\n",
        "n_gT1.shape\n",
        "print(np.sum(n_gT1>=3)/len(n_gT1))\n",
        "\n",
        "n_T = np.sum(m[:,1:],axis=1 )\n",
        "print(np.sum(n_T>=3)/n)"
      ],
      "execution_count": null,
      "outputs": [
        {
          "output_type": "stream",
          "text": [
            "0.834115740933073\n",
            "0.8329166666666666\n"
          ],
          "name": "stdout"
        }
      ]
    },
    {
      "cell_type": "code",
      "metadata": {
        "colab": {
          "base_uri": "https://localhost:8080/"
        },
        "id": "l7t3iv51xF73",
        "outputId": "5d623f40-f185-4b11-f17c-1842c186c2ce"
      },
      "source": [
        "(1-stats.uniform.cdf(0.7))*(stats.uniform.cdf(0.4))"
      ],
      "execution_count": null,
      "outputs": [
        {
          "output_type": "execute_result",
          "data": {
            "text/plain": [
              "0.12000000000000002"
            ]
          },
          "metadata": {
            "tags": []
          },
          "execution_count": 111
        }
      ]
    },
    {
      "cell_type": "code",
      "metadata": {
        "colab": {
          "base_uri": "https://localhost:8080/"
        },
        "id": "Vx_L-7ncxv0L",
        "outputId": "194024f4-0a33-4886-fc03-5c59063b8e77"
      },
      "source": [
        "stats.norm.ppf(0.6)"
      ],
      "execution_count": null,
      "outputs": [
        {
          "output_type": "execute_result",
          "data": {
            "text/plain": [
              "0.2533471031357997"
            ]
          },
          "metadata": {
            "tags": []
          },
          "execution_count": 114
        }
      ]
    },
    {
      "cell_type": "code",
      "metadata": {
        "id": "6C6sesDJEB3e"
      },
      "source": [
        "import numpy as np\n",
        "import scipy.stats as stats\n",
        "import matplotlib.pyplot as plt"
      ],
      "execution_count": null,
      "outputs": []
    },
    {
      "cell_type": "code",
      "metadata": {
        "id": "JuN-sI7uEDc8"
      },
      "source": [
        "u = np.random.rand(1000)\n",
        "t = -np.log(1-u)"
      ],
      "execution_count": null,
      "outputs": []
    },
    {
      "cell_type": "code",
      "metadata": {
        "colab": {
          "base_uri": "https://localhost:8080/",
          "height": 281
        },
        "id": "bwcagKjZESFx",
        "outputId": "35094704-30b6-4ba2-ebbd-7d6d9b260f14"
      },
      "source": [
        "plt.hist(t,bins=15, density=True)\n",
        "plt.plot(np.linspace(0,5,1000),stats.expon.pdf(np.linspace(0,5,1000)))"
      ],
      "execution_count": null,
      "outputs": [
        {
          "output_type": "execute_result",
          "data": {
            "text/plain": [
              "[<matplotlib.lines.Line2D at 0x7fd0534fac90>]"
            ]
          },
          "metadata": {
            "tags": []
          },
          "execution_count": 119
        },
        {
          "output_type": "display_data",
          "data": {
            "image/png": "[encoded data removed]",
            "text/plain": [
              "<Figure size 432x288 with 1 Axes>"
            ]
          },
          "metadata": {
            "tags": [],
            "needs_background": "light"
          }
        }
      ]
    }
  ]
}