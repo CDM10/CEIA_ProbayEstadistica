{
 "cells": [
  {
   "cell_type": "code",
   "execution_count": 1,
   "id": "294f5393-5113-46a9-9c0f-7956da76c14a",
   "metadata": {},
   "outputs": [],
   "source": [
    "import scipy.stats as stats # para cosas de estadistica como calculo de probas, cuantiles y generación de valores aleatorios\n",
    "import numpy as np # Operaciones matemáticas y matriciales en general"
   ]
  },
  {
   "cell_type": "markdown",
   "id": "bdb42149-53c4-4cad-8d98-d11d5f068118",
   "metadata": {},
   "source": [
    "# Ejercicio 4"
   ]
  },
  {
   "cell_type": "code",
   "execution_count": 4,
   "id": "a04b6e1f-fe94-4e8d-aadb-9832eaa93f2c",
   "metadata": {},
   "outputs": [],
   "source": [
    "u = stats.uniform.rvs(size=1000)#simulamos 1000 realizaciones de una v.a. uniforme(0,1)\n"
   ]
  },
  {
   "cell_type": "code",
   "execution_count": 11,
   "id": "d3d356bd-3fb3-40e0-b209-4aa8dd338252",
   "metadata": {},
   "outputs": [],
   "source": [
    "x = np.ceil(u*6) #Simulamos 1000 resultados obtenidos de lanzar un dado equilibrado\n"
   ]
  },
  {
   "cell_type": "markdown",
   "id": "4bae77aa-4c0d-4168-8bfa-97648ab99665",
   "metadata": {},
   "source": []
  },
  {
   "cell_type": "code",
   "execution_count": 10,
   "id": "f76769f0-c6d5-416d-ad63-86b6ed1480a8",
   "metadata": {},
   "outputs": [
    {
     "data": {
      "text/plain": [
       "0.175"
      ]
     },
     "execution_count": 10,
     "metadata": {},
     "output_type": "execute_result"
    }
   ],
   "source": [
    "sum(x == 3) /1000"
   ]
  },
  {
   "cell_type": "markdown",
   "id": "62460a4d-f231-4bdf-930c-ec2c950bd794",
   "metadata": {
    "tags": []
   },
   "source": [
    "# Ejercicio 5"
   ]
  },
  {
   "cell_type": "markdown",
   "id": "2debefc2-26e1-4b3a-adfb-841d1fcfe4ee",
   "metadata": {},
   "source": [
    "## X $\\sim$ Exp(1/5)"
   ]
  },
  {
   "cell_type": "code",
   "execution_count": 13,
   "id": "4dc94c23-80f6-40cc-a5f6-65869457f7db",
   "metadata": {},
   "outputs": [],
   "source": [
    "u = stats.uniform.rvs(size=1000)"
   ]
  },
  {
   "cell_type": "code",
   "execution_count": 15,
   "id": "5ae9a7a9-0b79-4152-a870-b07f3aa741a8",
   "metadata": {},
   "outputs": [],
   "source": [
    "x = -np.log(1-u)*5\n"
   ]
  },
  {
   "cell_type": "markdown",
   "id": "7941e011-645f-4768-9c3a-317f04ede7e5",
   "metadata": {},
   "source": [
    "## a) P(X > 2) "
   ]
  },
  {
   "cell_type": "code",
   "execution_count": 16,
   "id": "1cbfd396-6125-4fab-85b3-386a06b689a0",
   "metadata": {},
   "outputs": [
    {
     "data": {
      "text/plain": [
       "0.668"
      ]
     },
     "execution_count": 16,
     "metadata": {},
     "output_type": "execute_result"
    }
   ],
   "source": [
    "sum(x > 2) /1000"
   ]
  },
  {
   "cell_type": "markdown",
   "id": "14f48894-9de6-4712-af8a-89b68b3a3f16",
   "metadata": {},
   "source": [
    "## b) P(X > 5 | X > 3) "
   ]
  },
  {
   "cell_type": "code",
   "execution_count": 17,
   "id": "2593da4d-90cf-47eb-b49f-dccc3aff5a41",
   "metadata": {},
   "outputs": [
    {
     "data": {
      "text/plain": [
       "0.7019748653500898"
      ]
     },
     "execution_count": 17,
     "metadata": {},
     "output_type": "execute_result"
    }
   ],
   "source": [
    "sum(x > 5) / sum(x > 3)"
   ]
  },
  {
   "cell_type": "code",
   "execution_count": null,
   "id": "0cf54a3f-9e46-4ef1-b362-d05dd7bea5d2",
   "metadata": {},
   "outputs": [],
   "source": []
  }
 ],
 "metadata": {
  "kernelspec": {
   "display_name": "Python 3 (ipykernel)",
   "language": "python",
   "name": "python3"
  },
  "language_info": {
   "codemirror_mode": {
    "name": "ipython",
    "version": 3
   },
   "file_extension": ".py",
   "mimetype": "text/x-python",
   "name": "python",
   "nbconvert_exporter": "python",
   "pygments_lexer": "ipython3",
   "version": "3.9.12"
  }
 },
 "nbformat": 4,
 "nbformat_minor": 5
}
