{
 "cells": [
  {
   "cell_type": "code",
   "execution_count": 3,
   "id": "506d20bb-ea34-401a-aa0c-ad683f5dfba2",
   "metadata": {},
   "outputs": [],
   "source": [
    "import scipy.stats as stats # para cosas de estadistica como calculo de probas, cuantiles y generación de valores aleatorios\n",
    "import numpy as np # Operaciones matemáticas y matriciales en general"
   ]
  },
  {
   "cell_type": "markdown",
   "id": "b9473b3d-af00-4f8e-9932-5c3eed695d46",
   "metadata": {},
   "source": [
    "# Ejercicio 4"
   ]
  },
  {
   "cell_type": "code",
   "execution_count": 6,
   "id": "c97ab5a8-66de-457e-9bf3-cb5671f7b30f",
   "metadata": {},
   "outputs": [],
   "source": [
    "u = stats.uniform.rvs(size = 1000)\n"
   ]
  },
  {
   "cell_type": "code",
   "execution_count": 8,
   "id": "76c95620-def8-4de2-9f96-5bbd8a37f33f",
   "metadata": {},
   "outputs": [],
   "source": [
    "x = np.ceil(u*6)\n"
   ]
  },
  {
   "cell_type": "markdown",
   "id": "e9cecbba-79a3-496f-931d-8c96a53cb790",
   "metadata": {},
   "source": [
    "# Ejercicio 5"
   ]
  },
  {
   "cell_type": "markdown",
   "id": "81ab838f-c62e-469c-9099-64c088a55f9d",
   "metadata": {},
   "source": [
    "#  X $\\sim$ Exp(1/5)"
   ]
  },
  {
   "cell_type": "code",
   "execution_count": 9,
   "id": "b0581625-557e-4a1a-86fe-58ba66ad555b",
   "metadata": {},
   "outputs": [],
   "source": [
    "u = stats.uniform.rvs(size = 1000)"
   ]
  },
  {
   "cell_type": "code",
   "execution_count": 12,
   "id": "5a349429-5030-40be-a9df-d9b326477666",
   "metadata": {},
   "outputs": [],
   "source": [
    "x = -np.log(1-u)*5"
   ]
  },
  {
   "cell_type": "markdown",
   "id": "40651cc8-2688-41fd-8ca5-338dae7e0600",
   "metadata": {},
   "source": [
    "# a) P(X > 2)"
   ]
  },
  {
   "cell_type": "code",
   "execution_count": 13,
   "id": "98ae5381-6550-4c3d-8df5-8b3caee19ecd",
   "metadata": {},
   "outputs": [
    {
     "data": {
      "text/plain": [
       "0.673"
      ]
     },
     "execution_count": 13,
     "metadata": {},
     "output_type": "execute_result"
    }
   ],
   "source": [
    "sum(x>2)/1000"
   ]
  }
 ],
 "metadata": {
  "kernelspec": {
   "display_name": "Python 3 (ipykernel)",
   "language": "python",
   "name": "python3"
  },
  "language_info": {
   "codemirror_mode": {
    "name": "ipython",
    "version": 3
   },
   "file_extension": ".py",
   "mimetype": "text/x-python",
   "name": "python",
   "nbconvert_exporter": "python",
   "pygments_lexer": "ipython3",
   "version": "3.9.12"
  }
 },
 "nbformat": 4,
 "nbformat_minor": 5
}
