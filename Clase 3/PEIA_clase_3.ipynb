{
  "nbformat": 4,
  "nbformat_minor": 0,
  "metadata": {
    "colab": {
      "name": "PyE - clase 3",
      "provenance": []
    },
    "kernelspec": {
      "name": "python3",
      "display_name": "Python 3"
    },
    "language_info": {
      "name": "python"
    }
  },
  "cells": [
    {
      "cell_type": "code",
      "metadata": {
        "id": "74l5YjPLslsT"
      },
      "source": [
        "import numpy as np\n",
        "import matplotlib.pyplot as plt"
      ],
      "execution_count": null,
      "outputs": []
    },
    {
      "cell_type": "code",
      "metadata": {
        "id": "xS790hcetaWO"
      },
      "source": [
        "XY = np.random.uniform(size=(10000,2))"
      ],
      "execution_count": null,
      "outputs": []
    },
    {
      "cell_type": "code",
      "metadata": {
        "id": "MR3LXhF8uSRr"
      },
      "source": [
        "W = np.sum(XY, axis=1)"
      ],
      "execution_count": null,
      "outputs": []
    },
    {
      "cell_type": "code",
      "metadata": {
        "colab": {
          "base_uri": "https://localhost:8080/",
          "height": 398
        },
        "id": "Ro_HgMGeuTEI",
        "outputId": "35cc3eaf-34f3-45cd-8e0e-8cd0d42f015a"
      },
      "source": [
        "plt.hist(W,20)"
      ],
      "execution_count": null,
      "outputs": [
        {
          "output_type": "execute_result",
          "data": {
            "text/plain": [
              "(array([ 66., 179., 245., 335., 479., 536., 659., 709., 863., 947., 915.,\n",
              "        834., 774., 674., 542., 448., 348., 245., 151.,  51.]),\n",
              " array([0.01405026, 0.11300461, 0.21195896, 0.31091331, 0.40986766,\n",
              "        0.50882201, 0.60777636, 0.70673071, 0.80568506, 0.9046394 ,\n",
              "        1.00359375, 1.1025481 , 1.20150245, 1.3004568 , 1.39941115,\n",
              "        1.4983655 , 1.59731985, 1.6962742 , 1.79522855, 1.8941829 ,\n",
              "        1.99313725]),\n",
              " <a list of 20 Patch objects>)"
            ]
          },
          "metadata": {
            "tags": []
          },
          "execution_count": 23
        },
        {
          "output_type": "display_data",
          "data": {
            "image/png": "[encoded data removed]",
            "text/plain": [
              "<Figure size 432x288 with 1 Axes>"
            ]
          },
          "metadata": {
            "tags": [],
            "needs_background": "light"
          }
        }
      ]
    },
    {
      "cell_type": "code",
      "metadata": {
        "colab": {
          "base_uri": "https://localhost:8080/"
        },
        "id": "aqOLCT4Hujdy",
        "outputId": "96921606-6fa0-4599-aee1-c45ba1a0b160"
      },
      "source": [
        "A = np.array([[1,1],[1,-1]])\n",
        "np.linalg.inv(A)"
      ],
      "execution_count": null,
      "outputs": [
        {
          "output_type": "execute_result",
          "data": {
            "text/plain": [
              "array([[ 0.5,  0.5],\n",
              "       [ 0.5, -0.5]])"
            ]
          },
          "metadata": {
            "tags": []
          },
          "execution_count": 24
        }
      ]
    },
    {
      "cell_type": "code",
      "metadata": {
        "id": "W6sXHF2pzTF9"
      },
      "source": [
        ""
      ],
      "execution_count": null,
      "outputs": []
    }
  ]
}