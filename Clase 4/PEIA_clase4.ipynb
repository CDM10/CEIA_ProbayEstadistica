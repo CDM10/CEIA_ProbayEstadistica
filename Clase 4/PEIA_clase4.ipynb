{
  "nbformat": 4,
  "nbformat_minor": 0,
  "metadata": {
    "colab": {
      "name": "PEIA_clase4.ipynb",
      "provenance": []
    },
    "kernelspec": {
      "name": "python3",
      "display_name": "Python 3"
    },
    "language_info": {
      "name": "python"
    }
  },
  "cells": [
    {
      "cell_type": "code",
      "metadata": {
        "id": "iaSHQ_vn25w0"
      },
      "source": [
        "import numpy as np\n",
        "import pandas as pd\n",
        "import matplotlib.pyplot as plt\n",
        "import seaborn as sns"
      ],
      "execution_count": 1,
      "outputs": []
    },
    {
      "cell_type": "code",
      "metadata": {
        "colab": {
          "base_uri": "https://localhost:8080/"
        },
        "id": "zQpst9Hq4AZF",
        "outputId": "af4c9dce-74a0-45fb-e2d9-316887668795"
      },
      "source": [
        "np.max(np.random.uniform(0,3,size = 10))\n"
      ],
      "execution_count": 20,
      "outputs": [
        {
          "output_type": "execute_result",
          "data": {
            "text/plain": [
              "2.298610453292455"
            ]
          },
          "metadata": {
            "tags": []
          },
          "execution_count": 20
        }
      ]
    },
    {
      "cell_type": "code",
      "metadata": {
        "colab": {
          "base_uri": "https://localhost:8080/",
          "height": 205
        },
        "id": "XuXGfC8j_XlM",
        "outputId": "cb5088f9-4a9d-4af8-96fb-295406772045"
      },
      "source": [
        "data = pd.read_csv('Islander_data.csv')\n",
        "data.tail()"
      ],
      "execution_count": 22,
      "outputs": [
        {
          "output_type": "execute_result",
          "data": {
            "text/html": [
              "<div>\n",
              "<style scoped>\n",
              "    .dataframe tbody tr th:only-of-type {\n",
              "        vertical-align: middle;\n",
              "    }\n",
              "\n",
              "    .dataframe tbody tr th {\n",
              "        vertical-align: top;\n",
              "    }\n",
              "\n",
              "    .dataframe thead th {\n",
              "        text-align: right;\n",
              "    }\n",
              "</style>\n",
              "<table border=\"1\" class=\"dataframe\">\n",
              "  <thead>\n",
              "    <tr style=\"text-align: right;\">\n",
              "      <th></th>\n",
              "      <th>first_name</th>\n",
              "      <th>last_name</th>\n",
              "      <th>age</th>\n",
              "      <th>Happy_Sad_group</th>\n",
              "      <th>Dosage</th>\n",
              "      <th>Drug</th>\n",
              "      <th>Mem_Score_Before</th>\n",
              "      <th>Mem_Score_After</th>\n",
              "      <th>Diff</th>\n",
              "    </tr>\n",
              "  </thead>\n",
              "  <tbody>\n",
              "    <tr>\n",
              "      <th>193</th>\n",
              "      <td>Jacob</td>\n",
              "      <td>Novak</td>\n",
              "      <td>52</td>\n",
              "      <td>H</td>\n",
              "      <td>3</td>\n",
              "      <td>T</td>\n",
              "      <td>71.3</td>\n",
              "      <td>74.3</td>\n",
              "      <td>3.0</td>\n",
              "    </tr>\n",
              "    <tr>\n",
              "      <th>194</th>\n",
              "      <td>Teo</td>\n",
              "      <td>Steiner</td>\n",
              "      <td>41</td>\n",
              "      <td>S</td>\n",
              "      <td>3</td>\n",
              "      <td>T</td>\n",
              "      <td>72.5</td>\n",
              "      <td>70.4</td>\n",
              "      <td>-2.1</td>\n",
              "    </tr>\n",
              "    <tr>\n",
              "      <th>195</th>\n",
              "      <td>Alexander</td>\n",
              "      <td>Takahashi</td>\n",
              "      <td>54</td>\n",
              "      <td>S</td>\n",
              "      <td>3</td>\n",
              "      <td>T</td>\n",
              "      <td>30.8</td>\n",
              "      <td>33.1</td>\n",
              "      <td>2.3</td>\n",
              "    </tr>\n",
              "    <tr>\n",
              "      <th>196</th>\n",
              "      <td>Alexandere</td>\n",
              "      <td>Takahashi</td>\n",
              "      <td>40</td>\n",
              "      <td>H</td>\n",
              "      <td>3</td>\n",
              "      <td>T</td>\n",
              "      <td>53.6</td>\n",
              "      <td>53.8</td>\n",
              "      <td>0.2</td>\n",
              "    </tr>\n",
              "    <tr>\n",
              "      <th>197</th>\n",
              "      <td>Chloe</td>\n",
              "      <td>Takahashi</td>\n",
              "      <td>32</td>\n",
              "      <td>S</td>\n",
              "      <td>3</td>\n",
              "      <td>T</td>\n",
              "      <td>43.1</td>\n",
              "      <td>42.1</td>\n",
              "      <td>-1.0</td>\n",
              "    </tr>\n",
              "  </tbody>\n",
              "</table>\n",
              "</div>"
            ],
            "text/plain": [
              "     first_name  last_name  age  ... Mem_Score_Before  Mem_Score_After Diff\n",
              "193       Jacob      Novak   52  ...             71.3             74.3  3.0\n",
              "194         Teo    Steiner   41  ...             72.5             70.4 -2.1\n",
              "195   Alexander  Takahashi   54  ...             30.8             33.1  2.3\n",
              "196  Alexandere  Takahashi   40  ...             53.6             53.8  0.2\n",
              "197       Chloe  Takahashi   32  ...             43.1             42.1 -1.0\n",
              "\n",
              "[5 rows x 9 columns]"
            ]
          },
          "metadata": {
            "tags": []
          },
          "execution_count": 22
        }
      ]
    },
    {
      "cell_type": "code",
      "metadata": {
        "colab": {
          "base_uri": "https://localhost:8080/",
          "height": 300
        },
        "id": "nkh-gFr_I_Ok",
        "outputId": "917410e3-cd59-4a23-b4ab-59d0fd8f4202"
      },
      "source": [
        "sns.ecdfplot(data.Diff)"
      ],
      "execution_count": 23,
      "outputs": [
        {
          "output_type": "execute_result",
          "data": {
            "text/plain": [
              "<matplotlib.axes._subplots.AxesSubplot at 0x7fba45f72f50>"
            ]
          },
          "metadata": {
            "tags": []
          },
          "execution_count": 23
        },
        {
          "output_type": "display_data",
          "data": {
            "image/png": "[encoded data removed]",
            "text/plain": [
              "<Figure size 432x288 with 1 Axes>"
            ]
          },
          "metadata": {
            "tags": [],
            "needs_background": "light"
          }
        }
      ]
    },
    {
      "cell_type": "code",
      "metadata": {
        "id": "SYfjYT4cJmlU"
      },
      "source": [
        "x = np.random.binomial(5,0.3,size=100)"
      ],
      "execution_count": 24,
      "outputs": []
    },
    {
      "cell_type": "code",
      "metadata": {
        "colab": {
          "base_uri": "https://localhost:8080/",
          "height": 286
        },
        "id": "LraGqg-7Kfib",
        "outputId": "bc1d2957-a2ad-4250-8c1b-83a73caa9f42"
      },
      "source": [
        "sns.ecdfplot(x)"
      ],
      "execution_count": 25,
      "outputs": [
        {
          "output_type": "execute_result",
          "data": {
            "text/plain": [
              "<matplotlib.axes._subplots.AxesSubplot at 0x7fba463efe10>"
            ]
          },
          "metadata": {
            "tags": []
          },
          "execution_count": 25
        },
        {
          "output_type": "display_data",
          "data": {
            "image/png": "[encoded data removed]",
            "text/plain": [
              "<Figure size 432x288 with 1 Axes>"
            ]
          },
          "metadata": {
            "tags": [],
            "needs_background": "light"
          }
        }
      ]
    },
    {
      "cell_type": "code",
      "metadata": {
        "colab": {
          "base_uri": "https://localhost:8080/"
        },
        "id": "hiyedTPqKkH5",
        "outputId": "c738e2ce-a734-4456-8426-be3ca82c572b"
      },
      "source": [
        "(25.5+7.9)/5"
      ],
      "execution_count": 32,
      "outputs": [
        {
          "output_type": "execute_result",
          "data": {
            "text/plain": [
              "6.68"
            ]
          },
          "metadata": {
            "tags": []
          },
          "execution_count": 32
        }
      ]
    },
    {
      "cell_type": "code",
      "metadata": {
        "colab": {
          "base_uri": "https://localhost:8080/",
          "height": 296
        },
        "id": "t9SuP1ogLwWN",
        "outputId": "7d350861-ab9b-4f3b-86be-f8596278ce96"
      },
      "source": [
        "sns.histplot(data.Diff, stat='density', kde=True)"
      ],
      "execution_count": 40,
      "outputs": [
        {
          "output_type": "execute_result",
          "data": {
            "text/plain": [
              "<matplotlib.axes._subplots.AxesSubplot at 0x7fba3ec71890>"
            ]
          },
          "metadata": {
            "tags": []
          },
          "execution_count": 40
        },
        {
          "output_type": "display_data",
          "data": {
            "image/png": "[encoded data removed]",
            "text/plain": [
              "<Figure size 432x288 with 1 Axes>"
            ]
          },
          "metadata": {
            "tags": [],
            "needs_background": "light"
          }
        }
      ]
    },
    {
      "cell_type": "code",
      "metadata": {
        "colab": {
          "base_uri": "https://localhost:8080/",
          "height": 296
        },
        "id": "reYMy8_BMzim",
        "outputId": "366ef330-728e-401e-c1f4-69e512be1268"
      },
      "source": [
        "sns.kdeplot(data.Diff)"
      ],
      "execution_count": 39,
      "outputs": [
        {
          "output_type": "execute_result",
          "data": {
            "text/plain": [
              "<matplotlib.axes._subplots.AxesSubplot at 0x7fba3ecb1290>"
            ]
          },
          "metadata": {
            "tags": []
          },
          "execution_count": 39
        },
        {
          "output_type": "display_data",
          "data": {
            "image/png": "[encoded data removed]",
            "text/plain": [
              "<Figure size 432x288 with 1 Axes>"
            ]
          },
          "metadata": {
            "tags": [],
            "needs_background": "light"
          }
        }
      ]
    }
  ]
}