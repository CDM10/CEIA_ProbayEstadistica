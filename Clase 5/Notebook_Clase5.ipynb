{
  "nbformat": 4,
  "nbformat_minor": 0,
  "metadata": {
    "colab": {
      "name": "Notebook Clase5.ipynb",
      "provenance": []
    },
    "kernelspec": {
      "name": "python3",
      "display_name": "Python 3"
    },
    "language_info": {
      "name": "python"
    }
  },
  "cells": [
    {
      "cell_type": "code",
      "metadata": {
        "id": "goWv7W_OzjLv"
      },
      "source": [
        "from scipy import stats\n",
        "import numpy as np"
      ],
      "execution_count": 1,
      "outputs": []
    },
    {
      "cell_type": "code",
      "metadata": {
        "colab": {
          "base_uri": "https://localhost:8080/"
        },
        "id": "RUF7kHDjzoNQ",
        "outputId": "fb480766-c92d-46a1-d13a-38a597543e9c"
      },
      "source": [
        "z975 = stats.norm.ppf(0.975)\n",
        "z975"
      ],
      "execution_count": 3,
      "outputs": [
        {
          "output_type": "execute_result",
          "data": {
            "text/plain": [
              "1.959963984540054"
            ]
          },
          "metadata": {
            "tags": []
          },
          "execution_count": 3
        }
      ]
    },
    {
      "cell_type": "markdown",
      "metadata": {
        "id": "BwvEvu0N20SZ"
      },
      "source": [
        "Simulo las 20 muestras con $\\mu$=1000"
      ]
    },
    {
      "cell_type": "code",
      "metadata": {
        "colab": {
          "base_uri": "https://localhost:8080/"
        },
        "id": "KutANyBmz2l2",
        "outputId": "a1d1db38-3c26-4d9a-c745-c516f7f2fff1"
      },
      "source": [
        "X = stats.norm.rvs(loc=1000, scale=10, size=20)\n",
        "X"
      ],
      "execution_count": 8,
      "outputs": [
        {
          "output_type": "execute_result",
          "data": {
            "text/plain": [
              "array([ 998.27136885, 1000.91668134, 1001.5380833 , 1010.74918525,\n",
              "        989.5397595 , 1002.36177854,  999.08576773, 1000.93673887,\n",
              "        981.24020319, 1000.52353417,  997.89437655, 1006.44989171,\n",
              "       1008.05178729,  996.45286221, 1012.40745418, 1005.62089348,\n",
              "       1003.59434762,  992.23494143,  981.71193071, 1012.9971536 ])"
            ]
          },
          "metadata": {
            "tags": []
          },
          "execution_count": 8
        }
      ]
    },
    {
      "cell_type": "code",
      "metadata": {
        "colab": {
          "base_uri": "https://localhost:8080/"
        },
        "id": "cPSluX2m3Ghu",
        "outputId": "ad320d1e-8483-4fc5-c8d4-085f3c337aa4"
      },
      "source": [
        "X.mean() - z975*10/np.sqrt(20)"
      ],
      "execution_count": 9,
      "outputs": [
        {
          "output_type": "execute_result",
          "data": {
            "text/plain": [
              "995.7463242727988"
            ]
          },
          "metadata": {
            "tags": []
          },
          "execution_count": 9
        }
      ]
    },
    {
      "cell_type": "code",
      "metadata": {
        "colab": {
          "base_uri": "https://localhost:8080/"
        },
        "id": "IFBFmlQv3Jt1",
        "outputId": "991b63b1-baf1-4d59-ba3b-00ec677909e5"
      },
      "source": [
        "X.mean() + z975*10/np.sqrt(20)"
      ],
      "execution_count": 10,
      "outputs": [
        {
          "output_type": "execute_result",
          "data": {
            "text/plain": [
              "1004.5115496785645"
            ]
          },
          "metadata": {
            "tags": []
          },
          "execution_count": 10
        }
      ]
    },
    {
      "cell_type": "markdown",
      "metadata": {
        "id": "ZEaO2RWa_4iK"
      },
      "source": [
        "Simulo 20 uniformes(0,$\\theta$) con $\\theta=3$"
      ]
    },
    {
      "cell_type": "code",
      "metadata": {
        "colab": {
          "base_uri": "https://localhost:8080/"
        },
        "id": "fH0X3vpv32RJ",
        "outputId": "318fa88d-7f76-425e-b6b4-a984ccdc18e2"
      },
      "source": [
        "T = stats.uniform.rvs(loc=0, scale=3,size=20)\n",
        "T"
      ],
      "execution_count": 15,
      "outputs": [
        {
          "output_type": "execute_result",
          "data": {
            "text/plain": [
              "array([2.51342563, 1.69176293, 2.87363287, 2.98268304, 2.10784955,\n",
              "       0.0464013 , 1.83733013, 2.65923718, 0.23574807, 0.00475715,\n",
              "       1.49091799, 1.02372338, 2.9122948 , 2.73869443, 2.8473332 ,\n",
              "       1.77776481, 1.15453645, 1.39650264, 2.90638349, 1.27769914])"
            ]
          },
          "metadata": {
            "tags": []
          },
          "execution_count": 15
        }
      ]
    },
    {
      "cell_type": "code",
      "metadata": {
        "colab": {
          "base_uri": "https://localhost:8080/"
        },
        "id": "5w8QBQvBAOSH",
        "outputId": "bd0707de-f356-4e36-ed47-3ef181143e61"
      },
      "source": [
        "T.max()"
      ],
      "execution_count": 16,
      "outputs": [
        {
          "output_type": "execute_result",
          "data": {
            "text/plain": [
              "2.982683043344648"
            ]
          },
          "metadata": {
            "tags": []
          },
          "execution_count": 16
        }
      ]
    },
    {
      "cell_type": "code",
      "metadata": {
        "colab": {
          "base_uri": "https://localhost:8080/"
        },
        "id": "aWk5dTLSAZGc",
        "outputId": "fbb2fab8-201f-4f18-9de3-82aa83862ca7"
      },
      "source": [
        "T.max()/(0.05)**(1/20)"
      ],
      "execution_count": 18,
      "outputs": [
        {
          "output_type": "execute_result",
          "data": {
            "text/plain": [
              "3.4646439084564356"
            ]
          },
          "metadata": {
            "tags": []
          },
          "execution_count": 18
        }
      ]
    }
  ]
}